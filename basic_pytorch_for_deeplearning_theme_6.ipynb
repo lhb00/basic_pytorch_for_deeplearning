{
  "nbformat": 4,
  "nbformat_minor": 0,
  "metadata": {
    "colab": {
      "name": "basic_pytorch_for_deeplearning_theme 6",
      "provenance": [],
      "collapsed_sections": [],
      "authorship_tag": "ABX9TyMeArNWESqYSxXyt7RnFZPa",
      "include_colab_link": true
    },
    "kernelspec": {
      "name": "python3",
      "display_name": "Python 3"
    },
    "language_info": {
      "name": "python"
    },
    "accelerator": "GPU",
    "gpuClass": "standard"
  },
  "cells": [
    {
      "cell_type": "markdown",
      "metadata": {
        "id": "view-in-github",
        "colab_type": "text"
      },
      "source": [
        "<a href=\"https://colab.research.google.com/github/lhb00/basic_pytorch_for_deeplearning/blob/main/basic_pytorch_for_deeplearning_theme_6.ipynb\" target=\"_parent\"><img src=\"https://colab.research.google.com/assets/colab-badge.svg\" alt=\"Open In Colab\"/></a>"
      ]
    },
    {
      "cell_type": "markdown",
      "source": [
        "###Theme 6. 합성곱 신경망\n",
        "####2. AlexNet"
      ],
      "metadata": {
        "id": "_3y5qreeRpRr"
      }
    },
    {
      "cell_type": "code",
      "source": [
        "# AlexNet은 2012년 ILSVRC 대회에서 우승을 차지한 합성곱 신경망, 가장 대표적인 CNN모델\n",
        "# 원 논문에선 지금 안쓰이는 기술들이 적용됨, 따라서 파이토치에서는 이런 부분들을 수정하여 모델을 제공하고 있음. But, 여기서는 직접 작성할 거임.\n",
        "import torch\n",
        "import torchvision\n",
        "import torchvision.transforms as transforms\n",
        "from torch.utils.data import DataLoader\n",
        "import torch.nn as nn\n",
        "import torch.nn.functional as F\n",
        "import torch.optim as optim\n",
        "import matplotlib.pyplot as plt"
      ],
      "metadata": {
        "id": "DqD2IHw6Rvej"
      },
      "execution_count": 3,
      "outputs": []
    },
    {
      "cell_type": "code",
      "source": [
        "# transforms.Normalize은 특정 평균, 표준편차를 따르는 정규분포를 통해 이미지를 표준화하는 방법\n",
        "# CIFAR10은 3채널 컬러 이미지 => 각 장의 평균과 표준편차를 정함.\n",
        "transform = transforms.Compose([transforms.ToTensor(), transforms.Normalize((0.5, 0.5, 0.5), (0.5, 0.5, 0.5))]) #첫 번째 (0.5, 0.5, 0.5)는 각 채널 당 평균을 할당한 것, 튜플로 입력\n",
        "# 두 번째 (0.5, 0.5, 0.5)는 각 채널의 표준편차를 기입한 것. 평균과 표준편차는 학습 전에 가지고 있는 이미지로부터 계산, 여기서는 임의의 값 0.5 기입.\n",
        "trainset = torchvision.datasets.CIFAR10(root = '/content/gdrive/My Drive/deeplearning/data', train = True, download=True, transform=transform)\n",
        "trainloader = torch.utils.data.DataLoader(trainset, batch_size = 32, shuffle = True)\n",
        "\n",
        "testset = torchvision.datasets.CIFAR10(root = '/content/gdrive/My Drive/deeplearning/data', train = False, download=True, transform=transform)\n",
        "testloader = torch.utils.data.DataLoader(testset, batch_size=32, shuffle=False)"
      ],
      "metadata": {
        "colab": {
          "base_uri": "https://localhost:8080/"
        },
        "id": "EkOp1CsoSWOj",
        "outputId": "51cfb2ae-3a7a-438b-c509-f4742c6d4ef6"
      },
      "execution_count": 4,
      "outputs": [
        {
          "output_type": "stream",
          "name": "stdout",
          "text": [
            "Files already downloaded and verified\n",
            "Files already downloaded and verified\n"
          ]
        }
      ]
    },
    {
      "cell_type": "code",
      "source": [
        "device = torch.device(\"cuda:0\" if torch.cuda.is_available() else \"cpu\") #최근의 CNN은 깊고, 복잡 => 다수의 필터를 계산하고 업데이트해야함. =>GPU는 필수!, GPU 연산이 가능한지 확인하고, 비활성화 상태면 GPU 연산으로 옵션 변경\n",
        "# + torch.device를 통해 GPU가 가능한 텐서로 연산 수행 가능.\n",
        "print(f'{device} is available.') #GPU 사용 가능"
      ],
      "metadata": {
        "colab": {
          "base_uri": "https://localhost:8080/"
        },
        "id": "_DxPyfMFSQBM",
        "outputId": "d7f1d9a7-eeb1-408c-e6c2-85c62a9eb12e"
      },
      "execution_count": 5,
      "outputs": [
        {
          "output_type": "stream",
          "name": "stdout",
          "text": [
            "cuda:0 is available.\n"
          ]
        }
      ]
    },
    {
      "cell_type": "code",
      "source": [
        "# AlexNet은 ImageNet 데이터를 위하여 만들어짐. ImageNet은 1000개의 클래스로 분류된, 256x256 or 224x224 크기를 갖는 이미지 => 크기가 32x32인 CIFAR10 이미지는 제대로 동작 안할수도.\n",
        "# 데이터에 맞게 필터의 크기와 보폭 수를 조정해 모델을 구축.\n",
        "class AlexNet(nn.Module): # AlexNet 클래스 생성\n",
        "  def __init__(self): # __init__ 함수에 구조 작성\n",
        "    super(AlexNet, self).__init__()\n",
        "    self.features = nn.Sequential( # nn.Sequentail 을 이용하면 순차적으로 행해지는 연산을 한 번에 묶기 O, nn.Sequential의 괄호 안은 작성 순서대로 연산 수행됨.\n",
        "        nn.Conv2d(3, 64, 3), nn.ReLU(), # CIFAR10은 RGB 컬러 이미지 => 입력 채널의 수가 3이므로 반드시 nn.Conv2d에서 입력 채널 수에 3을 입력해야함.(nn.Conv2d(입력 채널 수 , 출력 채널 수, 필터의 크기))\n",
        "        # 채널의 출력 크기는 임의로 정해줌. 보폭은 별도로 지정 X => 기본값 1로 진행됨. 다음 활성화 함수 nn.ReLU를 적용.\n",
        "        nn.MaxPool2d(2,2), # 2X2 크기의 필터를 2칸씩 이동하는 최댓값 풀링 nn.MaxPool2d(필터의 크기, 보폭)을 시행.\n",
        "        nn.Conv2d(64, 192, 3, padding = 1), nn.ReLU(), # 위와 동일한 방법으로 층을 쌓음. 다시 말하지만 이전 층의 출력값=다음 층의 입력값은 필수.\n",
        "        # padding = 1은 해당 층의 입력 피쳐맵의 가장 외곽을 0으로 한 겹 둘러싼단 얘기. ex. 100X100 피쳐맵에 한 겹을 씌우면 102X102가 된다. 가장 외곽의 값은 0.\n",
        "        # 외곽을 0으로 채우는 0 패드 이외에도 padding_mode를 통해 다른 패드 사용 가능('zeros', 'reflect', 'replicate, 'circular' 등.)\n",
        "        nn.MaxPool2d(2,2),\n",
        "        nn.Conv2d(192, 384, 3, padding = 1), nn. ReLU(),\n",
        "        nn.Conv2d(384, 256, 3, padding=1), nn.ReLU(),\n",
        "        nn.Conv2d(256, 256, 1), nn.ReLU(),\n",
        "        nn.MaxPool2d(2,2))# self.features는 합성곱, 풀링 연산이 행해지는 피쳐 추출 부분임.\n",
        "    \n",
        "    self.classifier = nn.Sequential( # Fully- connected layer로 구성된 self.clasifier를 정의.\n",
        "        nn.Dropout(0.5),\n",
        "        nn.Linear(256*3*3, 1024), nn.ReLU(), # 처음 들어오는 입력값의 크기=self.features에서 나온 피쳐맵을 일렬로 편 벡터의 크기여야 함. \n",
        "        nn.Dropout(0.5),\n",
        "        nn.Linear(1024, 512), nn.ReLU(),\n",
        "        nn.Linear(512,10)) # CIFAR10은 10개의 클래스를 가진 데이터 => 마지막 노드 수는 10이 되어야 함. 나머지 노드 수나 드롭아웃은 사용자가 임의로 정할 수 있음.\n",
        "    \n",
        "  def forward(self,x):\n",
        "    x = self.features(x)\n",
        "    x = x.view(-1, 256*3*3)\n",
        "    x = self.classifier(x)\n",
        "    return x"
      ],
      "metadata": {
        "id": "dAdnX5JaUr8k"
      },
      "execution_count": 6,
      "outputs": []
    },
    {
      "cell_type": "code",
      "source": [
        "# 다중 분류 문제에서는 Cross Entropy Loss를 기본으로 사용.\n",
        "# pytorch에서 제공하는 Cross Entropy Loss는 softmax 계산까지 포함되어 있으므로 모델의 마지막 출력값에 별도의 softmax를 적용할 필요 X.\n",
        "# + GPU 연산을 위해 모델을 불러올 땐 .to(device)를 반드시 붙일 것.\n",
        "criterion = nn.CrossEntropyLoss()\n",
        "alexnet = AlexNet().to(device)\n",
        "optimizer = optim.Adam(alexnet.parameters(), lr=1e-3)"
      ],
      "metadata": {
        "id": "4X2KGgXebF8R"
      },
      "execution_count": 7,
      "outputs": []
    },
    {
      "cell_type": "code",
      "source": [
        "loss_ = [] # 그래프를 그리기 위한 loss 저장용 리스트\n",
        "n = len(trainloader) # 배치 개수\n",
        "for epoch in range(50):\n",
        "  running_loss = 0.0\n",
        "  for data in trainloader:\n",
        "    inputs, labels = data[0].to(device), data[1].to(device) # 배치 데이터, 모델의 학습 과정은 MLP와 동일, GPU 연산을 위해 .to(device)는 필수\n",
        "    optimizer.zero_grad()\n",
        "    outputs = alexnet(inputs) # 예측값 산출\n",
        "    loss = criterion(outputs, labels) # 손실 함수 계산\n",
        "    loss.backward() # 손실 함수 기준으로 역전파 선언\n",
        "    optimizer.step() # 가중치 최적화\n",
        "    running_loss += loss.item()\n",
        "\n",
        "  loss_.append(running_loss/n)\n",
        "  print('[%d] loss: %.3f'%(epoch + 1, running_loss / len(trainloader))) "
      ],
      "metadata": {
        "colab": {
          "base_uri": "https://localhost:8080/"
        },
        "id": "Dyj0ozXdb1B-",
        "outputId": "3d20a248-c391-45fd-a5c6-7bd362917966"
      },
      "execution_count": 11,
      "outputs": [
        {
          "output_type": "stream",
          "name": "stdout",
          "text": [
            "[1] loss: 2.303\n",
            "[2] loss: 2.303\n",
            "[3] loss: 2.303\n",
            "[4] loss: 2.303\n",
            "[5] loss: 2.303\n",
            "[6] loss: 2.303\n",
            "[7] loss: 2.303\n",
            "[8] loss: 2.303\n",
            "[9] loss: 2.303\n",
            "[10] loss: 2.303\n",
            "[11] loss: 2.303\n",
            "[12] loss: 2.303\n",
            "[13] loss: 2.303\n",
            "[14] loss: 2.303\n",
            "[15] loss: 2.303\n",
            "[16] loss: 2.303\n",
            "[17] loss: 2.303\n",
            "[18] loss: 2.303\n",
            "[19] loss: 2.303\n",
            "[20] loss: 2.303\n",
            "[21] loss: 2.303\n",
            "[22] loss: 2.303\n",
            "[23] loss: 2.303\n",
            "[24] loss: 2.303\n",
            "[25] loss: 2.303\n",
            "[26] loss: 2.303\n",
            "[27] loss: 2.303\n",
            "[28] loss: 2.303\n",
            "[29] loss: 2.303\n",
            "[30] loss: 2.303\n",
            "[31] loss: 2.303\n",
            "[32] loss: 2.303\n",
            "[33] loss: 2.303\n",
            "[34] loss: 2.303\n",
            "[35] loss: 2.303\n",
            "[36] loss: 2.303\n",
            "[37] loss: 2.303\n",
            "[38] loss: 2.303\n",
            "[39] loss: 2.303\n",
            "[40] loss: 2.303\n",
            "[41] loss: 2.303\n",
            "[42] loss: 2.303\n",
            "[43] loss: 2.303\n",
            "[44] loss: 2.303\n",
            "[45] loss: 2.303\n",
            "[46] loss: 2.303\n",
            "[47] loss: 2.303\n",
            "[48] loss: 2.303\n",
            "[49] loss: 2.303\n",
            "[50] loss: 2.303\n"
          ]
        }
      ]
    },
    {
      "cell_type": "code",
      "source": [
        "plt.plot(loss_)\n",
        "plt.title(\"Training Loss\")\n",
        "plt.xlabel(\"epoch\")\n",
        "plt.show()"
      ],
      "metadata": {
        "colab": {
          "base_uri": "https://localhost:8080/",
          "height": 295
        },
        "id": "JzCGahLidbhE",
        "outputId": "0573a87e-8757-4e7b-ac13-34d174bfdd3e"
      },
      "execution_count": 12,
      "outputs": [
        {
          "output_type": "display_data",
          "data": {
            "text/plain": [
              "<Figure size 432x288 with 1 Axes>"
            ],
            "image/png": "[encoded data removed]"
          },
          "metadata": {
            "needs_background": "light"
          }
        }
      ]
    },
    {
      "cell_type": "code",
      "source": [
        "PATH = '/content/gdrive/My Drive/deeplearning/models/cifar_alexnet.pth' # 모델의 저장 경로, 모델명.pth 입력\n",
        "torch.save(alexnet.state_dict(), PATH) # torch.save(alexnet.state_dict(), PATH)를 이용하여 모델을 저장"
      ],
      "metadata": {
        "id": "V1yswfmpeZiB"
      },
      "execution_count": 13,
      "outputs": []
    },
    {
      "cell_type": "code",
      "source": [
        "alexnet = AlexNet().to(device) # 모델 저장은 모델 통째로 저장 X, 모델 파라미터를 저장하는 것 => 저장된 모델을 불러올 때 모델이 선행적으로 선언되어 있어야만 함.\n",
        "alexnet.load_state_dict(torch.load(PATH)) # 모델의 파라미터를 불러와 모델에 주입."
      ],
      "metadata": {
        "id": "IbQ2ZsQqetdj",
        "colab": {
          "base_uri": "https://localhost:8080/"
        },
        "outputId": "a6f28762-c4a8-4f6b-f0a8-a533237541e0"
      },
      "execution_count": 14,
      "outputs": [
        {
          "output_type": "execute_result",
          "data": {
            "text/plain": [
              "<All keys matched successfully>"
            ]
          },
          "metadata": {},
          "execution_count": 14
        }
      ]
    },
    {
      "cell_type": "code",
      "source": [
        "correct = 0 # 데이터 전체, 정답 개수를 누적할 수 있는 변수 선언\n",
        "total = 0\n",
        "with torch.no_grad(): # 평가 시에는 requires_grad를 비활성화\n",
        "  alexnet.eval() # 평가 시에는 dropout 등과 같은 정규화 작업 X => alexnet.eval()을 선언, 정규화 작업 비활성화\n",
        "  for data in testloader:\n",
        "    images, labels = data[0].to(device), data[1].to(device)\n",
        "    outputs = alexnet(images)\n",
        "    _, predicted = torch.max(outputs, 1) # outputs는 크기가 (배치 크기)X10인 벡터 형태로 나옴. => 열 기준으로 가장 큰 원소의 위치가 라벨이 됨. => 최댓값을 열(1) 기준으로 계산, 예측값을 구한다.\n",
        "    # torch.max는 최댓값, 최댓값의 위치를 산출해줌, But 우리는 최댓값은 필요 없으므로 안 받아도 됨 => _로 처리하여 출력값 저장 X, _, predicted는 최댓값의 위치만 predicted에 저장하겠다는 뜻!\n",
        "    total += labels.size(0) # 개수 누적(총 개수)\n",
        "    correct += (predicted==labels).sum().item() # 누적(맞으면 1, 틀리면 0으로 합산)\n",
        "\n",
        "print('Test accuracy: %.2f %%'%(100 * correct /total))"
      ],
      "metadata": {
        "id": "63f2NmU2fH89",
        "colab": {
          "base_uri": "https://localhost:8080/"
        },
        "outputId": "2887dc85-dfe6-452f-e35b-aa8e7889bffd"
      },
      "execution_count": 15,
      "outputs": [
        {
          "output_type": "stream",
          "name": "stdout",
          "text": [
            "Test accuracy: 9.97 %\n"
          ]
        }
      ]
    },
    {
      "cell_type": "markdown",
      "source": [
        "####3. ResNet"
      ],
      "metadata": {
        "id": "A8FajcD7g86m"
      }
    },
    {
      "cell_type": "code",
      "source": [
        "class ResidualBlock(nn.Module):\n",
        "\n",
        "  def __init__(self, in_channels, out_channnels, stride=1):\n",
        "    super(ResidualBlock, self).__init__()\n",
        "    self.stride = stride\n",
        "    self.in_channels = in_channels\n",
        "    self.out_channels = out_channnels\n",
        "    self.conv_block = nn.Sequential( #컨볼루션 연산 2개를 포함한 블록 생성\n",
        "        nn.Conv2d(self.in_channels, self.out_channels, kernel_size = 3, stride = stride,# 학습 속도 ↑가능한 배치 정규화를 층 사이에 적용, 배치 정규화는 각 배치의 평균, 분산을 이용해서 데이터를 정규화 시키는 방법.\n",
        "                  padding=1, bias=False), nn.BatchNorm2d(self.out_channels), nn.ReLU(),\n",
        "        nn.Conv2d(self.out_channels, self.out_channels, kernel_size = 3, stride = 1, padding =1,\n",
        "                  bias = False), nn.BatchNorm2d(self.out_channels))\n",
        "    if self.stride !=1 or self.in_channels !=self.out_channels: # ResNet은 ResidualBlock 하나를 거칠 때마다 이미지 사이즈가 줄어들고, 채널 수는 늘어나는 구조 => 처음 들어오는 x값, 블록을 거친 출력값 out의 크기가 같아야만 함. \n",
        "    # 따라서 차이가 나는 경우 출력값의 크기 = 입력값의 크기가 되도록 하기 위해 별도의 컨볼루션 연산을 진행, 입력 크기 = 출력 크기로 만든다.\n",
        "      self.downsample = nn.Sequential(\n",
        "          nn.Conv2d(self.in_channels, self.out_channels, kernel_size=1,\n",
        "                    stride=stride, bias=False), nn.BatchNorm2d(self.out_channels))\n",
        "    def forward(self,x):\n",
        "      out = self.conv_bloc(x)\n",
        "      if self.stride != 1 or self.in_channels != self.out_channels: # 사이즈 조정이 필요할 시 입력값의 크기 조정\n",
        "        x = self.downsample(x)\n",
        "      out = F.relu(x + out) # Skip connection 시행\n",
        "      return out"
      ],
      "metadata": {
        "id": "r4br5Zm1g-_X"
      },
      "execution_count": 31,
      "outputs": []
    },
    {
      "cell_type": "code",
      "source": [
        "class ResNet(nn.Module): # ResNet 클래스 정의, __init__ 작성\n",
        "  def __init__(self, num_blocks, num_classes=10):\n",
        "    super(ResNet, self).__init__()\n",
        "    self.in_channels = 64\n",
        "    self.base = nn.Sequential( # 입력 이미지가 들어와 연산을 수행하는 기본층 생성\n",
        "        nn.Conv2d(3, 64, kernel_size = 3, stride = 1, padding = 1, bias = False),\n",
        "        nn.BatchNorm2d(64),\n",
        "        nn.ReLU())\n",
        "    self.layer1 = self._make_layer(64, num_blocks[0], stride=1) # 기본층 제외 4개의 블록 필요, self._make_layer을 이용, 4개의 블록 묶음 선언\n",
        "    self.layer2 = self._make_layer(128, num_blocks[1], stride=2)\n",
        "    self.layer3 = self._make_layer(256, num_blocks[2], stride=2)\n",
        "    self.layer4 = self._make_layer(512, num_blocks[3], stride=2)\n",
        "    self.gap = nn.AvgPool2d(4) # 4: 필터 사이즈, 합성곱 층들을 지나 최종적으로 크기가 4X4인 피쳐맵 512개 나옴. 크기가 4X4인 평균 풀링을 이용, 각 피쳐맵 당 1개의 평균값 나옴, 성분이 512개인 벡터 얻음.\n",
        "    self.fc = nn.Linear(512, num_classes) # 클래스가 10개인 이미지를 분류하는 것이므로 2**10=512개의 노드에서 10개의 노드로 가는 FC 정의.\n",
        "  def _make_layer(self, out_channels, num_blocks, stride):\n",
        "    strides = [stride] + [1]*(num_blocks-1) # 블록의 반복 횟수만큼 stride 저장.\n",
        "    layers = []\n",
        "    for stride in strides:\n",
        "      block = ResidualBlock(self.in_channels, out_channels, stride) # ResidualBlock을 불러와 append를 이용해 차례로 붙여줌. 이때 이전 출력 채널 크기 = 다음 입력 채널 크기여야 하므로\n",
        "      layers.append(block)\n",
        "      self.in_channels = out_channels # 본 코드를 작성.\n",
        "    return nn.Sequential(*layers) # nn.Sequential에 넣어 모델 구축. 리스트는 길이에 상관 없이 모든 성분을 별도로 nn.Sequential에 전달하는 역할"
      ],
      "metadata": {
        "id": "baeP94lcIjXr"
      },
      "execution_count": 32,
      "outputs": []
    },
    {
      "cell_type": "code",
      "source": [
        "# 마지막으로 ResNet 클래스 안에 연산을 행하는 forward를 정의\n",
        "def forward(self,x):\n",
        "  out = self.base(x)\n",
        "  out = self.layer1(out)\n",
        "  out = self.layer2(out)\n",
        "  out = self.layer3(out)\n",
        "  out = self.layer4(out)\n",
        "  out = self.gap(out)\n",
        "  out = out.view(out.size(0), -1)\n",
        "  out = self.fc(out)\n",
        "  return out"
      ],
      "metadata": {
        "id": "Kl6GK1_3PIo9"
      },
      "execution_count": 33,
      "outputs": []
    },
    {
      "cell_type": "code",
      "source": [
        "# 클래스를 불러오는 함수 생성. 각 모델마다 블록의 반복 횟수를 리스트로 정의하여 입력. => 18, 34 외 4개의 블록을 가진 레이어의 개수 조정 가능.\n",
        "def modeltype(model):\n",
        "  if model == 'resnet18':\n",
        "    return ResNet([2,2,2,2])\n",
        "  elif model == 'resnet34':\n",
        "    return ResNet([3,4,6,3])"
      ],
      "metadata": {
        "id": "8JlpVtiPPY-i"
      },
      "execution_count": 34,
      "outputs": []
    },
    {
      "cell_type": "code",
      "source": [
        "resnet = modeltype('resnet18').to(device)\n",
        "print(resnet)\n",
        "PATH = '/content/gdrive/My Drive/deeplearning/models/cifar_resnet.pth'"
      ],
      "metadata": {
        "colab": {
          "base_uri": "https://localhost:8080/"
        },
        "id": "75ssm5IOP0hw",
        "outputId": "003de8cc-7b74-4d99-8bfe-ec97828d890a"
      },
      "execution_count": 35,
      "outputs": [
        {
          "output_type": "stream",
          "name": "stdout",
          "text": [
            "ResNet(\n",
            "  (base): Sequential(\n",
            "    (0): Conv2d(3, 64, kernel_size=(3, 3), stride=(1, 1), padding=(1, 1), bias=False)\n",
            "    (1): BatchNorm2d(64, eps=1e-05, momentum=0.1, affine=True, track_running_stats=True)\n",
            "    (2): ReLU()\n",
            "  )\n",
            "  (layer1): Sequential(\n",
            "    (0): ResidualBlock(\n",
            "      (conv_block): Sequential(\n",
            "        (0): Conv2d(64, 64, kernel_size=(3, 3), stride=(1, 1), padding=(1, 1), bias=False)\n",
            "        (1): BatchNorm2d(64, eps=1e-05, momentum=0.1, affine=True, track_running_stats=True)\n",
            "        (2): ReLU()\n",
            "        (3): Conv2d(64, 64, kernel_size=(3, 3), stride=(1, 1), padding=(1, 1), bias=False)\n",
            "        (4): BatchNorm2d(64, eps=1e-05, momentum=0.1, affine=True, track_running_stats=True)\n",
            "      )\n",
            "    )\n",
            "    (1): ResidualBlock(\n",
            "      (conv_block): Sequential(\n",
            "        (0): Conv2d(64, 64, kernel_size=(3, 3), stride=(1, 1), padding=(1, 1), bias=False)\n",
            "        (1): BatchNorm2d(64, eps=1e-05, momentum=0.1, affine=True, track_running_stats=True)\n",
            "        (2): ReLU()\n",
            "        (3): Conv2d(64, 64, kernel_size=(3, 3), stride=(1, 1), padding=(1, 1), bias=False)\n",
            "        (4): BatchNorm2d(64, eps=1e-05, momentum=0.1, affine=True, track_running_stats=True)\n",
            "      )\n",
            "    )\n",
            "  )\n",
            "  (layer2): Sequential(\n",
            "    (0): ResidualBlock(\n",
            "      (conv_block): Sequential(\n",
            "        (0): Conv2d(64, 128, kernel_size=(3, 3), stride=(2, 2), padding=(1, 1), bias=False)\n",
            "        (1): BatchNorm2d(128, eps=1e-05, momentum=0.1, affine=True, track_running_stats=True)\n",
            "        (2): ReLU()\n",
            "        (3): Conv2d(128, 128, kernel_size=(3, 3), stride=(1, 1), padding=(1, 1), bias=False)\n",
            "        (4): BatchNorm2d(128, eps=1e-05, momentum=0.1, affine=True, track_running_stats=True)\n",
            "      )\n",
            "      (downsample): Sequential(\n",
            "        (0): Conv2d(64, 128, kernel_size=(1, 1), stride=(2, 2), bias=False)\n",
            "        (1): BatchNorm2d(128, eps=1e-05, momentum=0.1, affine=True, track_running_stats=True)\n",
            "      )\n",
            "    )\n",
            "    (1): ResidualBlock(\n",
            "      (conv_block): Sequential(\n",
            "        (0): Conv2d(128, 128, kernel_size=(3, 3), stride=(1, 1), padding=(1, 1), bias=False)\n",
            "        (1): BatchNorm2d(128, eps=1e-05, momentum=0.1, affine=True, track_running_stats=True)\n",
            "        (2): ReLU()\n",
            "        (3): Conv2d(128, 128, kernel_size=(3, 3), stride=(1, 1), padding=(1, 1), bias=False)\n",
            "        (4): BatchNorm2d(128, eps=1e-05, momentum=0.1, affine=True, track_running_stats=True)\n",
            "      )\n",
            "    )\n",
            "  )\n",
            "  (layer3): Sequential(\n",
            "    (0): ResidualBlock(\n",
            "      (conv_block): Sequential(\n",
            "        (0): Conv2d(128, 256, kernel_size=(3, 3), stride=(2, 2), padding=(1, 1), bias=False)\n",
            "        (1): BatchNorm2d(256, eps=1e-05, momentum=0.1, affine=True, track_running_stats=True)\n",
            "        (2): ReLU()\n",
            "        (3): Conv2d(256, 256, kernel_size=(3, 3), stride=(1, 1), padding=(1, 1), bias=False)\n",
            "        (4): BatchNorm2d(256, eps=1e-05, momentum=0.1, affine=True, track_running_stats=True)\n",
            "      )\n",
            "      (downsample): Sequential(\n",
            "        (0): Conv2d(128, 256, kernel_size=(1, 1), stride=(2, 2), bias=False)\n",
            "        (1): BatchNorm2d(256, eps=1e-05, momentum=0.1, affine=True, track_running_stats=True)\n",
            "      )\n",
            "    )\n",
            "    (1): ResidualBlock(\n",
            "      (conv_block): Sequential(\n",
            "        (0): Conv2d(256, 256, kernel_size=(3, 3), stride=(1, 1), padding=(1, 1), bias=False)\n",
            "        (1): BatchNorm2d(256, eps=1e-05, momentum=0.1, affine=True, track_running_stats=True)\n",
            "        (2): ReLU()\n",
            "        (3): Conv2d(256, 256, kernel_size=(3, 3), stride=(1, 1), padding=(1, 1), bias=False)\n",
            "        (4): BatchNorm2d(256, eps=1e-05, momentum=0.1, affine=True, track_running_stats=True)\n",
            "      )\n",
            "    )\n",
            "  )\n",
            "  (layer4): Sequential(\n",
            "    (0): ResidualBlock(\n",
            "      (conv_block): Sequential(\n",
            "        (0): Conv2d(256, 512, kernel_size=(3, 3), stride=(2, 2), padding=(1, 1), bias=False)\n",
            "        (1): BatchNorm2d(512, eps=1e-05, momentum=0.1, affine=True, track_running_stats=True)\n",
            "        (2): ReLU()\n",
            "        (3): Conv2d(512, 512, kernel_size=(3, 3), stride=(1, 1), padding=(1, 1), bias=False)\n",
            "        (4): BatchNorm2d(512, eps=1e-05, momentum=0.1, affine=True, track_running_stats=True)\n",
            "      )\n",
            "      (downsample): Sequential(\n",
            "        (0): Conv2d(256, 512, kernel_size=(1, 1), stride=(2, 2), bias=False)\n",
            "        (1): BatchNorm2d(512, eps=1e-05, momentum=0.1, affine=True, track_running_stats=True)\n",
            "      )\n",
            "    )\n",
            "    (1): ResidualBlock(\n",
            "      (conv_block): Sequential(\n",
            "        (0): Conv2d(512, 512, kernel_size=(3, 3), stride=(1, 1), padding=(1, 1), bias=False)\n",
            "        (1): BatchNorm2d(512, eps=1e-05, momentum=0.1, affine=True, track_running_stats=True)\n",
            "        (2): ReLU()\n",
            "        (3): Conv2d(512, 512, kernel_size=(3, 3), stride=(1, 1), padding=(1, 1), bias=False)\n",
            "        (4): BatchNorm2d(512, eps=1e-05, momentum=0.1, affine=True, track_running_stats=True)\n",
            "      )\n",
            "    )\n",
            "  )\n",
            "  (gap): AvgPool2d(kernel_size=4, stride=4, padding=0)\n",
            "  (fc): Linear(in_features=512, out_features=10, bias=True)\n",
            ")\n"
          ]
        }
      ]
    },
    {
      "cell_type": "markdown",
      "source": [
        "####4. 다양한 합성곱 신경망"
      ],
      "metadata": {
        "id": "pgieihM7S1zh"
      }
    },
    {
      "cell_type": "code",
      "source": [
        "import torchvision.models as models # torchvision.models as models를 이용해 모델을 불러올 수 있음.\n",
        "alexnet = models.alexnet().to(device) # Alexnet 모델 사용 => alexnet = models.alexnet().to(device) 선언하면 됨.\n",
        "# 중요한 점은 제공 모델들이 클래스 개수가 1,000개인 ImageNet 데이터를 위해 만들어졌으므로, 모델의 최종 출력 노드 수가 1000개임. =>우리가 다루는 데이터의 클래스 수로 변경 필요\n",
        "alexnet.classifier[6] = nn.Linear(4096,5) # 만약 5개의 클래스를 분류하는 문제라고 했을 때, AlexNet의 경우 마지막 층이 alexnet.classifier[6]이므로 alexnet.classifier[6] = nn.Linear(4096,5)로 재정의 하면 됨.\n",
        "# 모델 마다 층의 이름/인덱스 다를 수 있다. model.named_parameters() 함수로 이름을 알아 낼 수 있고, 파이토치에서는 30여 개의 합성곱 신경망을 제공중이다.\n",
        "\"\"\"\n",
        "resnet18 = models.resnet18().to(device)\n",
        "vgg16 =models.vgg16().to(device)\n",
        "densenet = models.densenet161().to(device)\n",
        "inception = modls.inception_v3().to(device)\n",
        "googlenet = modls.googlenet().to(device)\n",
        "shufflenet = models.shufflenet_v2_x1_0().to(device)\n",
        "mobilenet_v2 = models.mobilenet_v2().to(device)\n",
        "resNext50_32x4d = models.resnext50_32x4d().to(device)\n",
        "wide_resnet50_2 = models.wide_resnet50_2().to(device)\n",
        "mnasnet = models.mnasnet1_0().to(device)\n",
        "\"\"\""
      ],
      "metadata": {
        "id": "-whkOtfBS9ut"
      },
      "execution_count": null,
      "outputs": []
    }
  ]
}