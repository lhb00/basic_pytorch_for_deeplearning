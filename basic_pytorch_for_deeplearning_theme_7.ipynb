{
  "nbformat": 4,
  "nbformat_minor": 0,
  "metadata": {
    "colab": {
      "name": "basic_pytorch_for_deeplearning_theme 7",
      "provenance": [],
      "collapsed_sections": [],
      "mount_file_id": "1irrBoGSQyigNuX7gcwhb48raOSyaC9hK",
      "authorship_tag": "ABX9TyO2Tznq49QNPcDLR6ZvDiLh",
      "include_colab_link": true
    },
    "kernelspec": {
      "name": "python3",
      "display_name": "Python 3"
    },
    "language_info": {
      "name": "python"
    },
    "accelerator": "GPU",
    "gpuClass": "standard",
    "widgets": {
      "application/vnd.jupyter.widget-state+json": {
        "6bf89000aaeb4c63884126b5216f13e7": {
          "model_module": "@jupyter-widgets/controls",
          "model_name": "HBoxModel",
          "model_module_version": "1.5.0",
          "state": {
            "_dom_classes": [],
            "_model_module": "@jupyter-widgets/controls",
            "_model_module_version": "1.5.0",
            "_model_name": "HBoxModel",
            "_view_count": null,
            "_view_module": "@jupyter-widgets/controls",
            "_view_module_version": "1.5.0",
            "_view_name": "HBoxView",
            "box_style": "",
            "children": [
              "IPY_MODEL_49531da0f3b64f6b96d853b979f7e278",
              "IPY_MODEL_71412bd930524ce18df6a6d71e2aa656",
              "IPY_MODEL_3fdf77abc3f34a16b724a6fb14285f03"
            ],
            "layout": "IPY_MODEL_0261c1e3d5d44a278b2279e1a62d31ab"
          }
        },
        "49531da0f3b64f6b96d853b979f7e278": {
          "model_module": "@jupyter-widgets/controls",
          "model_name": "HTMLModel",
          "model_module_version": "1.5.0",
          "state": {
            "_dom_classes": [],
            "_model_module": "@jupyter-widgets/controls",
            "_model_module_version": "1.5.0",
            "_model_name": "HTMLModel",
            "_view_count": null,
            "_view_module": "@jupyter-widgets/controls",
            "_view_module_version": "1.5.0",
            "_view_name": "HTMLView",
            "description": "",
            "description_tooltip": null,
            "layout": "IPY_MODEL_012ebc343fc747c3a42a3874bf980ddb",
            "placeholder": "​",
            "style": "IPY_MODEL_69ded71482e44f85a15cae0edef39925",
            "value": "100%"
          }
        },
        "71412bd930524ce18df6a6d71e2aa656": {
          "model_module": "@jupyter-widgets/controls",
          "model_name": "FloatProgressModel",
          "model_module_version": "1.5.0",
          "state": {
            "_dom_classes": [],
            "_model_module": "@jupyter-widgets/controls",
            "_model_module_version": "1.5.0",
            "_model_name": "FloatProgressModel",
            "_view_count": null,
            "_view_module": "@jupyter-widgets/controls",
            "_view_module_version": "1.5.0",
            "_view_name": "ProgressView",
            "bar_style": "success",
            "description": "",
            "description_tooltip": null,
            "layout": "IPY_MODEL_745978137b294d70ab8d959e12522783",
            "max": 9912422,
            "min": 0,
            "orientation": "horizontal",
            "style": "IPY_MODEL_a336c329b85a493b971266f0cafde600",
            "value": 9912422
          }
        },
        "3fdf77abc3f34a16b724a6fb14285f03": {
          "model_module": "@jupyter-widgets/controls",
          "model_name": "HTMLModel",
          "model_module_version": "1.5.0",
          "state": {
            "_dom_classes": [],
            "_model_module": "@jupyter-widgets/controls",
            "_model_module_version": "1.5.0",
            "_model_name": "HTMLModel",
            "_view_count": null,
            "_view_module": "@jupyter-widgets/controls",
            "_view_module_version": "1.5.0",
            "_view_name": "HTMLView",
            "description": "",
            "description_tooltip": null,
            "layout": "IPY_MODEL_a54c021ff1f74b1caf5cdf3e3dca79f6",
            "placeholder": "​",
            "style": "IPY_MODEL_b62472ae3be342dbb859eb165a074e20",
            "value": " 9912422/9912422 [00:00&lt;00:00, 32287469.85it/s]"
          }
        },
        "0261c1e3d5d44a278b2279e1a62d31ab": {
          "model_module": "@jupyter-widgets/base",
          "model_name": "LayoutModel",
          "model_module_version": "1.2.0",
          "state": {
            "_model_module": "@jupyter-widgets/base",
            "_model_module_version": "1.2.0",
            "_model_name": "LayoutModel",
            "_view_count": null,
            "_view_module": "@jupyter-widgets/base",
            "_view_module_version": "1.2.0",
            "_view_name": "LayoutView",
            "align_content": null,
            "align_items": null,
            "align_self": null,
            "border": null,
            "bottom": null,
            "display": null,
            "flex": null,
            "flex_flow": null,
            "grid_area": null,
            "grid_auto_columns": null,
            "grid_auto_flow": null,
            "grid_auto_rows": null,
            "grid_column": null,
            "grid_gap": null,
            "grid_row": null,
            "grid_template_areas": null,
            "grid_template_columns": null,
            "grid_template_rows": null,
            "height": null,
            "justify_content": null,
            "justify_items": null,
            "left": null,
            "margin": null,
            "max_height": null,
            "max_width": null,
            "min_height": null,
            "min_width": null,
            "object_fit": null,
            "object_position": null,
            "order": null,
            "overflow": null,
            "overflow_x": null,
            "overflow_y": null,
            "padding": null,
            "right": null,
            "top": null,
            "visibility": null,
            "width": null
          }
        },
        "012ebc343fc747c3a42a3874bf980ddb": {
          "model_module": "@jupyter-widgets/base",
          "model_name": "LayoutModel",
          "model_module_version": "1.2.0",
          "state": {
            "_model_module": "@jupyter-widgets/base",
            "_model_module_version": "1.2.0",
            "_model_name": "LayoutModel",
            "_view_count": null,
            "_view_module": "@jupyter-widgets/base",
            "_view_module_version": "1.2.0",
            "_view_name": "LayoutView",
            "align_content": null,
            "align_items": null,
            "align_self": null,
            "border": null,
            "bottom": null,
            "display": null,
            "flex": null,
            "flex_flow": null,
            "grid_area": null,
            "grid_auto_columns": null,
            "grid_auto_flow": null,
            "grid_auto_rows": null,
            "grid_column": null,
            "grid_gap": null,
            "grid_row": null,
            "grid_template_areas": null,
            "grid_template_columns": null,
            "grid_template_rows": null,
            "height": null,
            "justify_content": null,
            "justify_items": null,
            "left": null,
            "margin": null,
            "max_height": null,
            "max_width": null,
            "min_height": null,
            "min_width": null,
            "object_fit": null,
            "object_position": null,
            "order": null,
            "overflow": null,
            "overflow_x": null,
            "overflow_y": null,
            "padding": null,
            "right": null,
            "top": null,
            "visibility": null,
            "width": null
          }
        },
        "69ded71482e44f85a15cae0edef39925": {
          "model_module": "@jupyter-widgets/controls",
          "model_name": "DescriptionStyleModel",
          "model_module_version": "1.5.0",
          "state": {
            "_model_module": "@jupyter-widgets/controls",
            "_model_module_version": "1.5.0",
            "_model_name": "DescriptionStyleModel",
            "_view_count": null,
            "_view_module": "@jupyter-widgets/base",
            "_view_module_version": "1.2.0",
            "_view_name": "StyleView",
            "description_width": ""
          }
        },
        "745978137b294d70ab8d959e12522783": {
          "model_module": "@jupyter-widgets/base",
          "model_name": "LayoutModel",
          "model_module_version": "1.2.0",
          "state": {
            "_model_module": "@jupyter-widgets/base",
            "_model_module_version": "1.2.0",
            "_model_name": "LayoutModel",
            "_view_count": null,
            "_view_module": "@jupyter-widgets/base",
            "_view_module_version": "1.2.0",
            "_view_name": "LayoutView",
            "align_content": null,
            "align_items": null,
            "align_self": null,
            "border": null,
            "bottom": null,
            "display": null,
            "flex": null,
            "flex_flow": null,
            "grid_area": null,
            "grid_auto_columns": null,
            "grid_auto_flow": null,
            "grid_auto_rows": null,
            "grid_column": null,
            "grid_gap": null,
            "grid_row": null,
            "grid_template_areas": null,
            "grid_template_columns": null,
            "grid_template_rows": null,
            "height": null,
            "justify_content": null,
            "justify_items": null,
            "left": null,
            "margin": null,
            "max_height": null,
            "max_width": null,
            "min_height": null,
            "min_width": null,
            "object_fit": null,
            "object_position": null,
            "order": null,
            "overflow": null,
            "overflow_x": null,
            "overflow_y": null,
            "padding": null,
            "right": null,
            "top": null,
            "visibility": null,
            "width": null
          }
        },
        "a336c329b85a493b971266f0cafde600": {
          "model_module": "@jupyter-widgets/controls",
          "model_name": "ProgressStyleModel",
          "model_module_version": "1.5.0",
          "state": {
            "_model_module": "@jupyter-widgets/controls",
            "_model_module_version": "1.5.0",
            "_model_name": "ProgressStyleModel",
            "_view_count": null,
            "_view_module": "@jupyter-widgets/base",
            "_view_module_version": "1.2.0",
            "_view_name": "StyleView",
            "bar_color": null,
            "description_width": ""
          }
        },
        "a54c021ff1f74b1caf5cdf3e3dca79f6": {
          "model_module": "@jupyter-widgets/base",
          "model_name": "LayoutModel",
          "model_module_version": "1.2.0",
          "state": {
            "_model_module": "@jupyter-widgets/base",
            "_model_module_version": "1.2.0",
            "_model_name": "LayoutModel",
            "_view_count": null,
            "_view_module": "@jupyter-widgets/base",
            "_view_module_version": "1.2.0",
            "_view_name": "LayoutView",
            "align_content": null,
            "align_items": null,
            "align_self": null,
            "border": null,
            "bottom": null,
            "display": null,
            "flex": null,
            "flex_flow": null,
            "grid_area": null,
            "grid_auto_columns": null,
            "grid_auto_flow": null,
            "grid_auto_rows": null,
            "grid_column": null,
            "grid_gap": null,
            "grid_row": null,
            "grid_template_areas": null,
            "grid_template_columns": null,
            "grid_template_rows": null,
            "height": null,
            "justify_content": null,
            "justify_items": null,
            "left": null,
            "margin": null,
            "max_height": null,
            "max_width": null,
            "min_height": null,
            "min_width": null,
            "object_fit": null,
            "object_position": null,
            "order": null,
            "overflow": null,
            "overflow_x": null,
            "overflow_y": null,
            "padding": null,
            "right": null,
            "top": null,
            "visibility": null,
            "width": null
          }
        },
        "b62472ae3be342dbb859eb165a074e20": {
          "model_module": "@jupyter-widgets/controls",
          "model_name": "DescriptionStyleModel",
          "model_module_version": "1.5.0",
          "state": {
            "_model_module": "@jupyter-widgets/controls",
            "_model_module_version": "1.5.0",
            "_model_name": "DescriptionStyleModel",
            "_view_count": null,
            "_view_module": "@jupyter-widgets/base",
            "_view_module_version": "1.2.0",
            "_view_name": "StyleView",
            "description_width": ""
          }
        },
        "01266d1baa58438284d04d392d340edd": {
          "model_module": "@jupyter-widgets/controls",
          "model_name": "HBoxModel",
          "model_module_version": "1.5.0",
          "state": {
            "_dom_classes": [],
            "_model_module": "@jupyter-widgets/controls",
            "_model_module_version": "1.5.0",
            "_model_name": "HBoxModel",
            "_view_count": null,
            "_view_module": "@jupyter-widgets/controls",
            "_view_module_version": "1.5.0",
            "_view_name": "HBoxView",
            "box_style": "",
            "children": [
              "IPY_MODEL_ee38e1ecf0c4429089ac750efabf359d",
              "IPY_MODEL_43438ca37b134e22862826b7cd64ce8d",
              "IPY_MODEL_d070cb9ff4a84be68d35414d01ff6a3a"
            ],
            "layout": "IPY_MODEL_d979705b210f4a379a76c4c375930f6f"
          }
        },
        "ee38e1ecf0c4429089ac750efabf359d": {
          "model_module": "@jupyter-widgets/controls",
          "model_name": "HTMLModel",
          "model_module_version": "1.5.0",
          "state": {
            "_dom_classes": [],
            "_model_module": "@jupyter-widgets/controls",
            "_model_module_version": "1.5.0",
            "_model_name": "HTMLModel",
            "_view_count": null,
            "_view_module": "@jupyter-widgets/controls",
            "_view_module_version": "1.5.0",
            "_view_name": "HTMLView",
            "description": "",
            "description_tooltip": null,
            "layout": "IPY_MODEL_aaa7513bc46d46b9a61f2810a8c31e01",
            "placeholder": "​",
            "style": "IPY_MODEL_ab2855dc96f8490e847f6e5742b11782",
            "value": "100%"
          }
        },
        "43438ca37b134e22862826b7cd64ce8d": {
          "model_module": "@jupyter-widgets/controls",
          "model_name": "FloatProgressModel",
          "model_module_version": "1.5.0",
          "state": {
            "_dom_classes": [],
            "_model_module": "@jupyter-widgets/controls",
            "_model_module_version": "1.5.0",
            "_model_name": "FloatProgressModel",
            "_view_count": null,
            "_view_module": "@jupyter-widgets/controls",
            "_view_module_version": "1.5.0",
            "_view_name": "ProgressView",
            "bar_style": "success",
            "description": "",
            "description_tooltip": null,
            "layout": "IPY_MODEL_57600b4278964f09b934977c91e7870c",
            "max": 28881,
            "min": 0,
            "orientation": "horizontal",
            "style": "IPY_MODEL_af088b6e06724ce0a217b48e169ba7df",
            "value": 28881
          }
        },
        "d070cb9ff4a84be68d35414d01ff6a3a": {
          "model_module": "@jupyter-widgets/controls",
          "model_name": "HTMLModel",
          "model_module_version": "1.5.0",
          "state": {
            "_dom_classes": [],
            "_model_module": "@jupyter-widgets/controls",
            "_model_module_version": "1.5.0",
            "_model_name": "HTMLModel",
            "_view_count": null,
            "_view_module": "@jupyter-widgets/controls",
            "_view_module_version": "1.5.0",
            "_view_name": "HTMLView",
            "description": "",
            "description_tooltip": null,
            "layout": "IPY_MODEL_5a55cf85819e4df5a08dd0ce207c0f3c",
            "placeholder": "​",
            "style": "IPY_MODEL_5fd4a1b8973c46c9b2ceca0a7f413e97",
            "value": " 28881/28881 [00:00&lt;00:00, 710986.19it/s]"
          }
        },
        "d979705b210f4a379a76c4c375930f6f": {
          "model_module": "@jupyter-widgets/base",
          "model_name": "LayoutModel",
          "model_module_version": "1.2.0",
          "state": {
            "_model_module": "@jupyter-widgets/base",
            "_model_module_version": "1.2.0",
            "_model_name": "LayoutModel",
            "_view_count": null,
            "_view_module": "@jupyter-widgets/base",
            "_view_module_version": "1.2.0",
            "_view_name": "LayoutView",
            "align_content": null,
            "align_items": null,
            "align_self": null,
            "border": null,
            "bottom": null,
            "display": null,
            "flex": null,
            "flex_flow": null,
            "grid_area": null,
            "grid_auto_columns": null,
            "grid_auto_flow": null,
            "grid_auto_rows": null,
            "grid_column": null,
            "grid_gap": null,
            "grid_row": null,
            "grid_template_areas": null,
            "grid_template_columns": null,
            "grid_template_rows": null,
            "height": null,
            "justify_content": null,
            "justify_items": null,
            "left": null,
            "margin": null,
            "max_height": null,
            "max_width": null,
            "min_height": null,
            "min_width": null,
            "object_fit": null,
            "object_position": null,
            "order": null,
            "overflow": null,
            "overflow_x": null,
            "overflow_y": null,
            "padding": null,
            "right": null,
            "top": null,
            "visibility": null,
            "width": null
          }
        },
        "aaa7513bc46d46b9a61f2810a8c31e01": {
          "model_module": "@jupyter-widgets/base",
          "model_name": "LayoutModel",
          "model_module_version": "1.2.0",
          "state": {
            "_model_module": "@jupyter-widgets/base",
            "_model_module_version": "1.2.0",
            "_model_name": "LayoutModel",
            "_view_count": null,
            "_view_module": "@jupyter-widgets/base",
            "_view_module_version": "1.2.0",
            "_view_name": "LayoutView",
            "align_content": null,
            "align_items": null,
            "align_self": null,
            "border": null,
            "bottom": null,
            "display": null,
            "flex": null,
            "flex_flow": null,
            "grid_area": null,
            "grid_auto_columns": null,
            "grid_auto_flow": null,
            "grid_auto_rows": null,
            "grid_column": null,
            "grid_gap": null,
            "grid_row": null,
            "grid_template_areas": null,
            "grid_template_columns": null,
            "grid_template_rows": null,
            "height": null,
            "justify_content": null,
            "justify_items": null,
            "left": null,
            "margin": null,
            "max_height": null,
            "max_width": null,
            "min_height": null,
            "min_width": null,
            "object_fit": null,
            "object_position": null,
            "order": null,
            "overflow": null,
            "overflow_x": null,
            "overflow_y": null,
            "padding": null,
            "right": null,
            "top": null,
            "visibility": null,
            "width": null
          }
        },
        "ab2855dc96f8490e847f6e5742b11782": {
          "model_module": "@jupyter-widgets/controls",
          "model_name": "DescriptionStyleModel",
          "model_module_version": "1.5.0",
          "state": {
            "_model_module": "@jupyter-widgets/controls",
            "_model_module_version": "1.5.0",
            "_model_name": "DescriptionStyleModel",
            "_view_count": null,
            "_view_module": "@jupyter-widgets/base",
            "_view_module_version": "1.2.0",
            "_view_name": "StyleView",
            "description_width": ""
          }
        },
        "57600b4278964f09b934977c91e7870c": {
          "model_module": "@jupyter-widgets/base",
          "model_name": "LayoutModel",
          "model_module_version": "1.2.0",
          "state": {
            "_model_module": "@jupyter-widgets/base",
            "_model_module_version": "1.2.0",
            "_model_name": "LayoutModel",
            "_view_count": null,
            "_view_module": "@jupyter-widgets/base",
            "_view_module_version": "1.2.0",
            "_view_name": "LayoutView",
            "align_content": null,
            "align_items": null,
            "align_self": null,
            "border": null,
            "bottom": null,
            "display": null,
            "flex": null,
            "flex_flow": null,
            "grid_area": null,
            "grid_auto_columns": null,
            "grid_auto_flow": null,
            "grid_auto_rows": null,
            "grid_column": null,
            "grid_gap": null,
            "grid_row": null,
            "grid_template_areas": null,
            "grid_template_columns": null,
            "grid_template_rows": null,
            "height": null,
            "justify_content": null,
            "justify_items": null,
            "left": null,
            "margin": null,
            "max_height": null,
            "max_width": null,
            "min_height": null,
            "min_width": null,
            "object_fit": null,
            "object_position": null,
            "order": null,
            "overflow": null,
            "overflow_x": null,
            "overflow_y": null,
            "padding": null,
            "right": null,
            "top": null,
            "visibility": null,
            "width": null
          }
        },
        "af088b6e06724ce0a217b48e169ba7df": {
          "model_module": "@jupyter-widgets/controls",
          "model_name": "ProgressStyleModel",
          "model_module_version": "1.5.0",
          "state": {
            "_model_module": "@jupyter-widgets/controls",
            "_model_module_version": "1.5.0",
            "_model_name": "ProgressStyleModel",
            "_view_count": null,
            "_view_module": "@jupyter-widgets/base",
            "_view_module_version": "1.2.0",
            "_view_name": "StyleView",
            "bar_color": null,
            "description_width": ""
          }
        },
        "5a55cf85819e4df5a08dd0ce207c0f3c": {
          "model_module": "@jupyter-widgets/base",
          "model_name": "LayoutModel",
          "model_module_version": "1.2.0",
          "state": {
            "_model_module": "@jupyter-widgets/base",
            "_model_module_version": "1.2.0",
            "_model_name": "LayoutModel",
            "_view_count": null,
            "_view_module": "@jupyter-widgets/base",
            "_view_module_version": "1.2.0",
            "_view_name": "LayoutView",
            "align_content": null,
            "align_items": null,
            "align_self": null,
            "border": null,
            "bottom": null,
            "display": null,
            "flex": null,
            "flex_flow": null,
            "grid_area": null,
            "grid_auto_columns": null,
            "grid_auto_flow": null,
            "grid_auto_rows": null,
            "grid_column": null,
            "grid_gap": null,
            "grid_row": null,
            "grid_template_areas": null,
            "grid_template_columns": null,
            "grid_template_rows": null,
            "height": null,
            "justify_content": null,
            "justify_items": null,
            "left": null,
            "margin": null,
            "max_height": null,
            "max_width": null,
            "min_height": null,
            "min_width": null,
            "object_fit": null,
            "object_position": null,
            "order": null,
            "overflow": null,
            "overflow_x": null,
            "overflow_y": null,
            "padding": null,
            "right": null,
            "top": null,
            "visibility": null,
            "width": null
          }
        },
        "5fd4a1b8973c46c9b2ceca0a7f413e97": {
          "model_module": "@jupyter-widgets/controls",
          "model_name": "DescriptionStyleModel",
          "model_module_version": "1.5.0",
          "state": {
            "_model_module": "@jupyter-widgets/controls",
            "_model_module_version": "1.5.0",
            "_model_name": "DescriptionStyleModel",
            "_view_count": null,
            "_view_module": "@jupyter-widgets/base",
            "_view_module_version": "1.2.0",
            "_view_name": "StyleView",
            "description_width": ""
          }
        },
        "82b87b19154e42659a4f02b528aa2b4a": {
          "model_module": "@jupyter-widgets/controls",
          "model_name": "HBoxModel",
          "model_module_version": "1.5.0",
          "state": {
            "_dom_classes": [],
            "_model_module": "@jupyter-widgets/controls",
            "_model_module_version": "1.5.0",
            "_model_name": "HBoxModel",
            "_view_count": null,
            "_view_module": "@jupyter-widgets/controls",
            "_view_module_version": "1.5.0",
            "_view_name": "HBoxView",
            "box_style": "",
            "children": [
              "IPY_MODEL_5e657de5ed1944efb047bcfd8074e1f9",
              "IPY_MODEL_4ae838fcb480452aa81f839020199c20",
              "IPY_MODEL_a3813bfd51a74909a9f794807c1fc92d"
            ],
            "layout": "IPY_MODEL_dcf3a1f60bd24016b5d6456b059b01bb"
          }
        },
        "5e657de5ed1944efb047bcfd8074e1f9": {
          "model_module": "@jupyter-widgets/controls",
          "model_name": "HTMLModel",
          "model_module_version": "1.5.0",
          "state": {
            "_dom_classes": [],
            "_model_module": "@jupyter-widgets/controls",
            "_model_module_version": "1.5.0",
            "_model_name": "HTMLModel",
            "_view_count": null,
            "_view_module": "@jupyter-widgets/controls",
            "_view_module_version": "1.5.0",
            "_view_name": "HTMLView",
            "description": "",
            "description_tooltip": null,
            "layout": "IPY_MODEL_ee205a8ad1b74e3b94e51bf2fd365c62",
            "placeholder": "​",
            "style": "IPY_MODEL_d611416f26904690833f24bca3ebec86",
            "value": "100%"
          }
        },
        "4ae838fcb480452aa81f839020199c20": {
          "model_module": "@jupyter-widgets/controls",
          "model_name": "FloatProgressModel",
          "model_module_version": "1.5.0",
          "state": {
            "_dom_classes": [],
            "_model_module": "@jupyter-widgets/controls",
            "_model_module_version": "1.5.0",
            "_model_name": "FloatProgressModel",
            "_view_count": null,
            "_view_module": "@jupyter-widgets/controls",
            "_view_module_version": "1.5.0",
            "_view_name": "ProgressView",
            "bar_style": "success",
            "description": "",
            "description_tooltip": null,
            "layout": "IPY_MODEL_8f5c9cbab61f4b01ae82f195417f2486",
            "max": 1648877,
            "min": 0,
            "orientation": "horizontal",
            "style": "IPY_MODEL_6f4ccdfd4872494d870552c8b3862c56",
            "value": 1648877
          }
        },
        "a3813bfd51a74909a9f794807c1fc92d": {
          "model_module": "@jupyter-widgets/controls",
          "model_name": "HTMLModel",
          "model_module_version": "1.5.0",
          "state": {
            "_dom_classes": [],
            "_model_module": "@jupyter-widgets/controls",
            "_model_module_version": "1.5.0",
            "_model_name": "HTMLModel",
            "_view_count": null,
            "_view_module": "@jupyter-widgets/controls",
            "_view_module_version": "1.5.0",
            "_view_name": "HTMLView",
            "description": "",
            "description_tooltip": null,
            "layout": "IPY_MODEL_19a9c9294f4a46a19d5329c2d6123a2a",
            "placeholder": "​",
            "style": "IPY_MODEL_029dcad7a0f241f7921ac70f14f1bc17",
            "value": " 1648877/1648877 [00:00&lt;00:00, 20117786.30it/s]"
          }
        },
        "dcf3a1f60bd24016b5d6456b059b01bb": {
          "model_module": "@jupyter-widgets/base",
          "model_name": "LayoutModel",
          "model_module_version": "1.2.0",
          "state": {
            "_model_module": "@jupyter-widgets/base",
            "_model_module_version": "1.2.0",
            "_model_name": "LayoutModel",
            "_view_count": null,
            "_view_module": "@jupyter-widgets/base",
            "_view_module_version": "1.2.0",
            "_view_name": "LayoutView",
            "align_content": null,
            "align_items": null,
            "align_self": null,
            "border": null,
            "bottom": null,
            "display": null,
            "flex": null,
            "flex_flow": null,
            "grid_area": null,
            "grid_auto_columns": null,
            "grid_auto_flow": null,
            "grid_auto_rows": null,
            "grid_column": null,
            "grid_gap": null,
            "grid_row": null,
            "grid_template_areas": null,
            "grid_template_columns": null,
            "grid_template_rows": null,
            "height": null,
            "justify_content": null,
            "justify_items": null,
            "left": null,
            "margin": null,
            "max_height": null,
            "max_width": null,
            "min_height": null,
            "min_width": null,
            "object_fit": null,
            "object_position": null,
            "order": null,
            "overflow": null,
            "overflow_x": null,
            "overflow_y": null,
            "padding": null,
            "right": null,
            "top": null,
            "visibility": null,
            "width": null
          }
        },
        "ee205a8ad1b74e3b94e51bf2fd365c62": {
          "model_module": "@jupyter-widgets/base",
          "model_name": "LayoutModel",
          "model_module_version": "1.2.0",
          "state": {
            "_model_module": "@jupyter-widgets/base",
            "_model_module_version": "1.2.0",
            "_model_name": "LayoutModel",
            "_view_count": null,
            "_view_module": "@jupyter-widgets/base",
            "_view_module_version": "1.2.0",
            "_view_name": "LayoutView",
            "align_content": null,
            "align_items": null,
            "align_self": null,
            "border": null,
            "bottom": null,
            "display": null,
            "flex": null,
            "flex_flow": null,
            "grid_area": null,
            "grid_auto_columns": null,
            "grid_auto_flow": null,
            "grid_auto_rows": null,
            "grid_column": null,
            "grid_gap": null,
            "grid_row": null,
            "grid_template_areas": null,
            "grid_template_columns": null,
            "grid_template_rows": null,
            "height": null,
            "justify_content": null,
            "justify_items": null,
            "left": null,
            "margin": null,
            "max_height": null,
            "max_width": null,
            "min_height": null,
            "min_width": null,
            "object_fit": null,
            "object_position": null,
            "order": null,
            "overflow": null,
            "overflow_x": null,
            "overflow_y": null,
            "padding": null,
            "right": null,
            "top": null,
            "visibility": null,
            "width": null
          }
        },
        "d611416f26904690833f24bca3ebec86": {
          "model_module": "@jupyter-widgets/controls",
          "model_name": "DescriptionStyleModel",
          "model_module_version": "1.5.0",
          "state": {
            "_model_module": "@jupyter-widgets/controls",
            "_model_module_version": "1.5.0",
            "_model_name": "DescriptionStyleModel",
            "_view_count": null,
            "_view_module": "@jupyter-widgets/base",
            "_view_module_version": "1.2.0",
            "_view_name": "StyleView",
            "description_width": ""
          }
        },
        "8f5c9cbab61f4b01ae82f195417f2486": {
          "model_module": "@jupyter-widgets/base",
          "model_name": "LayoutModel",
          "model_module_version": "1.2.0",
          "state": {
            "_model_module": "@jupyter-widgets/base",
            "_model_module_version": "1.2.0",
            "_model_name": "LayoutModel",
            "_view_count": null,
            "_view_module": "@jupyter-widgets/base",
            "_view_module_version": "1.2.0",
            "_view_name": "LayoutView",
            "align_content": null,
            "align_items": null,
            "align_self": null,
            "border": null,
            "bottom": null,
            "display": null,
            "flex": null,
            "flex_flow": null,
            "grid_area": null,
            "grid_auto_columns": null,
            "grid_auto_flow": null,
            "grid_auto_rows": null,
            "grid_column": null,
            "grid_gap": null,
            "grid_row": null,
            "grid_template_areas": null,
            "grid_template_columns": null,
            "grid_template_rows": null,
            "height": null,
            "justify_content": null,
            "justify_items": null,
            "left": null,
            "margin": null,
            "max_height": null,
            "max_width": null,
            "min_height": null,
            "min_width": null,
            "object_fit": null,
            "object_position": null,
            "order": null,
            "overflow": null,
            "overflow_x": null,
            "overflow_y": null,
            "padding": null,
            "right": null,
            "top": null,
            "visibility": null,
            "width": null
          }
        },
        "6f4ccdfd4872494d870552c8b3862c56": {
          "model_module": "@jupyter-widgets/controls",
          "model_name": "ProgressStyleModel",
          "model_module_version": "1.5.0",
          "state": {
            "_model_module": "@jupyter-widgets/controls",
            "_model_module_version": "1.5.0",
            "_model_name": "ProgressStyleModel",
            "_view_count": null,
            "_view_module": "@jupyter-widgets/base",
            "_view_module_version": "1.2.0",
            "_view_name": "StyleView",
            "bar_color": null,
            "description_width": ""
          }
        },
        "19a9c9294f4a46a19d5329c2d6123a2a": {
          "model_module": "@jupyter-widgets/base",
          "model_name": "LayoutModel",
          "model_module_version": "1.2.0",
          "state": {
            "_model_module": "@jupyter-widgets/base",
            "_model_module_version": "1.2.0",
            "_model_name": "LayoutModel",
            "_view_count": null,
            "_view_module": "@jupyter-widgets/base",
            "_view_module_version": "1.2.0",
            "_view_name": "LayoutView",
            "align_content": null,
            "align_items": null,
            "align_self": null,
            "border": null,
            "bottom": null,
            "display": null,
            "flex": null,
            "flex_flow": null,
            "grid_area": null,
            "grid_auto_columns": null,
            "grid_auto_flow": null,
            "grid_auto_rows": null,
            "grid_column": null,
            "grid_gap": null,
            "grid_row": null,
            "grid_template_areas": null,
            "grid_template_columns": null,
            "grid_template_rows": null,
            "height": null,
            "justify_content": null,
            "justify_items": null,
            "left": null,
            "margin": null,
            "max_height": null,
            "max_width": null,
            "min_height": null,
            "min_width": null,
            "object_fit": null,
            "object_position": null,
            "order": null,
            "overflow": null,
            "overflow_x": null,
            "overflow_y": null,
            "padding": null,
            "right": null,
            "top": null,
            "visibility": null,
            "width": null
          }
        },
        "029dcad7a0f241f7921ac70f14f1bc17": {
          "model_module": "@jupyter-widgets/controls",
          "model_name": "DescriptionStyleModel",
          "model_module_version": "1.5.0",
          "state": {
            "_model_module": "@jupyter-widgets/controls",
            "_model_module_version": "1.5.0",
            "_model_name": "DescriptionStyleModel",
            "_view_count": null,
            "_view_module": "@jupyter-widgets/base",
            "_view_module_version": "1.2.0",
            "_view_name": "StyleView",
            "description_width": ""
          }
        },
        "b9395f441d1947768e6f098130a39462": {
          "model_module": "@jupyter-widgets/controls",
          "model_name": "HBoxModel",
          "model_module_version": "1.5.0",
          "state": {
            "_dom_classes": [],
            "_model_module": "@jupyter-widgets/controls",
            "_model_module_version": "1.5.0",
            "_model_name": "HBoxModel",
            "_view_count": null,
            "_view_module": "@jupyter-widgets/controls",
            "_view_module_version": "1.5.0",
            "_view_name": "HBoxView",
            "box_style": "",
            "children": [
              "IPY_MODEL_90657c6c2f6b4f688013c4622adf8556",
              "IPY_MODEL_5f9e0ee34b7e4a2bb89facb39b63f0ef",
              "IPY_MODEL_a5a005d02be349528b7fde1e81feb883"
            ],
            "layout": "IPY_MODEL_9286534e64af4168877a9d3bc398ce73"
          }
        },
        "90657c6c2f6b4f688013c4622adf8556": {
          "model_module": "@jupyter-widgets/controls",
          "model_name": "HTMLModel",
          "model_module_version": "1.5.0",
          "state": {
            "_dom_classes": [],
            "_model_module": "@jupyter-widgets/controls",
            "_model_module_version": "1.5.0",
            "_model_name": "HTMLModel",
            "_view_count": null,
            "_view_module": "@jupyter-widgets/controls",
            "_view_module_version": "1.5.0",
            "_view_name": "HTMLView",
            "description": "",
            "description_tooltip": null,
            "layout": "IPY_MODEL_dc45340fe707470cbedc885b40ae6302",
            "placeholder": "​",
            "style": "IPY_MODEL_8010b254fa06499ea637ba3eabdcda8f",
            "value": "100%"
          }
        },
        "5f9e0ee34b7e4a2bb89facb39b63f0ef": {
          "model_module": "@jupyter-widgets/controls",
          "model_name": "FloatProgressModel",
          "model_module_version": "1.5.0",
          "state": {
            "_dom_classes": [],
            "_model_module": "@jupyter-widgets/controls",
            "_model_module_version": "1.5.0",
            "_model_name": "FloatProgressModel",
            "_view_count": null,
            "_view_module": "@jupyter-widgets/controls",
            "_view_module_version": "1.5.0",
            "_view_name": "ProgressView",
            "bar_style": "success",
            "description": "",
            "description_tooltip": null,
            "layout": "IPY_MODEL_5eaa6c64f71e4e05b57ada1ef5d550ed",
            "max": 4542,
            "min": 0,
            "orientation": "horizontal",
            "style": "IPY_MODEL_6dc4642f6c9a4d3ba8605bec22316f02",
            "value": 4542
          }
        },
        "a5a005d02be349528b7fde1e81feb883": {
          "model_module": "@jupyter-widgets/controls",
          "model_name": "HTMLModel",
          "model_module_version": "1.5.0",
          "state": {
            "_dom_classes": [],
            "_model_module": "@jupyter-widgets/controls",
            "_model_module_version": "1.5.0",
            "_model_name": "HTMLModel",
            "_view_count": null,
            "_view_module": "@jupyter-widgets/controls",
            "_view_module_version": "1.5.0",
            "_view_name": "HTMLView",
            "description": "",
            "description_tooltip": null,
            "layout": "IPY_MODEL_4a9ec8375fcd4617bd36dc979ca4e24c",
            "placeholder": "​",
            "style": "IPY_MODEL_a5c1efb27c524ca29aedeb323e81d9ed",
            "value": " 4542/4542 [00:00&lt;00:00, 128094.89it/s]"
          }
        },
        "9286534e64af4168877a9d3bc398ce73": {
          "model_module": "@jupyter-widgets/base",
          "model_name": "LayoutModel",
          "model_module_version": "1.2.0",
          "state": {
            "_model_module": "@jupyter-widgets/base",
            "_model_module_version": "1.2.0",
            "_model_name": "LayoutModel",
            "_view_count": null,
            "_view_module": "@jupyter-widgets/base",
            "_view_module_version": "1.2.0",
            "_view_name": "LayoutView",
            "align_content": null,
            "align_items": null,
            "align_self": null,
            "border": null,
            "bottom": null,
            "display": null,
            "flex": null,
            "flex_flow": null,
            "grid_area": null,
            "grid_auto_columns": null,
            "grid_auto_flow": null,
            "grid_auto_rows": null,
            "grid_column": null,
            "grid_gap": null,
            "grid_row": null,
            "grid_template_areas": null,
            "grid_template_columns": null,
            "grid_template_rows": null,
            "height": null,
            "justify_content": null,
            "justify_items": null,
            "left": null,
            "margin": null,
            "max_height": null,
            "max_width": null,
            "min_height": null,
            "min_width": null,
            "object_fit": null,
            "object_position": null,
            "order": null,
            "overflow": null,
            "overflow_x": null,
            "overflow_y": null,
            "padding": null,
            "right": null,
            "top": null,
            "visibility": null,
            "width": null
          }
        },
        "dc45340fe707470cbedc885b40ae6302": {
          "model_module": "@jupyter-widgets/base",
          "model_name": "LayoutModel",
          "model_module_version": "1.2.0",
          "state": {
            "_model_module": "@jupyter-widgets/base",
            "_model_module_version": "1.2.0",
            "_model_name": "LayoutModel",
            "_view_count": null,
            "_view_module": "@jupyter-widgets/base",
            "_view_module_version": "1.2.0",
            "_view_name": "LayoutView",
            "align_content": null,
            "align_items": null,
            "align_self": null,
            "border": null,
            "bottom": null,
            "display": null,
            "flex": null,
            "flex_flow": null,
            "grid_area": null,
            "grid_auto_columns": null,
            "grid_auto_flow": null,
            "grid_auto_rows": null,
            "grid_column": null,
            "grid_gap": null,
            "grid_row": null,
            "grid_template_areas": null,
            "grid_template_columns": null,
            "grid_template_rows": null,
            "height": null,
            "justify_content": null,
            "justify_items": null,
            "left": null,
            "margin": null,
            "max_height": null,
            "max_width": null,
            "min_height": null,
            "min_width": null,
            "object_fit": null,
            "object_position": null,
            "order": null,
            "overflow": null,
            "overflow_x": null,
            "overflow_y": null,
            "padding": null,
            "right": null,
            "top": null,
            "visibility": null,
            "width": null
          }
        },
        "8010b254fa06499ea637ba3eabdcda8f": {
          "model_module": "@jupyter-widgets/controls",
          "model_name": "DescriptionStyleModel",
          "model_module_version": "1.5.0",
          "state": {
            "_model_module": "@jupyter-widgets/controls",
            "_model_module_version": "1.5.0",
            "_model_name": "DescriptionStyleModel",
            "_view_count": null,
            "_view_module": "@jupyter-widgets/base",
            "_view_module_version": "1.2.0",
            "_view_name": "StyleView",
            "description_width": ""
          }
        },
        "5eaa6c64f71e4e05b57ada1ef5d550ed": {
          "model_module": "@jupyter-widgets/base",
          "model_name": "LayoutModel",
          "model_module_version": "1.2.0",
          "state": {
            "_model_module": "@jupyter-widgets/base",
            "_model_module_version": "1.2.0",
            "_model_name": "LayoutModel",
            "_view_count": null,
            "_view_module": "@jupyter-widgets/base",
            "_view_module_version": "1.2.0",
            "_view_name": "LayoutView",
            "align_content": null,
            "align_items": null,
            "align_self": null,
            "border": null,
            "bottom": null,
            "display": null,
            "flex": null,
            "flex_flow": null,
            "grid_area": null,
            "grid_auto_columns": null,
            "grid_auto_flow": null,
            "grid_auto_rows": null,
            "grid_column": null,
            "grid_gap": null,
            "grid_row": null,
            "grid_template_areas": null,
            "grid_template_columns": null,
            "grid_template_rows": null,
            "height": null,
            "justify_content": null,
            "justify_items": null,
            "left": null,
            "margin": null,
            "max_height": null,
            "max_width": null,
            "min_height": null,
            "min_width": null,
            "object_fit": null,
            "object_position": null,
            "order": null,
            "overflow": null,
            "overflow_x": null,
            "overflow_y": null,
            "padding": null,
            "right": null,
            "top": null,
            "visibility": null,
            "width": null
          }
        },
        "6dc4642f6c9a4d3ba8605bec22316f02": {
          "model_module": "@jupyter-widgets/controls",
          "model_name": "ProgressStyleModel",
          "model_module_version": "1.5.0",
          "state": {
            "_model_module": "@jupyter-widgets/controls",
            "_model_module_version": "1.5.0",
            "_model_name": "ProgressStyleModel",
            "_view_count": null,
            "_view_module": "@jupyter-widgets/base",
            "_view_module_version": "1.2.0",
            "_view_name": "StyleView",
            "bar_color": null,
            "description_width": ""
          }
        },
        "4a9ec8375fcd4617bd36dc979ca4e24c": {
          "model_module": "@jupyter-widgets/base",
          "model_name": "LayoutModel",
          "model_module_version": "1.2.0",
          "state": {
            "_model_module": "@jupyter-widgets/base",
            "_model_module_version": "1.2.0",
            "_model_name": "LayoutModel",
            "_view_count": null,
            "_view_module": "@jupyter-widgets/base",
            "_view_module_version": "1.2.0",
            "_view_name": "LayoutView",
            "align_content": null,
            "align_items": null,
            "align_self": null,
            "border": null,
            "bottom": null,
            "display": null,
            "flex": null,
            "flex_flow": null,
            "grid_area": null,
            "grid_auto_columns": null,
            "grid_auto_flow": null,
            "grid_auto_rows": null,
            "grid_column": null,
            "grid_gap": null,
            "grid_row": null,
            "grid_template_areas": null,
            "grid_template_columns": null,
            "grid_template_rows": null,
            "height": null,
            "justify_content": null,
            "justify_items": null,
            "left": null,
            "margin": null,
            "max_height": null,
            "max_width": null,
            "min_height": null,
            "min_width": null,
            "object_fit": null,
            "object_position": null,
            "order": null,
            "overflow": null,
            "overflow_x": null,
            "overflow_y": null,
            "padding": null,
            "right": null,
            "top": null,
            "visibility": null,
            "width": null
          }
        },
        "a5c1efb27c524ca29aedeb323e81d9ed": {
          "model_module": "@jupyter-widgets/controls",
          "model_name": "DescriptionStyleModel",
          "model_module_version": "1.5.0",
          "state": {
            "_model_module": "@jupyter-widgets/controls",
            "_model_module_version": "1.5.0",
            "_model_name": "DescriptionStyleModel",
            "_view_count": null,
            "_view_module": "@jupyter-widgets/base",
            "_view_module_version": "1.2.0",
            "_view_name": "StyleView",
            "description_width": ""
          }
        }
      }
    }
  },
  "cells": [
    {
      "cell_type": "markdown",
      "metadata": {
        "id": "view-in-github",
        "colab_type": "text"
      },
      "source": [
        "<a href=\"https://colab.research.google.com/github/lhb00/basic_pytorch_for_deeplearning/blob/main/basic_pytorch_for_deeplearning_theme_7.ipynb\" target=\"_parent\"><img src=\"https://colab.research.google.com/assets/colab-badge.svg\" alt=\"Open In Colab\"/></a>"
      ]
    },
    {
      "cell_type": "markdown",
      "source": [
        "###Theme 7. 순환 신경망\n",
        "####(1) 기본 순환 신경망"
      ],
      "metadata": {
        "id": "5sFVaONu4sJ7"
      }
    },
    {
      "cell_type": "code",
      "source": [
        "# 주가 데이터(일자, 시작가, 고가, 저가, 종가, 보정된 종가, 거래량으로 구성됨) csv 파일로 시작\n",
        "import numpy as np\n",
        "import pandas as pd\n",
        "from sklearn.preprocessing import MinMaxScaler\n",
        "import torch\n",
        "import torch.nn as nn\n",
        "import torch.optim as optim\n",
        "import matplotlib.pyplot as plt"
      ],
      "metadata": {
        "id": "vJiUZTic422x"
      },
      "execution_count": 2,
      "outputs": []
    },
    {
      "cell_type": "code",
      "source": [
        "df = pd.read_csv(\"/content/drive/MyDrive/deeplearning/data/kospi.csv\") # pandas 이용, csv 파일 데이터프레임 형태로 불러옴.\n",
        "# 데이터는 보정된 종가 제외 나머지 사용, 일자 제외 MinMax 스케일 사용하여 데이터 가공\n",
        "scaler = MinMaxScaler()\n",
        "df[['Open','High','Low','Close','Volume']] = scaler.fit_transform(df[['Open','High','Low','Close','Volume']])"
      ],
      "metadata": {
        "id": "5z8Kj7xK5V4M"
      },
      "execution_count": 3,
      "outputs": []
    },
    {
      "cell_type": "code",
      "source": [
        "df.head() # head()는 상위 5개 항목에 대한 테이블 출력, 일자, 보정된 종가 제외 나머지가 스케일링 되었음."
      ],
      "metadata": {
        "colab": {
          "base_uri": "https://localhost:8080/",
          "height": 206
        },
        "id": "IY-qb9LJE4YW",
        "outputId": "1daa8603-6bc4-41bb-a937-704e8af86139"
      },
      "execution_count": 4,
      "outputs": [
        {
          "output_type": "execute_result",
          "data": {
            "text/plain": [
              "         Date      Open      High       Low     Close    Adj Close    Volume\n",
              "0  2019-01-30  0.722898  0.732351  0.745525  0.759235  2206.199951  0.242113\n",
              "1  2019-01-31  0.763058  0.750069  0.769089  0.757866  2204.850098  0.274771\n",
              "2  2019-02-01  0.751894  0.745714  0.769280  0.756456  2203.459961  0.241609\n",
              "3  2019-02-07  0.755809  0.742538  0.764596  0.756415  2203.419922  0.215603\n",
              "4  2019-02-08  0.731584  0.717777  0.739548  0.729669  2177.050049  0.197057"
            ],
            "text/html": [
              "\n",
              "  <div id=\"df-193a4dd1-ecea-4375-92e8-9665c9af3fe7\">\n",
              "    <div class=\"colab-df-container\">\n",
              "      <div>\n",
              "<style scoped>\n",
              "    .dataframe tbody tr th:only-of-type {\n",
              "        vertical-align: middle;\n",
              "    }\n",
              "\n",
              "    .dataframe tbody tr th {\n",
              "        vertical-align: top;\n",
              "    }\n",
              "\n",
              "    .dataframe thead th {\n",
              "        text-align: right;\n",
              "    }\n",
              "</style>\n",
              "<table border=\"1\" class=\"dataframe\">\n",
              "  <thead>\n",
              "    <tr style=\"text-align: right;\">\n",
              "      <th></th>\n",
              "      <th>Date</th>\n",
              "      <th>Open</th>\n",
              "      <th>High</th>\n",
              "      <th>Low</th>\n",
              "      <th>Close</th>\n",
              "      <th>Adj Close</th>\n",
              "      <th>Volume</th>\n",
              "    </tr>\n",
              "  </thead>\n",
              "  <tbody>\n",
              "    <tr>\n",
              "      <th>0</th>\n",
              "      <td>2019-01-30</td>\n",
              "      <td>0.722898</td>\n",
              "      <td>0.732351</td>\n",
              "      <td>0.745525</td>\n",
              "      <td>0.759235</td>\n",
              "      <td>2206.199951</td>\n",
              "      <td>0.242113</td>\n",
              "    </tr>\n",
              "    <tr>\n",
              "      <th>1</th>\n",
              "      <td>2019-01-31</td>\n",
              "      <td>0.763058</td>\n",
              "      <td>0.750069</td>\n",
              "      <td>0.769089</td>\n",
              "      <td>0.757866</td>\n",
              "      <td>2204.850098</td>\n",
              "      <td>0.274771</td>\n",
              "    </tr>\n",
              "    <tr>\n",
              "      <th>2</th>\n",
              "      <td>2019-02-01</td>\n",
              "      <td>0.751894</td>\n",
              "      <td>0.745714</td>\n",
              "      <td>0.769280</td>\n",
              "      <td>0.756456</td>\n",
              "      <td>2203.459961</td>\n",
              "      <td>0.241609</td>\n",
              "    </tr>\n",
              "    <tr>\n",
              "      <th>3</th>\n",
              "      <td>2019-02-07</td>\n",
              "      <td>0.755809</td>\n",
              "      <td>0.742538</td>\n",
              "      <td>0.764596</td>\n",
              "      <td>0.756415</td>\n",
              "      <td>2203.419922</td>\n",
              "      <td>0.215603</td>\n",
              "    </tr>\n",
              "    <tr>\n",
              "      <th>4</th>\n",
              "      <td>2019-02-08</td>\n",
              "      <td>0.731584</td>\n",
              "      <td>0.717777</td>\n",
              "      <td>0.739548</td>\n",
              "      <td>0.729669</td>\n",
              "      <td>2177.050049</td>\n",
              "      <td>0.197057</td>\n",
              "    </tr>\n",
              "  </tbody>\n",
              "</table>\n",
              "</div>\n",
              "      <button class=\"colab-df-convert\" onclick=\"convertToInteractive('df-193a4dd1-ecea-4375-92e8-9665c9af3fe7')\"\n",
              "              title=\"Convert this dataframe to an interactive table.\"\n",
              "              style=\"display:none;\">\n",
              "        \n",
              "  <svg xmlns=\"http://www.w3.org/2000/svg\" height=\"24px\"viewBox=\"0 0 24 24\"\n",
              "       width=\"24px\">\n",
              "    <path d=\"M0 0h24v24H0V0z\" fill=\"none\"/>\n",
              "    <path d=\"M18.56 5.44l.94 2.06.94-2.06 2.06-.94-2.06-.94-.94-2.06-.94 2.06-2.06.94zm-11 1L8.5 8.5l.94-2.06 2.06-.94-2.06-.94L8.5 2.5l-.94 2.06-2.06.94zm10 10l.94 2.06.94-2.06 2.06-.94-2.06-.94-.94-2.06-.94 2.06-2.06.94z\"/><path d=\"M17.41 7.96l-1.37-1.37c-.4-.4-.92-.59-1.43-.59-.52 0-1.04.2-1.43.59L10.3 9.45l-7.72 7.72c-.78.78-.78 2.05 0 2.83L4 21.41c.39.39.9.59 1.41.59.51 0 1.02-.2 1.41-.59l7.78-7.78 2.81-2.81c.8-.78.8-2.07 0-2.86zM5.41 20L4 18.59l7.72-7.72 1.47 1.35L5.41 20z\"/>\n",
              "  </svg>\n",
              "      </button>\n",
              "      \n",
              "  <style>\n",
              "    .colab-df-container {\n",
              "      display:flex;\n",
              "      flex-wrap:wrap;\n",
              "      gap: 12px;\n",
              "    }\n",
              "\n",
              "    .colab-df-convert {\n",
              "      background-color: #E8F0FE;\n",
              "      border: none;\n",
              "      border-radius: 50%;\n",
              "      cursor: pointer;\n",
              "      display: none;\n",
              "      fill: #1967D2;\n",
              "      height: 32px;\n",
              "      padding: 0 0 0 0;\n",
              "      width: 32px;\n",
              "    }\n",
              "\n",
              "    .colab-df-convert:hover {\n",
              "      background-color: #E2EBFA;\n",
              "      box-shadow: 0px 1px 2px rgba(60, 64, 67, 0.3), 0px 1px 3px 1px rgba(60, 64, 67, 0.15);\n",
              "      fill: #174EA6;\n",
              "    }\n",
              "\n",
              "    [theme=dark] .colab-df-convert {\n",
              "      background-color: #3B4455;\n",
              "      fill: #D2E3FC;\n",
              "    }\n",
              "\n",
              "    [theme=dark] .colab-df-convert:hover {\n",
              "      background-color: #434B5C;\n",
              "      box-shadow: 0px 1px 3px 1px rgba(0, 0, 0, 0.15);\n",
              "      filter: drop-shadow(0px 1px 2px rgba(0, 0, 0, 0.3));\n",
              "      fill: #FFFFFF;\n",
              "    }\n",
              "  </style>\n",
              "\n",
              "      <script>\n",
              "        const buttonEl =\n",
              "          document.querySelector('#df-193a4dd1-ecea-4375-92e8-9665c9af3fe7 button.colab-df-convert');\n",
              "        buttonEl.style.display =\n",
              "          google.colab.kernel.accessAllowed ? 'block' : 'none';\n",
              "\n",
              "        async function convertToInteractive(key) {\n",
              "          const element = document.querySelector('#df-193a4dd1-ecea-4375-92e8-9665c9af3fe7');\n",
              "          const dataTable =\n",
              "            await google.colab.kernel.invokeFunction('convertToInteractive',\n",
              "                                                     [key], {});\n",
              "          if (!dataTable) return;\n",
              "\n",
              "          const docLinkHtml = 'Like what you see? Visit the ' +\n",
              "            '<a target=\"_blank\" href=https://colab.research.google.com/notebooks/data_table.ipynb>data table notebook</a>'\n",
              "            + ' to learn more about interactive tables.';\n",
              "          element.innerHTML = '';\n",
              "          dataTable['output_type'] = 'display_data';\n",
              "          await google.colab.output.renderOutput(dataTable, element);\n",
              "          const docLink = document.createElement('div');\n",
              "          docLink.innerHTML = docLinkHtml;\n",
              "          element.appendChild(docLink);\n",
              "        }\n",
              "      </script>\n",
              "    </div>\n",
              "  </div>\n",
              "  "
            ]
          },
          "metadata": {},
          "execution_count": 4
        }
      ]
    },
    {
      "cell_type": "code",
      "source": [
        "# 데이터는 인스턴스 413개, 피쳐 4개(Open, High, Low, Volume)이고 타깃값은 종가(Close)임. 즉, 413X4 시계열 데이터 보유.\n",
        "# 이 단계에서는 며칠을 사용하여 다음날 종가를 예측하느냐, 학습 데이터/평갸 데이터의 비율이 고려되어야함.\n",
        "device = torch.device(\"cuda:0\" if torch.cuda.is_available else \"cpu\")\n",
        "X = df[['Open','High','Low','Volume']].values # 데이터 프레임에서는 values를 이용하여 넘파이 배열로 만들 수 있다. X는 입력 데이터 \n",
        "y = df['Close'].values # y는 타깃 데이터"
      ],
      "metadata": {
        "id": "4hhQ-BpxFKig"
      },
      "execution_count": 5,
      "outputs": []
    },
    {
      "cell_type": "code",
      "source": [
        "def seq_data(x, y, sequence_length): # 시퀀스 데이터를 만드는 함수 생성\n",
        "  x_seq = [] # x에 대한 시퀀스를 저장하는 빈 리스트\n",
        "  y_seq = [] # \by에 대한 시퀀스를 저장하는 빈 리스트\n",
        "  for i in range(len(x)-sequence_length): # 미리 정한 시퀀스 길이로 쪼개어 저장. 데이터는 for문의 1회 당 한 칸 움직여 저장(보폭 정하는 것도 가능)\n",
        "  # ex. 길이가 3이면 처음 저장된 데이터는 0, 1, 2번째 데이터가 한 묶음, 다음은 1, 2, 3, 그 다음은 2, 3, 4번째의 데이터가 한 묶음이 됨.\n",
        "  # y 데이터는 다음 날 값이 타깃값 => 입력값이 x[i:i+sequence_length]면 타깃값은 y[i+sequence_length]로 작성.\n",
        "  # ex. X가 0, 1, 2번째 데이터를 묶일 때 3번째 데이터의 y값이 대응되는 타깃값이 됨.\n",
        "    x_seq.append(x[i:i+sequence_length]) # a[2:6] -> 2,3,4,5\n",
        "    y_seq.append(y[i+sequence_length])\n",
        "\n",
        "  return torch.FloatTensor(x_seq).to(device), torch.FloatTensor(y_seq).to(device).view(-1,1) # last, GPU용 텐서로 변환. 여기서 y 데이터를 view(-1,1)로 사용하여 2차원으로 바꾸는 이유 : MSE Loss가 기본적으로 2차원 타깃 데이터를 받기 때문."
      ],
      "metadata": {
        "id": "0OCxllvcGHOh"
      },
      "execution_count": 6,
      "outputs": []
    },
    {
      "cell_type": "code",
      "source": [
        "split = 200 # 이때 순서대로 200개 데이터는 학습 데이터로 사용, 이후 데이터는 평가 데이터로 사용\n",
        "sequence_length = 5 # 시퀀스 길이를 5로 설정, 426개의(431(전체 데이터)-5(시퀀스 길이)) 시퀀스 데이터 생성 가능.\n",
        "x_seq, y_seq = seq_data(X,y,sequence_length)\n",
        "x_train_seq = x_seq[:split]\n",
        "y_train_seq = y_seq[:split]\n",
        "x_test_seq = x_seq[split:]\n",
        "y_test_seq = y_seq[split:]\n",
        "print(x_train_seq.size(), y_train_seq.size())\n",
        "print(x_test_seq.size(),y_test_seq.size())"
      ],
      "metadata": {
        "colab": {
          "base_uri": "https://localhost:8080/"
        },
        "id": "zhD9SawiH-SD",
        "outputId": "1743825f-7287-4fec-c39e-008f1123b824"
      },
      "execution_count": 7,
      "outputs": [
        {
          "output_type": "stream",
          "name": "stderr",
          "text": [
            "/usr/local/lib/python3.7/dist-packages/ipykernel_launcher.py:11: UserWarning: Creating a tensor from a list of numpy.ndarrays is extremely slow. Please consider converting the list to a single numpy.ndarray with numpy.array() before converting to a tensor. (Triggered internally at  ../torch/csrc/utils/tensor_new.cpp:201.)\n",
            "  # This is added back by InteractiveShellApp.init_path()\n"
          ]
        },
        {
          "output_type": "stream",
          "name": "stdout",
          "text": [
            "torch.Size([200, 5, 4]) torch.Size([200, 1])\n",
            "torch.Size([226, 5, 4]) torch.Size([226, 1])\n"
          ]
        }
      ]
    },
    {
      "cell_type": "code",
      "source": [
        "# Dataset과 DataLoader를 이용, 배치 데이터로 만듦.\n",
        "train = torch.utils.data.TensorDataset(x_train_seq, y_train_seq)\n",
        "test = torch.utils.data.TensorDataset(x_test_seq, y_test_seq)\n",
        "batch_size = 20\n",
        "train_loader = torch.utils.data.DataLoader(dataset = train, batch_size = batch_size, shuffle=True)\n",
        "test_loader = torch.utils.data.DataLoader(dataset=test, batch_size=batch_size)"
      ],
      "metadata": {
        "id": "lLp6FmESI6l0"
      },
      "execution_count": 9,
      "outputs": []
    },
    {
      "cell_type": "code",
      "source": [
        "# RNN 연산은 파이토치에서 제공하므로 전체를 직접 구현할 필요 X\n",
        "input_size = x_seq.size(2) # 입력 변수의 개수\n",
        "num_layers = 2 # 은닉층의 개수\n",
        "hidden_size = 8 #은닉 상태를 저장하는 벡터의 크기\n",
        "# 만 정하면 된다!"
      ],
      "metadata": {
        "id": "OKWv9jluJv0d"
      },
      "execution_count": 10,
      "outputs": []
    },
    {
      "cell_type": "code",
      "source": [
        "class VanillaRNN(nn.Module): # RNN의 클래스 생성\n",
        "  def __init__(self, input_size, hidden_size, sequence_length, num_layers, device):\n",
        "    super(VanillaRNN, self).__init__() # 각 변수 정리\n",
        "    self.device = device\n",
        "    self.hidden_size = hidden_size\n",
        "    self.num_layers = num_layers\n",
        "    self.rnn = nn.RNN(input_size, hidden_size, num_layers, batch_first=True) # nn.RNN을 이용하면 한 줄로 모델이 정의됨.\n",
        "    # 주의할 점은 원래 nn.RNN의 입력 데이터 크기 = 시퀀스의 길이X배치사이즈X변수의 크기이므로, (200, 5, 4) 크기의 데이터 => (5, 200, 4)로 변경해야함.\n",
        "    # But, batch_first=True 사용 시에는 기존의 200X5X4데이터를 그대로 사용 가능!\n",
        "    self.fc = nn.Sequential(nn.Linear(hidden_size* sequence_length, 1), nn.Sigmoid()) # RNN에서 나온 출력값을 FC층 하나를 거쳐 예측값을 뽑을 수 있도록 self.fc 정의\n",
        "\n",
        "  def forward(self,x):\n",
        "    h0=torch.zeros(self.num_layers,x.size()[0], self.hidden_size).to(self.device) # RNN은 이전 h를 받아 계산 => 첫 번째 계산 시 이전 h가 없기 때문에 초깃값을 영텐서로 정의, h0를 대입.\n",
        "    out,_=self.rnn(x,h0) # 정의된 self.rnn을 사용, 이때 파이토치에서 제공하는 모델은 many to many 방법을 가지고 각 시간에 대한 예측값 & 은닉 상태 산출. But 이 예시에서는 은닉 상태 사용 X, out,_으로 예측값을 받음.\n",
        "    out = out.reshape(out.shape[0], -1) # 모든 출력값 사용을 위하여 out을 일렬로 만들어 self.fc에 넣음.\n",
        "    out = self.fc(out)\n",
        "    return out"
      ],
      "metadata": {
        "id": "qDzaV0hUKEUH"
      },
      "execution_count": 15,
      "outputs": []
    },
    {
      "cell_type": "code",
      "source": [
        "# 입력값, 은닉 상태 크기, 시퀀스 길이, 은닉층 개수, gpu 연산을 위한 device 변수까지 모델에 넣어줌. 또한 GPU 연산을 위해 moodel 뒤에 .to(device)를 붙여줌.\n",
        "model = VanillaRNN(input_size = input_size,\n",
        "                   hidden_size = hidden_size,\n",
        "                   sequence_length = sequence_length,\n",
        "                   num_layers = num_layers,\n",
        "                   device = device).to(device)"
      ],
      "metadata": {
        "id": "eHP6IgzWLGdV"
      },
      "execution_count": 16,
      "outputs": []
    },
    {
      "cell_type": "code",
      "source": [
        "# 주가 예측 => 회귀문제 => 대표적인 MSE 손실 함수 사용. 학습은 301회, 최적화 방법은 Adam.\n",
        "criterion = nn.MSELoss()\n",
        "num_epochs = 301\n",
        "optimizer = optim.Adam(model.parameters(), lr = 1e-3)"
      ],
      "metadata": {
        "id": "ZFVhqzzzMs6I"
      },
      "execution_count": 17,
      "outputs": []
    },
    {
      "cell_type": "code",
      "source": [
        "# 그저 전형적인 지도 학습 방법\n",
        "loss_graph = []\n",
        "n = len(train_loader)\n",
        "\n",
        "for epoch in range(num_epochs):\n",
        "  running_loss = 0.0\n",
        "\n",
        "  for data in train_loader:\n",
        "\n",
        "    seq, target = data # 배치 데이터\n",
        "    out = model(seq) # 출력값 산출\n",
        "    loss = criterion(out, target) # 손실 함수 계산\n",
        "\n",
        "\n",
        "    optimizer.zero_grad()\n",
        "    loss.backward()\n",
        "    optimizer.step() # 최적화\n",
        "    running_loss+=loss.item()\n",
        "\n",
        "  loss_graph.append(running_loss/n)\n",
        "  if epoch%100==0:\n",
        "    print('[epoch: %d] loss: %.4f' %(epoch, running_loss/n))"
      ],
      "metadata": {
        "colab": {
          "base_uri": "https://localhost:8080/"
        },
        "id": "xWlo_4wVM6yH",
        "outputId": "741ca602-6480-4e13-a0f6-693389630943"
      },
      "execution_count": 18,
      "outputs": [
        {
          "output_type": "stream",
          "name": "stdout",
          "text": [
            "[epoch: 0] loss: 0.0212\n",
            "[epoch: 100] loss: 0.0009\n",
            "[epoch: 200] loss: 0.0006\n",
            "[epoch: 300] loss: 0.0004\n"
          ]
        }
      ]
    },
    {
      "cell_type": "code",
      "source": [
        "# 손실 함수를 통해 단편적으로 훈련이 잘 됐음을 확인 할 수 있음!\n",
        "plt.figure(figsize=(20,10))\n",
        "plt.plot(loss_graph)\n",
        "plt.show()"
      ],
      "metadata": {
        "colab": {
          "base_uri": "https://localhost:8080/",
          "height": 519
        },
        "id": "y0I20KKfOidh",
        "outputId": "36a9f4d6-864d-423c-c557-7b0467402cb7"
      },
      "execution_count": 19,
      "outputs": [
        {
          "output_type": "display_data",
          "data": {
            "text/plain": [
              "<Figure size 1440x720 with 1 Axes>"
            ],
            "image/png": "[encoded data removed]"
          },
          "metadata": {
            "needs_background": "light"
          }
        }
      ]
    },
    {
      "cell_type": "code",
      "source": [
        "concatdata = torch.utils.data.ConcatDataset([train,test]) # ConcatDataset은 여러 개의 데이터 세트를 함께 사용할 수 있도록 도와줌.\n",
        "# 입력값은 데이터 세트의 리스트를 받음 => 앞서 정의한 train, test를 리스트 [train, test]로 넣어줌.\n",
        "data_loader = torch.utils.data.DataLoader(dataset=concatdata, batch_size=100)\n",
        "with torch.no_grad():\n",
        "  pred = [] # 예측값을 저장할 빈 텐서 pred 생성\n",
        "  model.eval()\n",
        "  for data in data_loader:\n",
        "    seq,target = data\n",
        "    out = model(seq)\n",
        "    pred+=out.cpu().tolist() # 예측값은 GPU 텐서 => CPU 텐서로 변환 후 .tolist()를 이용, 리스트로 만들어 순차적으로 리스트 이어 붙임.\n",
        "plt.figure(figsize=(20,10))\n",
        "plt.plot(np.ones(100)*len(train),np.linspace(0,1,100),'--',linewidth=0.6) # 학습, 평가 일수를 구분짓는 선을 그음.\n",
        "plt.plot(df['Close'][sequence_length:].values,'--') # 실제값\n",
        "plt.plot(pred,'b',linewidth=0.6) # 예측값\n",
        "plt.legend(['train boundary','actual','prediction'])\n",
        "plt.show()\n",
        "# 파란색 수직선을 기준으로 왼쪽을 훈련 데이터, 오른쪽을 평가 데이터로 사용 => 훈련 데이터 부분은 학습이 잘 되어 실제값과 예측값이 잘 맞는듯?\n",
        "# 평가 부분은 급락하는 부분을 못잡아냄. 예측을 잘 하는거 같으나 오른쪽으로 shift 되었음."
      ],
      "metadata": {
        "colab": {
          "base_uri": "https://localhost:8080/",
          "height": 524
        },
        "id": "pSoBhH9WOr0u",
        "outputId": "4850e995-7b30-4b36-bdb9-0c3f6b3f0379"
      },
      "execution_count": 22,
      "outputs": [
        {
          "output_type": "display_data",
          "data": {
            "text/plain": [
              "<Figure size 1440x720 with 1 Axes>"
            ],
            "image/png": "[encoded data removed]"
          },
          "metadata": {
            "needs_background": "light"
          }
        }
      ]
    },
    {
      "cell_type": "markdown",
      "source": [
        "####(2) LSTM과 GRU"
      ],
      "metadata": {
        "id": "TCOdzkj8Qlv7"
      }
    },
    {
      "cell_type": "markdown",
      "source": [
        "#####2. LSTM"
      ],
      "metadata": {
        "id": "1--FeR4wV-77"
      }
    },
    {
      "cell_type": "code",
      "source": [
        "# 모델 구축 부분 제외, RNN 코드와 동일\n",
        "class LSTM(nn.Module):\n",
        "  def __init__(self, input_size, hidden_size, sequence_length, num_layers, device):\n",
        "    super(LSTM,self).__init__()\n",
        "    self.device = device\n",
        "    self.hidden_size = hidden_size\n",
        "    self.num_layer = num_layers\n",
        "    self.lstm = nn.LSTM(input_size, hidden_size, num_layers, batch_first=True) # nn.LSTM을 통해 한줄로 정의, LSTM은 은닉 상태, 셀 상태를 계산, 다음 타임 스텝으로 넘겨줌.\n",
        "    self.fc = nn.Linear(hidden_size*sequence_length,1)\n",
        "\n",
        "  def forward(self,x):\n",
        "    h0 = torch.zeros(self.num_layers, x.size()[0], self.hidden_size).to(self.device) # 은닉 상태, 셀 상태의 초깃값은 0, 모델에 넣어줌.\n",
        "    c0 = torch.zeros(self.num_layers, x.size()[0], self.hidden_size).to(self.device)\n",
        "    out,_ = self.lstm(x,(h0,c0))\n",
        "    out = out.reshape(out.shape[0], -1)\n",
        "    out = self.fc(out)\n",
        "    return out"
      ],
      "metadata": {
        "id": "3-BJF567QqgW"
      },
      "execution_count": 3,
      "outputs": []
    },
    {
      "cell_type": "markdown",
      "source": [
        "#####3. GRU(Gated Recurrent Units)"
      ],
      "metadata": {
        "id": "LGGjaa-2V2MT"
      }
    },
    {
      "cell_type": "code",
      "source": [
        "# 역시 모델 구축 외 다른 부분은 RNN 코드와 동일!\n",
        "class GRU(nn.Module):\n",
        "  def __init__(self, input_size, hidden_size, sequence_length, num_layers, device):\n",
        "    super(GRU,self).__init__()\n",
        "    self.device = device\n",
        "    self.hidden_size = hidden_size\n",
        "    self.num_layers = num_layers\n",
        "    self.gru = nn.GRU(input_size, hidden_size, num_layers, batch_first=True) # 마찬가지로 nn.GRU를 통해 한 줄로 정의 가능.\n",
        "    self.fc = nn.Linear(hidden_size*sequence_length,1)\n",
        "\n",
        "  def forward(self,x):\n",
        "    h0 = torch.zeros(self.num_layers, x.size(0), self.hidden_size).to(self.device) # RNN과 마찬가지로 은닉 상태의 초깃값은 0.\n",
        "    out,_ = self.gru(x,h0)\n",
        "    out = out.reshape(out.shape[0], -1)\n",
        "    out = self.fc(out)\n",
        "    return out"
      ],
      "metadata": {
        "id": "C3Bz-ry9VqJ-"
      },
      "execution_count": 4,
      "outputs": []
    },
    {
      "cell_type": "markdown",
      "source": [
        "####(3) Bi-LSTM"
      ],
      "metadata": {
        "id": "e6lv2a3YXBV-"
      }
    },
    {
      "cell_type": "markdown",
      "source": [
        "#####1. Bi-LSTM 구현하기"
      ],
      "metadata": {
        "id": "8ndeYK56XJHp"
      }
    },
    {
      "cell_type": "code",
      "source": [
        "import torch\n",
        "import torchvision\n",
        "import torch.nn as nn\n",
        "import torch.optim as optim\n",
        "from torch.utils.data import DataLoader"
      ],
      "metadata": {
        "id": "ii3J6hfkXGBv"
      },
      "execution_count": 5,
      "outputs": []
    },
    {
      "cell_type": "code",
      "source": [
        "# 본 예시에서는 숫자 이미지 판별을 양방햔 LSTM을 통해 예측 할 것. \n",
        "# 우리가 다루는 이미지는 주로 (배치사이즈, 채널 수, 이미지 너비, 이미지 높이) 형태의 크기를 지니고 있음.\n",
        "# MNIST 데이터의 채널 수는 1이고 이미지 크기가 28X28임. => 각 배치 데이터의 크기 = (배치사이즈, 1, 28, 28) => (배치사이즈, 28, 28)\n",
        "# 또한, 이미지 픽셀의 각 열을 하나의 벡터로 보고 행을 타임 스텝으로 볼 시 (배치사이즈, 시계열의 길이, 벡터의 크기)를 가진 시계열 데이터로 판단 가능. => 순환 신경망도 이미지 처리에 활용될 수 있다.\n",
        "tensor_mode = torchvision.transforms.ToTensor()\n",
        "trainset = torchvision.datasets.MNIST(root=\"/content/drive/MyDrive/deeplearning/data\", train=True, transform=tensor_mode,\n",
        "                                      download=True)\n",
        "testset = torchvision.datasets.MNIST(root=\"/content/drive/MyDrive/deeplearning/data\", train=False, transform=tensor_mode,\n",
        "                                     download=True)\n",
        "trainloader = DataLoader(trainset, batch_size=128, shuffle=True)\n",
        "testloader = DataLoader(testset, batch_size=128, shuffle=False)"
      ],
      "metadata": {
        "colab": {
          "base_uri": "https://localhost:8080/",
          "height": 451,
          "referenced_widgets": [
            "6bf89000aaeb4c63884126b5216f13e7",
            "49531da0f3b64f6b96d853b979f7e278",
            "71412bd930524ce18df6a6d71e2aa656",
            "3fdf77abc3f34a16b724a6fb14285f03",
            "0261c1e3d5d44a278b2279e1a62d31ab",
            "012ebc343fc747c3a42a3874bf980ddb",
            "69ded71482e44f85a15cae0edef39925",
            "745978137b294d70ab8d959e12522783",
            "a336c329b85a493b971266f0cafde600",
            "a54c021ff1f74b1caf5cdf3e3dca79f6",
            "b62472ae3be342dbb859eb165a074e20",
            "01266d1baa58438284d04d392d340edd",
            "ee38e1ecf0c4429089ac750efabf359d",
            "43438ca37b134e22862826b7cd64ce8d",
            "d070cb9ff4a84be68d35414d01ff6a3a",
            "d979705b210f4a379a76c4c375930f6f",
            "aaa7513bc46d46b9a61f2810a8c31e01",
            "ab2855dc96f8490e847f6e5742b11782",
            "57600b4278964f09b934977c91e7870c",
            "af088b6e06724ce0a217b48e169ba7df",
            "5a55cf85819e4df5a08dd0ce207c0f3c",
            "5fd4a1b8973c46c9b2ceca0a7f413e97",
            "82b87b19154e42659a4f02b528aa2b4a",
            "5e657de5ed1944efb047bcfd8074e1f9",
            "4ae838fcb480452aa81f839020199c20",
            "a3813bfd51a74909a9f794807c1fc92d",
            "dcf3a1f60bd24016b5d6456b059b01bb",
            "ee205a8ad1b74e3b94e51bf2fd365c62",
            "d611416f26904690833f24bca3ebec86",
            "8f5c9cbab61f4b01ae82f195417f2486",
            "6f4ccdfd4872494d870552c8b3862c56",
            "19a9c9294f4a46a19d5329c2d6123a2a",
            "029dcad7a0f241f7921ac70f14f1bc17",
            "b9395f441d1947768e6f098130a39462",
            "90657c6c2f6b4f688013c4622adf8556",
            "5f9e0ee34b7e4a2bb89facb39b63f0ef",
            "a5a005d02be349528b7fde1e81feb883",
            "9286534e64af4168877a9d3bc398ce73",
            "dc45340fe707470cbedc885b40ae6302",
            "8010b254fa06499ea637ba3eabdcda8f",
            "5eaa6c64f71e4e05b57ada1ef5d550ed",
            "6dc4642f6c9a4d3ba8605bec22316f02",
            "4a9ec8375fcd4617bd36dc979ca4e24c",
            "a5c1efb27c524ca29aedeb323e81d9ed"
          ]
        },
        "id": "03c1bq9MXUNB",
        "outputId": "8c74d92d-eba0-4d44-f78c-e059dd242a27"
      },
      "execution_count": 6,
      "outputs": [
        {
          "output_type": "stream",
          "name": "stdout",
          "text": [
            "Downloading http://yann.lecun.com/exdb/mnist/train-images-idx3-ubyte.gz\n",
            "Downloading http://yann.lecun.com/exdb/mnist/train-images-idx3-ubyte.gz to /content/drive/MyDrive/deeplearning/data/MNIST/raw/train-images-idx3-ubyte.gz\n"
          ]
        },
        {
          "output_type": "display_data",
          "data": {
            "text/plain": [
              "  0%|          | 0/9912422 [00:00<?, ?it/s]"
            ],
            "application/vnd.jupyter.widget-view+json": {
              "version_major": 2,
              "version_minor": 0,
              "model_id": "6bf89000aaeb4c63884126b5216f13e7"
            }
          },
          "metadata": {}
        },
        {
          "output_type": "stream",
          "name": "stdout",
          "text": [
            "Extracting /content/drive/MyDrive/deeplearning/data/MNIST/raw/train-images-idx3-ubyte.gz to /content/drive/MyDrive/deeplearning/data/MNIST/raw\n",
            "\n",
            "Downloading http://yann.lecun.com/exdb/mnist/train-labels-idx1-ubyte.gz\n",
            "Downloading http://yann.lecun.com/exdb/mnist/train-labels-idx1-ubyte.gz to /content/drive/MyDrive/deeplearning/data/MNIST/raw/train-labels-idx1-ubyte.gz\n"
          ]
        },
        {
          "output_type": "display_data",
          "data": {
            "text/plain": [
              "  0%|          | 0/28881 [00:00<?, ?it/s]"
            ],
            "application/vnd.jupyter.widget-view+json": {
              "version_major": 2,
              "version_minor": 0,
              "model_id": "01266d1baa58438284d04d392d340edd"
            }
          },
          "metadata": {}
        },
        {
          "output_type": "stream",
          "name": "stdout",
          "text": [
            "Extracting /content/drive/MyDrive/deeplearning/data/MNIST/raw/train-labels-idx1-ubyte.gz to /content/drive/MyDrive/deeplearning/data/MNIST/raw\n",
            "\n",
            "Downloading http://yann.lecun.com/exdb/mnist/t10k-images-idx3-ubyte.gz\n",
            "Downloading http://yann.lecun.com/exdb/mnist/t10k-images-idx3-ubyte.gz to /content/drive/MyDrive/deeplearning/data/MNIST/raw/t10k-images-idx3-ubyte.gz\n"
          ]
        },
        {
          "output_type": "display_data",
          "data": {
            "text/plain": [
              "  0%|          | 0/1648877 [00:00<?, ?it/s]"
            ],
            "application/vnd.jupyter.widget-view+json": {
              "version_major": 2,
              "version_minor": 0,
              "model_id": "82b87b19154e42659a4f02b528aa2b4a"
            }
          },
          "metadata": {}
        },
        {
          "output_type": "stream",
          "name": "stdout",
          "text": [
            "Extracting /content/drive/MyDrive/deeplearning/data/MNIST/raw/t10k-images-idx3-ubyte.gz to /content/drive/MyDrive/deeplearning/data/MNIST/raw\n",
            "\n",
            "Downloading http://yann.lecun.com/exdb/mnist/t10k-labels-idx1-ubyte.gz\n",
            "Downloading http://yann.lecun.com/exdb/mnist/t10k-labels-idx1-ubyte.gz to /content/drive/MyDrive/deeplearning/data/MNIST/raw/t10k-labels-idx1-ubyte.gz\n"
          ]
        },
        {
          "output_type": "display_data",
          "data": {
            "text/plain": [
              "  0%|          | 0/4542 [00:00<?, ?it/s]"
            ],
            "application/vnd.jupyter.widget-view+json": {
              "version_major": 2,
              "version_minor": 0,
              "model_id": "b9395f441d1947768e6f098130a39462"
            }
          },
          "metadata": {}
        },
        {
          "output_type": "stream",
          "name": "stdout",
          "text": [
            "Extracting /content/drive/MyDrive/deeplearning/data/MNIST/raw/t10k-labels-idx1-ubyte.gz to /content/drive/MyDrive/deeplearning/data/MNIST/raw\n",
            "\n"
          ]
        }
      ]
    },
    {
      "cell_type": "code",
      "source": [
        "class BiLSTM(nn.Module): # BiLSTM 클래스 정의\n",
        "  def __init__(self,input_size,hidden_size,num_layers,seq_length,num_classes,device): # 입력값의 크기(이미지의 열 크기), 은닉층의 노드수, 은닉층의 개수, 시계열의 길이, 클래스 수, gpu 활용 여부에 대한 값을 받음.\n",
        "    super(BiLSTM,self).__init__()\n",
        "    self.device=device\n",
        "    self.hidden_size = hidden_size\n",
        "    self.num_layers = num_layers\n",
        "    self.seq_length = seq_length\n",
        "    self.lstm = nn.LSTM(input_size, hidden_size, num_layers, batch_first = True,\n",
        "                        bidirectional=True) # bidirectional=True로 활성화, 양방향 LSTM을 생성, batch_first = True로 지정, 크기가 (배치 사이즈, 시계열의 길이, 입력값의 크기)를 지닌 데이터를 활용할 수 있도록 함.\n",
        "    self.fc = nn.Linear(seq_length*hidden_size*2, num_classes) # 모든 타임 스탭에 대한 LSTM 결과를 분류에 사용 => self.fc의 입력값의 크기는 시계열의 길이*은닉층의 크기*2.\n",
        "    # 양방향 LST은 정방향, 역방향에 대한 LSTM을 계산한 후 합친 결과를 사용 => 각각의 은닉층 결과 2개가 합쳐지므로 2를 곱하는 것.\n",
        "  def forward(self,x):\n",
        "    h0 = torch.zeros(self.num_layers*2, x.size(0), self.hidden_size).to(self.device) # 은닉 상태와 셀 상태의 초깃값 정의. 여기서도 양방향에 대한 초깃값을 지정해야함 => 은닉층의 개수에 2를 곱함.\n",
        "    c0 = torch.zeros(self.num_layers*2, x.size(0), self.hidden_size).to(self.device)\n",
        "    out,_ = self.lstm(x,(h0,c0)) # 모델에서 나온 out의 크기는 (배치사이즈, 시계열의 길이, 은닉층의 노드수*2)임. 모든 데이터를 nn.Linear에 사용하기 위해 reshape를 하여 크기를 (배치사이즈, 시계열의 길이*은닉층의 노드수*2)로 변경\n",
        "    out = out.reshape(-1,self.seq_length*self.hidden_size*2)\n",
        "    out = self.fc(out) # 마지막으로 self.fc를 거친 후 크기가 10인 출력 벡터를 산출.\n",
        "    return out"
      ],
      "metadata": {
        "id": "lpBC2eBhYhY9"
      },
      "execution_count": 7,
      "outputs": []
    },
    {
      "cell_type": "code",
      "source": [
        "# 모델에 필요한 변수 정의. 위에서 언급했듯이 이미지 데이터의 행을 시계열로 열을 입력 벡터로 활용\n",
        "device = torch.device(\"cuda\" if torch.cuda.is_available() else \"cpu\")\n",
        "sequence_length = trainset.data.size(1) # 시계열의 길이는 trainset.data.size(1), 입력 벡터의 크기는 trainset.data.size(2).\n",
        "input_size = trainset.data.size(2)\n",
        "num_layers = 2 # Bi-LSTM의 은닉층 정보 => 적절한 값을 넣어줌.\n",
        "hidden_size = 12\n",
        "num_classes = 10 # 클래스 수는 10."
      ],
      "metadata": {
        "id": "Dn6SxiCCaf2B"
      },
      "execution_count": 8,
      "outputs": []
    },
    {
      "cell_type": "code",
      "source": [
        "# 모델, 손실 함수, 최적화 기법 정의\n",
        "model = BiLSTM(input_size, hidden_size, num_layers, sequence_length, num_classes, device)\n",
        "model = model.to(device)\n",
        "criterion = nn.CrossEntropyLoss()\n",
        "optimizer = optim.Adam(model.parameters(), lr=5e-3)"
      ],
      "metadata": {
        "id": "gF1ns1aea_rC"
      },
      "execution_count": 9,
      "outputs": []
    },
    {
      "cell_type": "code",
      "source": [
        "# 학습 방법은 지금까지와 동일.\n",
        "for epoch in range(51):\n",
        "  correct = 0\n",
        "  total = 0\n",
        "  for data in trainloader:\n",
        "    optimizer.zero_grad()\n",
        "    inputs, labels = data[0].to(device).squeeze(1), data[1].to(device) # 다만 원래 배치 데이터의 크기가 (배치사이즈, 1, 28, 28) => squeeze(1)을 통해 데이터의 크기를 (배치사이즈, 28, 28)로 변환\n",
        "    outputs = model(inputs)\n",
        "    loss = criterion(outputs, labels)\n",
        "    loss.backward()\n",
        "    optimizer.step()\n",
        "    _,predicted = torch.max(outputs.detach(), 1) # 학습 도중 정확도를 구할 때에는 변수 업데이트 필요 X, detach()을 사용, outputs의 requires_grad 비활성화.\n",
        "    total+=labels.size(0)\n",
        "    correct+=(predicted==labels).sum().item()\n",
        "  print('[%d] train acc: %.2f'%(epoch,100*correct/total))"
      ],
      "metadata": {
        "colab": {
          "base_uri": "https://localhost:8080/"
        },
        "id": "_ajU0mXMbVlH",
        "outputId": "c964aabd-aa36-4f30-d1ba-4525996737a0"
      },
      "execution_count": 10,
      "outputs": [
        {
          "output_type": "stream",
          "name": "stdout",
          "text": [
            "[0] train acc: 91.50\n",
            "[1] train acc: 97.38\n",
            "[2] train acc: 98.18\n",
            "[3] train acc: 98.50\n",
            "[4] train acc: 98.74\n",
            "[5] train acc: 98.94\n",
            "[6] train acc: 98.98\n",
            "[7] train acc: 99.16\n",
            "[8] train acc: 99.17\n",
            "[9] train acc: 99.33\n",
            "[10] train acc: 99.27\n",
            "[11] train acc: 99.41\n",
            "[12] train acc: 99.38\n",
            "[13] train acc: 99.54\n",
            "[14] train acc: 99.50\n",
            "[15] train acc: 99.55\n",
            "[16] train acc: 99.57\n",
            "[17] train acc: 99.62\n",
            "[18] train acc: 99.61\n",
            "[19] train acc: 99.61\n",
            "[20] train acc: 99.65\n",
            "[21] train acc: 99.66\n",
            "[22] train acc: 99.62\n",
            "[23] train acc: 99.72\n",
            "[24] train acc: 99.67\n",
            "[25] train acc: 99.71\n",
            "[26] train acc: 99.75\n",
            "[27] train acc: 99.69\n",
            "[28] train acc: 99.64\n",
            "[29] train acc: 99.77\n",
            "[30] train acc: 99.75\n",
            "[31] train acc: 99.78\n",
            "[32] train acc: 99.66\n",
            "[33] train acc: 99.77\n",
            "[34] train acc: 99.78\n",
            "[35] train acc: 99.72\n",
            "[36] train acc: 99.87\n",
            "[37] train acc: 99.78\n",
            "[38] train acc: 99.71\n",
            "[39] train acc: 99.86\n",
            "[40] train acc: 99.75\n",
            "[41] train acc: 99.76\n",
            "[42] train acc: 99.84\n",
            "[43] train acc: 99.83\n",
            "[44] train acc: 99.80\n",
            "[45] train acc: 99.80\n",
            "[46] train acc: 99.89\n",
            "[47] train acc: 99.77\n",
            "[48] train acc: 99.72\n",
            "[49] train acc: 99.88\n",
            "[50] train acc: 99.74\n"
          ]
        }
      ]
    },
    {
      "cell_type": "code",
      "source": [
        "# 순환 신경망을 통해 98.6%의 평가 정확도 달성. 이와 같이 순환 신경망을 이미지 처리에 사용 가능.\n",
        "def accuracy(dataloader):\n",
        "  correct = 0\n",
        "  total = 0\n",
        "  with torch.no_grad():\n",
        "    model.eval()\n",
        "    for data in dataloader:\n",
        "      inputs,labels = data[0].to(device).squeeze(1), data[1].to(device)\n",
        "      outputs = model(inputs)\n",
        "      _,predicted = torch.max(outputs,1)\n",
        "      total+=labels.size(0)\n",
        "      correct+=(predicted==labels).sum().item()\n",
        "\n",
        "    acc = 100*correct/total\n",
        "    model.train()\n",
        "    return acc"
      ],
      "metadata": {
        "id": "f1JpdrQQcVvc"
      },
      "execution_count": 11,
      "outputs": []
    },
    {
      "cell_type": "code",
      "source": [
        "train_acc = accuracy(trainloader)\n",
        "test_acc = accuracy(testloader)\n",
        "print(\"Train Acc: %.1f, Test Acc:%.1f\"%(train_acc, test_acc))"
      ],
      "metadata": {
        "colab": {
          "base_uri": "https://localhost:8080/"
        },
        "id": "8stouxP0dC3S",
        "outputId": "7b612d6d-03b9-4a07-ed38-0216e26b3ce7"
      },
      "execution_count": 12,
      "outputs": [
        {
          "output_type": "stream",
          "name": "stdout",
          "text": [
            "Train Acc: 99.8, Test Acc:98.6\n"
          ]
        }
      ]
    }
  ]
}