{
  "nbformat": 4,
  "nbformat_minor": 0,
  "metadata": {
    "colab": {
      "name": "basic_pytorch_for_deeplearning_theme 5",
      "provenance": [],
      "collapsed_sections": [],
      "authorship_tag": "ABX9TyMffERw2xCtBYCaIv9BkVuY",
      "include_colab_link": true
    },
    "kernelspec": {
      "name": "python3",
      "display_name": "Python 3"
    },
    "language_info": {
      "name": "python"
    }
  },
  "cells": [
    {
      "cell_type": "markdown",
      "metadata": {
        "id": "view-in-github",
        "colab_type": "text"
      },
      "source": [
        "<a href=\"https://colab.research.google.com/github/lhb00/basic_pytorch_for_deeplearning/blob/main/basic_pytorch_for_deeplearning_theme_5.ipynb\" target=\"_parent\"><img src=\"https://colab.research.google.com/assets/colab-badge.svg\" alt=\"Open In Colab\"/></a>"
      ]
    },
    {
      "cell_type": "markdown",
      "source": [
        "##Theme 5. 인공신경망\n",
        "###1. 다층 퍼셉트론\n",
        "####(1) 선형 회귀"
      ],
      "metadata": {
        "id": "41ftnqqeZe4J"
      }
    },
    {
      "cell_type": "code",
      "source": [
        "import torch\n",
        "import torch.nn as nn \n",
        "from matplotlib import pyplot as plt\n",
        "# 단층 퍼셉트론을 pytorch를 이용해 구축"
      ],
      "metadata": {
        "id": "b-5HH-MPZpXy"
      },
      "execution_count": 1,
      "outputs": []
    },
    {
      "cell_type": "code",
      "source": [
        "x = torch.FloatTensor(range(5)).unsqueeze(1) # 2차원 데이터로 표현하기 위하여 unsqueeze(1)로 1차원 확장.\n",
        "y = 2*x + torch.rand(5,1)"
      ],
      "metadata": {
        "id": "AdBT4sTPZ1ij"
      },
      "execution_count": 2,
      "outputs": []
    },
    {
      "cell_type": "code",
      "source": [
        "class LinearRegressor(nn.Module): #nn.Module을 상속받는 클래스 \n",
        "  def __init__(self): # 초기 세팅에 필요한 내용을 입력하는 __init__, super().__init__()을 작성.\n",
        "    super().__init__()\n",
        "    self.fc = nn.Linear(1,1,bias=True) # 선형 회귀 모델 y=wx+b를 nn.Linear(N, M, bias=True)로 표현 가능. N: 입력 변수의 개수, M: 출력 변수의 개수, x=N, Y=M임. bias=True가 Default이므로 안 적어도 됨.\n",
        "\n",
        "  def forward(self,x): #forward 함수는 실제 입력값이 들어와 연산이 진행하는 순서/방법을 정하는 곳. 위의 선형식을 사용하여 x값을 받아 y값을 반환하도록 함.\n",
        "    y = self.fc(x)\n",
        "\n",
        "    return y"
      ],
      "metadata": {
        "id": "bULMPHoWaD5i"
      },
      "execution_count": 3,
      "outputs": []
    },
    {
      "cell_type": "code",
      "source": [
        "model = LinearRegressor() #클래스 완성 => 모델 선언\n",
        "learning_rate = 1e-3\n",
        "criterion = nn.MSELoss() #MSE를 손실 함수로 사용\n",
        "optimizer = torch.optim.SGD(model.parameters(), lr=learning_rate) #최적화 방법에 모델 파라미터를 넣어 줄 경우 model.parameters()"
      ],
      "metadata": {
        "id": "0rqlpEtmaKa9"
      },
      "execution_count": 4,
      "outputs": []
    },
    {
      "cell_type": "code",
      "source": [
        "# 이전에 나왔던 형태의 코드\n",
        "loss_stack = []\n",
        "for epoch in range(1001):\n",
        "\n",
        "  optimizer.zero_grad()\n",
        "\n",
        "  y_hat = model(x) # 모델을 이용한\n",
        "  loss = criterion(y_hat,y) # 예측값 산출과 손실 함수 부분만 달라짐\n",
        "\n",
        "  loss.backward()\n",
        "  optimizer.step()\n",
        "  loss_stack.append(loss.item())\n",
        "\n",
        "  if epoch%100 ==0:\n",
        "    print(f'Epoch {epoch}:{loss.item()}')"
      ],
      "metadata": {
        "colab": {
          "base_uri": "https://localhost:8080/"
        },
        "id": "evOSKZQ8bO2t",
        "outputId": "880d00a9-b5d7-4580-9452-ab30929f4bcb"
      },
      "execution_count": 5,
      "outputs": [
        {
          "output_type": "stream",
          "name": "stdout",
          "text": [
            "Epoch 0:30.263439178466797\n",
            "Epoch 100:2.2134907245635986\n",
            "Epoch 200:0.31199485063552856\n",
            "Epoch 300:0.1715921312570572\n",
            "Epoch 400:0.15109427273273468\n",
            "Epoch 500:0.13990822434425354\n",
            "Epoch 600:0.13045307993888855\n",
            "Epoch 700:0.1220935806632042\n",
            "Epoch 800:0.11467711627483368\n",
            "Epoch 900:0.10809576511383057\n",
            "Epoch 1000:0.1022549644112587\n"
          ]
        }
      ]
    },
    {
      "cell_type": "code",
      "source": [
        "with torch.no_grad(): # 예측!=학습 => with torch.no_grad():을 통해 requires_grad를 비활성화함.\n",
        "  y_hat = model(x) # 학습된 모델을 통해 예측값 산출"
      ],
      "metadata": {
        "id": "zdUDvXKicHoV"
      },
      "execution_count": 6,
      "outputs": []
    },
    {
      "cell_type": "code",
      "source": [
        "# 역시 이전에도 나왔던 코드. 그래프를 그린다.\n",
        "plt.figure(figsize=(10,5))\n",
        "plt.subplot(121)\n",
        "plt.plot(loss_stack)\n",
        "plt.title(\"Loss\")\n",
        "plt.subplot(122)\n",
        "plt.plot(x, y, '.b')\n",
        "plt.plot(x, y_hat, 'r-') # '-'옵션을 넣어서 5개의 점이 아닌 점이 이어진 선 형식으로 표현\n",
        "plt.legend(['ground truth', 'prediction'])\n",
        "plt.title(\"Prediction\")\n",
        "plt.show()"
      ],
      "metadata": {
        "colab": {
          "base_uri": "https://localhost:8080/",
          "height": 336
        },
        "id": "nCUZleLfcl47",
        "outputId": "4f6ea627-f272-4c56-8375-54d7be304dec"
      },
      "execution_count": 7,
      "outputs": [
        {
          "output_type": "display_data",
          "data": {
            "text/plain": [
              "<Figure size 720x360 with 2 Axes>"
            ],
            "image/png": "[encoded data removed]"
          },
          "metadata": {
            "needs_background": "light"
          }
        }
      ]
    },
    {
      "cell_type": "markdown",
      "source": [
        "####(2) 집값 예측하기"
      ],
      "metadata": {
        "id": "qeeFPhM4djL0"
      }
    },
    {
      "cell_type": "code",
      "source": [
        "# 선형 회귀식은 nn.Linear()가 하나 있는 모델. 선형식은 모든 데이터를 직선으로 예측하기 때문에 학습이 아주 빠르다.\n",
        "# But, 데이터 내의 변수들은 일반적으로는 비선형 관계, 따라서 nn.Linear()를 줄지어 여러 층으로 깊은 신경망을 생성하는데, 이를 다층 신경망이라한다.\n",
        "import pandas as pd #pandas. 테이블형 데이터를 다루기에 가장 안성맞춤인 패키지\n",
        "import numpy as np\n",
        "from sklearn.model_selection import train_test_split\n",
        "import torch # torch 내의 다양한 기능들\n",
        "from torch import nn, optim\n",
        "from torch.utils.data import DataLoader, Dataset\n",
        "import torch.nn.functional as F\n",
        "from sklearn.metrics import mean_squared_error #회귀 문제의 평가를 위하여 RMSE를 사용. MSE에 루트를 씌운 값이고, MSE는 예측 값과 실제 값의 거리의 제곱을 이용하여 정의한다.\n",
        "# 미분 계산이 간단하여 머신러닝 모델 최적화를 위해 자주 사용되는 손실 함수임. But, 기본 단위에 제곱을 하여 나온 척도 이므로 데이터와 동일한 단위 아님. 그렇기 때문에 루트를 씌워서 평가하는 것!\n",
        "import matplotlib.pyplot as plt"
      ],
      "metadata": {
        "id": "SLQiY5dudnvB"
      },
      "execution_count": 8,
      "outputs": []
    },
    {
      "cell_type": "code",
      "source": [
        "df = pd.read_csv('/content/gdrive/My Drive/deeplearning/data/reg.csv', index_col=[0]) #스케일링된 집값 데이터를 read_csv를 통해 불러옴. index_col=[0]를 통하여 첫 번째 열에 있는 데이터의 인덱스를 배제, 데이터프레임 생성.\n",
        "# 데이터 내 변수의 개수 :13, 인스턴스의 개수 :506"
      ],
      "metadata": {
        "id": "aNMO32ADhkoH"
      },
      "execution_count": 19,
      "outputs": []
    },
    {
      "cell_type": "code",
      "source": [
        "X = df.drop('Price', axis=1).to_numpy() # 데이터프레임 df에서 Price를 제외한 나머지를 변수로 사용. axis=1은 열의 의미 => Price를 열 기준으로 배제\n",
        "Y = df['Price'].to_numpy().reshape((-1,1)) # Price를 타겟값 Y로 사용"
      ],
      "metadata": {
        "id": "DknMT_s6hyNH"
      },
      "execution_count": 20,
      "outputs": []
    },
    {
      "cell_type": "code",
      "source": [
        "X_train, X_test, Y_train, Y_test = train_test_split(X, Y, test_size=0.5) # 50:50으로 학습/평가 데이터를 나눔."
      ],
      "metadata": {
        "id": "gxFF2WTwhtlT"
      },
      "execution_count": 21,
      "outputs": []
    },
    {
      "cell_type": "code",
      "source": [
        "class TensorData(Dataset):\n",
        "\n",
        "  def __init__(self, x_data, y_data):\n",
        "    self.x_data = torch.FloatTensor(x_data)\n",
        "    self.y_data = torch.FloatTensor(y_data)\n",
        "    self.len = self.y_data.shape[0]\n",
        "\n",
        "  def __getitem__(self,index):\n",
        "    return self.x_data[index], self.y_data[index]\n",
        "\n",
        "  def __len__(self):\n",
        "    return self.len\n",
        "\n",
        "trainsets = TensorData(X_train, Y_train)\n",
        "trainloader = torch.utils.data.DataLoader(trainsets, batch_size=32, shuffle=True) #학습 데이터는 shuffle = True\n",
        "testsets = TensorData(X_test, Y_test)\n",
        "testloader = torch.utils.data.DataLoader(testsets,batch_size=32, shuffle=False) #평가 데이터는 shuffle = False가 일반적"
      ],
      "metadata": {
        "id": "myCOshs0RIp1"
      },
      "execution_count": 22,
      "outputs": []
    },
    {
      "cell_type": "code",
      "source": [
        "class Regressor(nn.Module): # 입력층 1개, 은닉층 2개, 출력층 1개를 가진 모델\n",
        "  def __init__(self):\n",
        "    super().__init__()\n",
        "    self.fc1 = nn.Linear(13, 50, bias=True) #입력층→은닉층1로 가는 연산 #노드가 13개인 이유 :데이터 피쳐의 개수가 13이므로\n",
        "    self.fc2 = nn.Linear(50, 30, bias=True) #은닉층1→은닉층2로 가는 연산 #은닉층은 알아서. 여기서는 50, 30개의 노드를 갖도록 구축함(※이전 층의 출력값과 다음 층의 입력값의 크기는 무조건 같아야함.)\n",
        "    self.fc3 = nn.Linear(30, 1, bias=True) #은닉층2→출럭층으로 가는 연산 #하나의 값으로 표현된 집값을 예측하는 것이므로 출력층은 1개의 노드를 가짐.\n",
        "    self.dropout = nn.Dropout(0.5) #연산될때마다 50%비율로 랜덤한 노드를 없앰\n",
        "\n",
        "  def forward(self, x): # 여기서 dropout 함수의 적용 위치를 정해줌\n",
        "    x = F.relu(self.fc1(x)) #F.relu(self.fc1(x))는 선형 연산 후 ReLU라는 활성화 함수 적용. 일반적으로 활성화 함수는 이전 층에서 다음 층으로 값을 비선형적으로 변환하여 넘겨주는 역할.\n",
        "    #이는 층과 층 사이의 관계를 비선형으로 만들어 줄 수 있어 성능 향상에 도움됨.\n",
        "    x = self.dropout(F.relu(self.fc2(x))) #self.dropout(F.relu(self.fc2(x))) 데이터가 노드가 50개인 이전 은닉층에서 30개의 은닉층으로 넘어갈까 ReLu라는 활성화 함수를 거치고, self.dropout을 통해 30개의 50% 확률고 값을 0으로 만듦.\n",
        "    #dropout은 과적합을 방지하기 위해 노드의 일부를 배제하고 학습하는 방식, 사용위치 지정 가능하나, ※절대로 출력층에 사용해서는 안됨.(당연한 것)\n",
        "    x = F.relu(self.fc3(x)) #batch size가 32이고 출력값은 하나이므로, 반환값의 크기는 torch.Size([32,1])임. But, 학습 데이터가 203개이므로 32개가 아닌 203의 약수인 29개가 들어온다. \n",
        "    return x"
      ],
      "metadata": {
        "id": "DO2NHrXoSs2M"
      },
      "execution_count": 24,
      "outputs": []
    },
    {
      "cell_type": "code",
      "source": [
        "model = Regressor()\n",
        "criterion = nn.MSELoss()\n",
        "optimizer = optim.Adam(model.parameters(), lr=0.001, weight_decay=1e-7) #Adam 최적화 방법을 정의함. weight_decay는 L2 정규화에서의 penalty 값을 의미, 값이 클 수록 제약조건이 강함."
      ],
      "metadata": {
        "id": "6oMgyvHOVg7L"
      },
      "execution_count": 25,
      "outputs": []
    },
    {
      "cell_type": "code",
      "source": [
        "loss_ = [] #그래프를 그리기 위하여 loss 저장용 리스트 생성\n",
        "n = len(trainloader) #매 에포크 손실 함수값 평균 계산을 위해 배치 반복 수를 n으로 둔다.\n",
        "for epoch in range(400): # 400번 데이터 반복 학습.\n",
        "  running_loss = 0.0 # 매 에포크 손실 함수값 평균 계산을 위해 초깃값은 0으로 둔다.\n",
        "  for data in trainloader: #배치를 불러와 학습.\n",
        "    inputs, values = data #입력값, 타깃값을 받는다.\n",
        "    optimizer.zero_grad() #그레디언트 초기화\n",
        "    outputs = model(inputs) # model에 입력값을 넣어 예측값을 산출\n",
        "    loss = criterion(outputs, values) # 손실 함수값 계산/최적화 진행\n",
        "    loss.backward()\n",
        "    optimizer.step()\n",
        "    running_loss+=loss.item() # 메 에포크 손실 함수값의 평균을 구하기 위해 runnig_loss에 배치마다 로스를 더함.\n",
        "\n",
        "  loss_.append(running_loss/n) # 저장용 리스트에 매 에포크 결과 저장."
      ],
      "metadata": {
        "id": "d3t6iW9-Tpcx"
      },
      "execution_count": 29,
      "outputs": []
    },
    {
      "cell_type": "code",
      "source": [
        "plt.plot(loss_)\n",
        "plt.title(\"Training Loss\")\n",
        "plt.xlabel(\"epoch\")\n",
        "plt.show()"
      ],
      "metadata": {
        "colab": {
          "base_uri": "https://localhost:8080/",
          "height": 295
        },
        "id": "-8bXIs2uXb78",
        "outputId": "b1b24520-5011-4965-9be4-689c217c0a79"
      },
      "execution_count": 30,
      "outputs": [
        {
          "output_type": "display_data",
          "data": {
            "text/plain": [
              "<Figure size 432x288 with 1 Axes>"
            ],
            "image/png": "[encoded data removed]"
          },
          "metadata": {
            "needs_background": "light"
          }
        }
      ]
    },
    {
      "cell_type": "code",
      "source": [
        "def evaluation(dataloader): #evaluation 함수에 dataloader를 받음.\n",
        "\n",
        "  predictions = torch.tensor([], dtype=torch.float) # 예측값과 그에 대응하는 실제값을 저장하기 위해 빈 텐서 생성 \n",
        "  # 값을 모두 저장 안해도 for문에서 누적 방식으로도 계산 됨. 그러나 여기서는 torch.cat을 사용할거임.\n",
        "  actual = torch.tensor([], dtype=torch.float)\n",
        "  with torch.no_grad(): # with torch.no_grad()로 requires_grad 비활성화\n",
        "    model.eval() # dropout 같은 정규화 기법은 학습시에만 적용해야함. => 모델 내에서 학습 시에만 동작하는 장치들을 비활성화 하기 위해 model.eval()을 적용\n",
        "    for data in dataloader: # 배치 단위로 데이터를 받아 예측값 산출, 실제값과 누적, 이때 torch.cat에서 0이라는 것은 0번째 차원을 기준으로 누적한다는 뜻\n",
        "    # 10X2인 두 개의 텐서가 있다고 하자. cat 기준이 0이면, 20X2가 되고, 1이면 10X4가 결과로 나온다.\n",
        "      inputs, values = data\n",
        "      outputs = model(inputs)\n",
        "      predictions = torch.cat((predictions, outputs),0)\n",
        "      actual = torch.cat((actual, values),0)\n",
        "\n",
        "  \n",
        "  predictions = predictions.numpy() # 텐서 데이터를 넘파이 배열로 변경\n",
        "  actual = actual.numpy()\n",
        "  rmse = np.sqrt(mean_squared_error(predictions, actual)) # mean_squared_error(predictions, actual)로 MSE를 계산, 루트를 씌워 RMSE를 계산함.\n",
        "\n",
        "  return rmse"
      ],
      "metadata": {
        "id": "WcE8-OxeXzj0"
      },
      "execution_count": 31,
      "outputs": []
    },
    {
      "cell_type": "code",
      "source": [
        "train_rmse = evaluation(trainloader) # 학습 데이터의 RMSE\n",
        "test_rmse = evaluation(testloader) # 시험 데이터의 RMSE\n",
        "print(\"Train RMSE:\",train_rmse)\n",
        "print(\"Test RMSE:\",test_rmse)\n",
        "# 데이터를 무작위로 나누고, 모델의 초깃값도 random initial parameter를 사용했기 때문에 학습을 할 때마다 결과가 다르게 나올 수 있음.\n",
        "# 교차 검증/여러 번의 실험을 통해 결과의 경향성을 봐야함."
      ],
      "metadata": {
        "colab": {
          "base_uri": "https://localhost:8080/"
        },
        "id": "BIVdwBzrZe1L",
        "outputId": "8c5571a2-657b-404d-d9f3-a9a32dffb423"
      },
      "execution_count": 33,
      "outputs": [
        {
          "output_type": "stream",
          "name": "stdout",
          "text": [
            "Train RMSE: 0.45216563\n",
            "Test RMSE: 0.42723274\n"
          ]
        }
      ]
    },
    {
      "cell_type": "markdown",
      "source": [
        "###4.경사하강법"
      ],
      "metadata": {
        "id": "OieOVN7Ycu3r"
      }
    },
    {
      "cell_type": "markdown",
      "source": [
        "####(1) 확률적 경사하강법"
      ],
      "metadata": {
        "id": "xcetTSlnczYM"
      }
    },
    {
      "cell_type": "code",
      "source": [
        "# 경사하강법의 특징 : 모든 변수의 미분을 계산해 한 번에 갱신한다는 것. => 노드 수와 가중치 수, 데이터가 많을 경우에는 연산량이 많아 모델의 학습 속도가 느려짐, 계산에 필요한 메모리가 부족한 경우 발생\n",
        "# 이를 해결하기 위해 데이터를 나눠서 학습하는 방법이 널리 쓰임. ex.n개의 데이터가 있는 경우 k개의 데이터 묶음을 만들어 학습을 진행. 나눠진 데이터 세트를 mini-batch라하며, 이 mini-batch를 이용해 경사하강법을 진행하는 것을 확률적 경사하강법이라함.\n",
        "# 일반 경사하강법과 확률적 경사하강법(SGD)의 차이는 데이터 전체를 한번에 사용하느냐/나눠서 사용하느냐의 차이만 있을 뿐, 계산과정은 차이가 없다. '확률적'인 이뉴는 mini-batch를 나눌 때 데이터를 무작위로 섞어서 나누기 때문.\n",
        "optimizer = torch.optim.SGD(model.parameters(), lr=0.01)"
      ],
      "metadata": {
        "id": "3Y2EgwlddFkv"
      },
      "execution_count": 34,
      "outputs": []
    },
    {
      "cell_type": "markdown",
      "source": [
        "####(2) 다양한 최적화 기법 "
      ],
      "metadata": {
        "id": "8sSSo_65eatI"
      }
    },
    {
      "cell_type": "markdown",
      "source": [
        "#####1. momentum 방법 "
      ],
      "metadata": {
        "id": "nwAi7woaeeuK"
      }
    },
    {
      "cell_type": "code",
      "source": [
        "# SGD 함수에 momentum 지수를 넣어줌.\n",
        "optimizer = torch.optim.SGD(model.parameters(), lr = 0.01, momentum = 0.9)"
      ],
      "metadata": {
        "id": "qcHRSFZyeiiR"
      },
      "execution_count": 35,
      "outputs": []
    },
    {
      "cell_type": "markdown",
      "source": [
        "#####2. Adam 방법"
      ],
      "metadata": {
        "id": "bCnYnT_XewA6"
      }
    },
    {
      "cell_type": "code",
      "source": [
        "optimizer = torch.optim.Adam(model.parameters(), lr = 0.01)\n",
        "# 이 외에도 torch.optim, Adadelta, torch.optim.Adagrad, torch.optim.RMSprop 등이 있다."
      ],
      "metadata": {
        "id": "lNPMcNYxez37"
      },
      "execution_count": 36,
      "outputs": []
    },
    {
      "cell_type": "markdown",
      "source": [
        "####(3) 스케줄링"
      ],
      "metadata": {
        "id": "eNs2Xo78fQVW"
      }
    },
    {
      "cell_type": "code",
      "source": [
        "# 가변 학습률을 사용하지 않는 방법에 대해서는 학습률은 불변함. \n",
        "# 따라서 별도로 학습률이 어떻게 바뀌는지 규칙을 정해주는 것을 스케줄링이라고 함.\n",
        "\"\"\"\n",
        "optimzer = torch.optim.SGD(model.parameters(), lr = 0.1, momentum = 0.9)\n",
        "scheduler = optim.lr_scheduler.StepLR(optimizer, step_size=30, gamma=0.1) # 학습 반복 30번 마다 학습률을 0.1배씩 줄여주고 싶다면, optim.lr_scheduler.StepLR을 optimizer 아래 선언할 수 있음.\n",
        "<생략>\n",
        "for epoch in range(400):\n",
        "  running_loss = 0.0\n",
        "  for data in trainloader:\n",
        "    inputs, values = data\n",
        "    optimizer.zero_grad()\n",
        "    outputs = model(inputs)\n",
        "    loss = criterion(outputs, values)\n",
        "    loss.backward()\n",
        "    optimzer.step()\n",
        "    # <생략>\n",
        "    scheduler.step() # for문 안에 scheduler.step()만 추가하면 자동으로 학습률을 변경해줌.\n",
        "    \"\"\"\n",
        "    # 파이토치는 MultiplicativeLR, LambdaLR, StepLR, MultiStepLR, ExponentialLR, CosineAnneal-ingLR 등 다양한 스케줄링 제공"
      ],
      "metadata": {
        "id": "mmI9mlT_fPzT"
      },
      "execution_count": null,
      "outputs": []
    },
    {
      "cell_type": "markdown",
      "source": [
        "####(4) MADGRAD"
      ],
      "metadata": {
        "id": "ss5ey0TigznL"
      }
    },
    {
      "cell_type": "code",
      "source": [
        "# MADGRAD: 모멘텀 & 가변식 방법을 병행하는 최신 최적화 방법, SGD, ADAM을 능가하는 것. 페북 연구팀이 발표 했었음.\n",
        "\"\"\"\n",
        "madgrad.MADGRAD(모델 변수 , lr = 학습률(default: 0.01, momentum = 모멘텀지수(default: 0.9), weight_decay=L2페널티(default:0)))\n",
        "\"\"\""
      ],
      "metadata": {
        "id": "xi2ys9_kg3g3"
      },
      "execution_count": null,
      "outputs": []
    },
    {
      "cell_type": "code",
      "source": [
        "!pip install madgrad #madgrad 설치"
      ],
      "metadata": {
        "colab": {
          "base_uri": "https://localhost:8080/"
        },
        "id": "NhnM5-wDhXhx",
        "outputId": "62c00df1-18e2-4762-8343-6930f23033b8"
      },
      "execution_count": 39,
      "outputs": [
        {
          "output_type": "stream",
          "name": "stdout",
          "text": [
            "Looking in indexes: https://pypi.org/simple, https://us-python.pkg.dev/colab-wheels/public/simple/\n",
            "Collecting madgrad\n",
            "  Downloading madgrad-1.2-py3-none-any.whl (11 kB)\n",
            "Installing collected packages: madgrad\n",
            "Successfully installed madgrad-1.2\n"
          ]
        }
      ]
    },
    {
      "cell_type": "code",
      "source": [
        "import madgrad #madgrad 불러옴\n",
        "optimizer = madgrad.MADGRAD(model.parameters()) #기존 최적화 방법의 사용법과 동일하게 모델 변수를 넣어 사용"
      ],
      "metadata": {
        "id": "LyDigtCjhaN8"
      },
      "execution_count": 40,
      "outputs": []
    },
    {
      "cell_type": "markdown",
      "source": [
        "####(5) 교차 검증"
      ],
      "metadata": {
        "id": "8HxGOLYlh1Tb"
      }
    },
    {
      "cell_type": "markdown",
      "source": [
        "#####1. 교차 검증을 통한 집값 예측 모델 평가"
      ],
      "metadata": {
        "id": "AFHicVPGiKUp"
      }
    },
    {
      "cell_type": "code",
      "source": [
        "import pandas as pd\n",
        "import numpy as np\n",
        "from sklearn.model_selection import train_test_split\n",
        "import torch\n",
        "from torch import nn, optim\n",
        "from torch.utils.data import DataLoader, Dataset\n",
        "import torch.nn.functional as F\n",
        "from sklearn.model_selection import KFold #KFold는 학습 데이터 세트를 k개의 부분 데이터 세트(폴드)로 나눔 => 그 뒤 k-1개의 폴드는 학습 데이터로 사용, 나머지 1개는 검증 데이터로 사용할 수 있도록 전체 학습 데이터 세트에서 인덱스를 나눠주는 역할.\n",
        "from sklearn.metrics import mean_squared_error\n",
        "import matplotlib.pyplot as plt"
      ],
      "metadata": {
        "id": "UtI0EGwyiNmw"
      },
      "execution_count": 41,
      "outputs": []
    },
    {
      "cell_type": "code",
      "source": [
        "df = pd.read_csv('/content/gdrive/My Drive/deeplearning/data/reg.csv', index_col=[0]) # 마찬가지로 reg.csv를 불러오고 첫번째 열 인덱스 배제\n",
        "X = df.drop('Price', axis = 1).to_numpy() # 마찬가지로 Price를 열 기준으로 배제\n",
        "Y = df['Price'].to_numpy().reshape((-1,1)) # 마찬가지로 Price를 타겟값 Y로 사용"
      ],
      "metadata": {
        "id": "HgcgI-0aisqF"
      },
      "execution_count": 42,
      "outputs": []
    },
    {
      "cell_type": "code",
      "source": [
        "class TensorData(Dataset):\n",
        "\n",
        "  def __init__(self, x_data, y_data):\n",
        "    self.x_data = torch.FloatTensor(x_data)\n",
        "    self.y_data = torch.FloatTensor(y_data)\n",
        "    self.len = self.y_data.shape[0]\n",
        "\n",
        "  def __getitem__(self,index):\n",
        "    return self.x_data[index], self.y_data[index]\n",
        "\n",
        "  def __len__(self):\n",
        "    return self.len\n",
        "X_train, X_test, Y_train, Y_test = train_test_split(X, Y, test_size = 0.7)\n",
        "trainset = TensorData(X_train, Y_train) # 교차 검증을 위해 나누기 때문에 미리 DataLoader 정의 X ,\n",
        "testset = TensorData(X_test, Y_test)\n",
        "testloader = torch.utils.data.DataLoader(testset,batch_size = 32, shuffle=False)"
      ],
      "metadata": {
        "id": "oK_mkJx6je3N"
      },
      "execution_count": 43,
      "outputs": []
    },
    {
      "cell_type": "code",
      "source": [
        "class Regressor(nn.Module):\n",
        "  def __init__(self):\n",
        "    super().__init__()\n",
        "    self.fc1 = nn.Linear(13, 50, bias=True)\n",
        "    self.fc2 = nn.Linear(50, 30, bias=True)\n",
        "    self.fc3 = nn.Linear(30, 1, bias=True)\n",
        "\n",
        "  def forward(self,x):\n",
        "    x = self.fc1(x)\n",
        "    x = self.fc2(x)\n",
        "    x = self.fc3(x)\n",
        "    return x"
      ],
      "metadata": {
        "id": "yQTloQ1YkZsp"
      },
      "execution_count": 44,
      "outputs": []
    },
    {
      "cell_type": "code",
      "source": [
        "kfold = KFold(n_splits=3, shuffle=True) # 학습데이터를 3개의 폴드로 나눠 3겹 교차 검증 진행\n",
        "criterion = nn.MSELoss()"
      ],
      "metadata": {
        "id": "MA6rHABJkxtp"
      },
      "execution_count": 45,
      "outputs": []
    },
    {
      "cell_type": "code",
      "source": [
        "def evaluaion(dataloader): # 평가하고자 하는 데이터로더를 불러옴\n",
        "\n",
        "  predictions = torch.tensor([], dtype = torch.float) # 예측값, 실제값을 저장할 빈 텐서 생성\n",
        "  actual = torch.tensor([], dtype=torch.float)\n",
        "\n",
        "  with torch.no_grad(): # 평가시에는 모델 파라미터 업데이트 필요 X => requires_grad 비활성화\n",
        "    model.eval() # 평가를 할 때에는 반드시 .eval() 사용\n",
        "    for data in dataloader: # 데이터를 불러와 예측 시행 & 예측값과 실제값 저장\n",
        "      inputs, values = data\n",
        "      outputs = model(inputs)\n",
        "\n",
        "\n",
        "      predictions = torch.cat((predictions, outputs),0) #cat을 통해 예측값 누적\n",
        "      actual = torch.cat((actual, values),0) # cat을 통해 실제값 누적\n",
        "\n",
        "    predictions = predictions.numpy() # CPU용 텐서를 넘파이 배열로 변환\n",
        "    actual = actual.numpy()\n",
        "    rmse = np.sqrt(mean_squared_error(predictions,actual)) # RMSE를 측정하여 성능 평가\n",
        "    model.train() # 이 예시에서는 상관 없음, but 평가 시 정규화 기술을 배제하여 온전한 모델로 평가 해야함. 따라서 .eval()을 사용. => dropout이나 batch normalization 같이 학습 시에만 사용하는 기술들이 적용 된 모델은 평가 시 비활성화 해야함, 학습 시에는 다시 .train() 사용\n",
        "    return rmse"
      ],
      "metadata": {
        "id": "vi9EZSuIk6gX"
      },
      "execution_count": 46,
      "outputs": []
    },
    {
      "cell_type": "code",
      "source": [
        "validation_loss = [] # 검증 점수를 산출하기 위해 폴드 별 로스 저장 리스트를 만듦\n",
        "for fold, (train_idx, val_idx) in enumerate(kfold.split(trainset)): # kfold.split(trainset) 이용, 나눠진 학습 데이터의 인덱스를 불러옴\n",
        "\n",
        "  train_subsampler = torch.utils.data.SubsetRandomSampler(train_idx) # TensorData로 정의된 데이터의 일부를 불러와 배치 데이터 형태로 활용할 수 있도록 Data-Loader와 SubsetRandomSampler 함께 사용.\n",
        "  val_subsampler = torch.utils.data.SubsetRandomSampler(val_idx)\n",
        "  trainloader = torch.utils.data.DataLoader(trainset, batch_size = 32,\n",
        "                                            sampler = train_subsampler)\n",
        "  valloader = torch.utils.data.DataLoader(trainset, batch_size = 32, sampler = val_subsampler)\n",
        "\n",
        "  model = Regressor() # 매 학습마다 모델 파라미터 초기화 해야함 => for 문 안에 모델 선언\n",
        "  optimizer = optim. Adam(model.parameters(), lr = 0.001, weight_decay = 1e-7)\n",
        "\n",
        "  for epoch in range(400): # 데이터 학습\n",
        "    for data in trainloader:\n",
        "      inputs, values = data\n",
        "      optimizer.zero_grad()\n",
        "\n",
        "      outputs = model(inputs)\n",
        "      loss = criterion(outputs, values)\n",
        "      loss.backward()\n",
        "      optimizer.step()\n",
        "\n",
        "  train_rmse = evaluation(trainloader) # 각 검증마다 학습 데이터, 검증 데이터를 가지고 RMSE 계산(여기서는 3번 계산)\n",
        "  val_rmse = evaluation(valloader)\n",
        "  print(\"k-fold\", fold, \" Train Loss: %.4f, Validation Loss: %.f\" %(train_rmse, val_rmse))\n",
        "  validation_loss.append(val_rmse) # 검증 RMSE 저장"
      ],
      "metadata": {
        "colab": {
          "base_uri": "https://localhost:8080/"
        },
        "id": "mTiYHtVymYby",
        "outputId": "791e1418-9ad4-4529-9007-1cc332ea65fe"
      },
      "execution_count": 47,
      "outputs": [
        {
          "output_type": "stream",
          "name": "stdout",
          "text": [
            "k-fold 0  Train Loss: 0.1198, Validation Loss: 0\n",
            "k-fold 1  Train Loss: 0.0989, Validation Loss: 0\n",
            "k-fold 2  Train Loss: 0.1228, Validation Loss: 0\n"
          ]
        }
      ]
    },
    {
      "cell_type": "code",
      "source": [
        "validation_loss = np.array(validation_loss)\n",
        "mean = np.mean(validation_loss) # 저장된 검증 RMSE의 평균, 표준편차를 구해 출력\n",
        "std = np.std(validation_loss)\n",
        "print(\"Validation Score: %.4f, ± %.4f\" %(mean,std))"
      ],
      "metadata": {
        "colab": {
          "base_uri": "https://localhost:8080/"
        },
        "id": "pbh6KnqqokAG",
        "outputId": "8768ac30-99f5-4824-a471-8badd82b2326"
      },
      "execution_count": 48,
      "outputs": [
        {
          "output_type": "stream",
          "name": "stdout",
          "text": [
            "Validation Score: 0.1313, ± 0.0231\n"
          ]
        }
      ]
    },
    {
      "cell_type": "code",
      "source": [
        "trainloader = torch.utils.data.DataLoader(trainset, batch_size = 32, shuffle = False) # 학습 데이터 전체에 대해 DataLoader 생성, 학습 데이터에 대한 RMSE 계산\n",
        "train_rmse = evaluation(trainloader)\n",
        "test_rmse = evaluation(testloader) # 평가 데이터 세트에 대해 평가 진행\n",
        "print(\"Train RMSE: %.4f\" %train_rmse)\n",
        "print(\"Test RMSE: %.4f\" %test_rmse)"
      ],
      "metadata": {
        "colab": {
          "base_uri": "https://localhost:8080/"
        },
        "id": "t4rFmVTYpDDn",
        "outputId": "29c91d64-6b22-4970-8537-6b7152e15003"
      },
      "execution_count": 50,
      "outputs": [
        {
          "output_type": "stream",
          "name": "stdout",
          "text": [
            "Train RMSE: 0.1206\n",
            "Test RMSE: 0.1343\n"
          ]
        }
      ]
    },
    {
      "cell_type": "markdown",
      "source": [
        "####(6) 모델 구조 및 가중치 확인"
      ],
      "metadata": {
        "id": "zmJYQ_GdppC3"
      }
    },
    {
      "cell_type": "markdown",
      "source": [
        "#####1. 모델 구조"
      ],
      "metadata": {
        "id": "t7SLwjpbpv9h"
      }
    },
    {
      "cell_type": "code",
      "source": [
        "!pip install torchsummary #torchsummary 설치"
      ],
      "metadata": {
        "colab": {
          "base_uri": "https://localhost:8080/"
        },
        "id": "RVO4A5IzqBo6",
        "outputId": "7671e42b-64ee-4757-d506-4c1d45a4aad6"
      },
      "execution_count": 51,
      "outputs": [
        {
          "output_type": "stream",
          "name": "stdout",
          "text": [
            "Looking in indexes: https://pypi.org/simple, https://us-python.pkg.dev/colab-wheels/public/simple/\n",
            "Requirement already satisfied: torchsummary in /usr/local/lib/python3.7/dist-packages (1.5.1)\n"
          ]
        }
      ]
    },
    {
      "cell_type": "code",
      "source": [
        "import torch\n",
        "from torch import nn\n",
        "import torch.nn.functional as F\n",
        "from torchsummary import summary #torchsummary는 구조, 모델 변수를 간략히 알려주는 라이브러리이다."
      ],
      "metadata": {
        "id": "SpBqNj9Lpxar"
      },
      "execution_count": 52,
      "outputs": []
    },
    {
      "cell_type": "code",
      "source": [
        "class Regressor(nn.Module):\n",
        "  def __init__(self):\n",
        "    super().__init__()\n",
        "    self.fc1 = nn.Linear(13,50) # 변수가 있는 부분, 입력층 => 첫 번째 은닉층에서 가중치는 13x50=650개, 편향이 50개 이므로 총 700개의 변수 존재\n",
        "    self.fc2 = nn.Linear(50,30) # 첫 번째 => 두 번째 은닉층 사이에는 가중치 50x30 = 1500개, 편향이 30개 이므로 변수가 총 1530개\n",
        "    self.fc3 = nn.Linear(30,1) # 두 번째 은닉층 => 마지막 출력층 가중치 30개, 편향 1개 총 31개의 변수\n",
        "    self.dropout = nn.Dropout(0.5)\n",
        "\n",
        "  def forward(self, x):\n",
        "    x = F.relu(self.fc1(x))\n",
        "    x = self.dropout(F.relu(self.fc2(x)))\n",
        "    x = F.relu(self.fc3(x))\n",
        "\n",
        "    return x"
      ],
      "metadata": {
        "id": "JGMEHOxtqHUT"
      },
      "execution_count": 53,
      "outputs": []
    },
    {
      "cell_type": "code",
      "source": [
        "model = Regressor()\n",
        "print(model) # model을 출력하면 __init__ 부분에서 정의된 구조 확인 가능"
      ],
      "metadata": {
        "colab": {
          "base_uri": "https://localhost:8080/"
        },
        "id": "Vmqa-G9tq71l",
        "outputId": "861857e9-7a83-4b0d-b386-1711278860dc"
      },
      "execution_count": 54,
      "outputs": [
        {
          "output_type": "stream",
          "name": "stdout",
          "text": [
            "Regressor(\n",
            "  (fc1): Linear(in_features=13, out_features=50, bias=True)\n",
            "  (fc2): Linear(in_features=50, out_features=30, bias=True)\n",
            "  (fc3): Linear(in_features=30, out_features=1, bias=True)\n",
            "  (dropout): Dropout(p=0.5, inplace=False)\n",
            ")\n"
          ]
        }
      ]
    },
    {
      "cell_type": "markdown",
      "source": [
        "#####2. 모델 변수"
      ],
      "metadata": {
        "id": "kB4h_DVjrGHF"
      }
    },
    {
      "cell_type": "code",
      "source": [
        "for parameter in model.parameters(): # model.parameters():을 통해 정의된 순서대로 변수를 얻을 수 있음.\n",
        "  print(parameter.size())"
      ],
      "metadata": {
        "colab": {
          "base_uri": "https://localhost:8080/"
        },
        "id": "YGCBULNHrIDc",
        "outputId": "e302fbe3-0aec-47f3-98cb-099eaa462030"
      },
      "execution_count": 55,
      "outputs": [
        {
          "output_type": "stream",
          "name": "stdout",
          "text": [
            "torch.Size([50, 13])\n",
            "torch.Size([50])\n",
            "torch.Size([30, 50])\n",
            "torch.Size([30])\n",
            "torch.Size([1, 30])\n",
            "torch.Size([1])\n"
          ]
        }
      ]
    },
    {
      "cell_type": "code",
      "source": [
        "print(model.fc1.weight.size(), model.fc1.bias.size()) #변수명을 알고 있으므로 직접 접근하여 변수를 불러옴."
      ],
      "metadata": {
        "colab": {
          "base_uri": "https://localhost:8080/"
        },
        "id": "3pJaOnvsrMgx",
        "outputId": "598ed1ec-84a3-461c-b69a-9cdaffbd4064"
      },
      "execution_count": 56,
      "outputs": [
        {
          "output_type": "stream",
          "name": "stdout",
          "text": [
            "torch.Size([50, 13]) torch.Size([50])\n"
          ]
        }
      ]
    },
    {
      "cell_type": "code",
      "source": [
        "for name, param in model.named_parameters(): #변수명을 잘 모르는 경우 model.named_parameters()을 통해 변수명, 변수를 동시에 불러올 수 있음.\n",
        "  print(name, param.size())\n",
        "# 위의 내용들을 바탕으로 특정 변수에 대한 옵션, 값 변경 가능."
      ],
      "metadata": {
        "colab": {
          "base_uri": "https://localhost:8080/"
        },
        "id": "o81KqWoHrV-V",
        "outputId": "9e27743f-df0b-4237-8577-45aa97288dab"
      },
      "execution_count": 57,
      "outputs": [
        {
          "output_type": "stream",
          "name": "stdout",
          "text": [
            "fc1.weight torch.Size([50, 13])\n",
            "fc1.bias torch.Size([50])\n",
            "fc2.weight torch.Size([30, 50])\n",
            "fc2.bias torch.Size([30])\n",
            "fc3.weight torch.Size([1, 30])\n",
            "fc3.bias torch.Size([1])\n"
          ]
        }
      ]
    },
    {
      "cell_type": "code",
      "source": [
        "summary(model,(10,13)) #torchsummary에서 제공하는 summary에 model을 넣고 임의의 입력 데이터 사이즈를 넣으면 층마다 출력값의 크기, 변수에 대한 정보를 테이블로 만들어줌."
      ],
      "metadata": {
        "colab": {
          "base_uri": "https://localhost:8080/"
        },
        "id": "g5E2rE2vrft6",
        "outputId": "4c62db3f-ca68-40b8-f7b1-73b662ad290e"
      },
      "execution_count": 58,
      "outputs": [
        {
          "output_type": "stream",
          "name": "stdout",
          "text": [
            "----------------------------------------------------------------\n",
            "        Layer (type)               Output Shape         Param #\n",
            "================================================================\n",
            "            Linear-1               [-1, 10, 50]             700\n",
            "            Linear-2               [-1, 10, 30]           1,530\n",
            "           Dropout-3               [-1, 10, 30]               0\n",
            "            Linear-4                [-1, 10, 1]              31\n",
            "================================================================\n",
            "Total params: 2,261\n",
            "Trainable params: 2,261\n",
            "Non-trainable params: 0\n",
            "----------------------------------------------------------------\n",
            "Input size (MB): 0.00\n",
            "Forward/backward pass size (MB): 0.01\n",
            "Params size (MB): 0.01\n",
            "Estimated Total Size (MB): 0.02\n",
            "----------------------------------------------------------------\n"
          ]
        }
      ]
    }
  ]
}