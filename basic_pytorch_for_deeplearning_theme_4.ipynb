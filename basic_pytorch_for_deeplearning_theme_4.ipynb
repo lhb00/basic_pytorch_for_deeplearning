{
  "nbformat": 4,
  "nbformat_minor": 0,
  "metadata": {
    "colab": {
      "name": "basic_pytorch_for_deeplearning_theme 4",
      "provenance": [],
      "collapsed_sections": [],
      "authorship_tag": "ABX9TyP+A6djONW5y0Go4fSQzp7c",
      "include_colab_link": true
    },
    "kernelspec": {
      "name": "python3",
      "display_name": "Python 3"
    },
    "language_info": {
      "name": "python"
    },
    "widgets": {
      "application/vnd.jupyter.widget-state+json": {
        "92915f112c9b41ab9f3213f981c55887": {
          "model_module": "@jupyter-widgets/controls",
          "model_name": "HBoxModel",
          "model_module_version": "1.5.0",
          "state": {
            "_dom_classes": [],
            "_model_module": "@jupyter-widgets/controls",
            "_model_module_version": "1.5.0",
            "_model_name": "HBoxModel",
            "_view_count": null,
            "_view_module": "@jupyter-widgets/controls",
            "_view_module_version": "1.5.0",
            "_view_name": "HBoxView",
            "box_style": "",
            "children": [
              "IPY_MODEL_977c35e677a44b69a3310666096e0724",
              "IPY_MODEL_9da1c1a01def4f2589a55e7db41d3bc2",
              "IPY_MODEL_f94d1fbd5aa44f9ebdd091064a51c8de"
            ],
            "layout": "IPY_MODEL_89ddac04a8c344c4b9008f9cd780ac4d"
          }
        },
        "977c35e677a44b69a3310666096e0724": {
          "model_module": "@jupyter-widgets/controls",
          "model_name": "HTMLModel",
          "model_module_version": "1.5.0",
          "state": {
            "_dom_classes": [],
            "_model_module": "@jupyter-widgets/controls",
            "_model_module_version": "1.5.0",
            "_model_name": "HTMLModel",
            "_view_count": null,
            "_view_module": "@jupyter-widgets/controls",
            "_view_module_version": "1.5.0",
            "_view_name": "HTMLView",
            "description": "",
            "description_tooltip": null,
            "layout": "IPY_MODEL_262456175da54c998b85451c13f54327",
            "placeholder": "​",
            "style": "IPY_MODEL_c3b1177a2a1e42aba468df6f66e80c64",
            "value": "100%"
          }
        },
        "9da1c1a01def4f2589a55e7db41d3bc2": {
          "model_module": "@jupyter-widgets/controls",
          "model_name": "FloatProgressModel",
          "model_module_version": "1.5.0",
          "state": {
            "_dom_classes": [],
            "_model_module": "@jupyter-widgets/controls",
            "_model_module_version": "1.5.0",
            "_model_name": "FloatProgressModel",
            "_view_count": null,
            "_view_module": "@jupyter-widgets/controls",
            "_view_module_version": "1.5.0",
            "_view_name": "ProgressView",
            "bar_style": "success",
            "description": "",
            "description_tooltip": null,
            "layout": "IPY_MODEL_0763732be4e04a768a8f29e7917037a4",
            "max": 170498071,
            "min": 0,
            "orientation": "horizontal",
            "style": "IPY_MODEL_fbf01e36cb81443589936525060d8cfc",
            "value": 170498071
          }
        },
        "f94d1fbd5aa44f9ebdd091064a51c8de": {
          "model_module": "@jupyter-widgets/controls",
          "model_name": "HTMLModel",
          "model_module_version": "1.5.0",
          "state": {
            "_dom_classes": [],
            "_model_module": "@jupyter-widgets/controls",
            "_model_module_version": "1.5.0",
            "_model_name": "HTMLModel",
            "_view_count": null,
            "_view_module": "@jupyter-widgets/controls",
            "_view_module_version": "1.5.0",
            "_view_name": "HTMLView",
            "description": "",
            "description_tooltip": null,
            "layout": "IPY_MODEL_74cd39f2c9e0444d9d6735a27ddbd97b",
            "placeholder": "​",
            "style": "IPY_MODEL_cbbff2ceb3e14adc92559aa81e3a1bf3",
            "value": " 170498071/170498071 [00:01&lt;00:00, 106345280.64it/s]"
          }
        },
        "89ddac04a8c344c4b9008f9cd780ac4d": {
          "model_module": "@jupyter-widgets/base",
          "model_name": "LayoutModel",
          "model_module_version": "1.2.0",
          "state": {
            "_model_module": "@jupyter-widgets/base",
            "_model_module_version": "1.2.0",
            "_model_name": "LayoutModel",
            "_view_count": null,
            "_view_module": "@jupyter-widgets/base",
            "_view_module_version": "1.2.0",
            "_view_name": "LayoutView",
            "align_content": null,
            "align_items": null,
            "align_self": null,
            "border": null,
            "bottom": null,
            "display": null,
            "flex": null,
            "flex_flow": null,
            "grid_area": null,
            "grid_auto_columns": null,
            "grid_auto_flow": null,
            "grid_auto_rows": null,
            "grid_column": null,
            "grid_gap": null,
            "grid_row": null,
            "grid_template_areas": null,
            "grid_template_columns": null,
            "grid_template_rows": null,
            "height": null,
            "justify_content": null,
            "justify_items": null,
            "left": null,
            "margin": null,
            "max_height": null,
            "max_width": null,
            "min_height": null,
            "min_width": null,
            "object_fit": null,
            "object_position": null,
            "order": null,
            "overflow": null,
            "overflow_x": null,
            "overflow_y": null,
            "padding": null,
            "right": null,
            "top": null,
            "visibility": null,
            "width": null
          }
        },
        "262456175da54c998b85451c13f54327": {
          "model_module": "@jupyter-widgets/base",
          "model_name": "LayoutModel",
          "model_module_version": "1.2.0",
          "state": {
            "_model_module": "@jupyter-widgets/base",
            "_model_module_version": "1.2.0",
            "_model_name": "LayoutModel",
            "_view_count": null,
            "_view_module": "@jupyter-widgets/base",
            "_view_module_version": "1.2.0",
            "_view_name": "LayoutView",
            "align_content": null,
            "align_items": null,
            "align_self": null,
            "border": null,
            "bottom": null,
            "display": null,
            "flex": null,
            "flex_flow": null,
            "grid_area": null,
            "grid_auto_columns": null,
            "grid_auto_flow": null,
            "grid_auto_rows": null,
            "grid_column": null,
            "grid_gap": null,
            "grid_row": null,
            "grid_template_areas": null,
            "grid_template_columns": null,
            "grid_template_rows": null,
            "height": null,
            "justify_content": null,
            "justify_items": null,
            "left": null,
            "margin": null,
            "max_height": null,
            "max_width": null,
            "min_height": null,
            "min_width": null,
            "object_fit": null,
            "object_position": null,
            "order": null,
            "overflow": null,
            "overflow_x": null,
            "overflow_y": null,
            "padding": null,
            "right": null,
            "top": null,
            "visibility": null,
            "width": null
          }
        },
        "c3b1177a2a1e42aba468df6f66e80c64": {
          "model_module": "@jupyter-widgets/controls",
          "model_name": "DescriptionStyleModel",
          "model_module_version": "1.5.0",
          "state": {
            "_model_module": "@jupyter-widgets/controls",
            "_model_module_version": "1.5.0",
            "_model_name": "DescriptionStyleModel",
            "_view_count": null,
            "_view_module": "@jupyter-widgets/base",
            "_view_module_version": "1.2.0",
            "_view_name": "StyleView",
            "description_width": ""
          }
        },
        "0763732be4e04a768a8f29e7917037a4": {
          "model_module": "@jupyter-widgets/base",
          "model_name": "LayoutModel",
          "model_module_version": "1.2.0",
          "state": {
            "_model_module": "@jupyter-widgets/base",
            "_model_module_version": "1.2.0",
            "_model_name": "LayoutModel",
            "_view_count": null,
            "_view_module": "@jupyter-widgets/base",
            "_view_module_version": "1.2.0",
            "_view_name": "LayoutView",
            "align_content": null,
            "align_items": null,
            "align_self": null,
            "border": null,
            "bottom": null,
            "display": null,
            "flex": null,
            "flex_flow": null,
            "grid_area": null,
            "grid_auto_columns": null,
            "grid_auto_flow": null,
            "grid_auto_rows": null,
            "grid_column": null,
            "grid_gap": null,
            "grid_row": null,
            "grid_template_areas": null,
            "grid_template_columns": null,
            "grid_template_rows": null,
            "height": null,
            "justify_content": null,
            "justify_items": null,
            "left": null,
            "margin": null,
            "max_height": null,
            "max_width": null,
            "min_height": null,
            "min_width": null,
            "object_fit": null,
            "object_position": null,
            "order": null,
            "overflow": null,
            "overflow_x": null,
            "overflow_y": null,
            "padding": null,
            "right": null,
            "top": null,
            "visibility": null,
            "width": null
          }
        },
        "fbf01e36cb81443589936525060d8cfc": {
          "model_module": "@jupyter-widgets/controls",
          "model_name": "ProgressStyleModel",
          "model_module_version": "1.5.0",
          "state": {
            "_model_module": "@jupyter-widgets/controls",
            "_model_module_version": "1.5.0",
            "_model_name": "ProgressStyleModel",
            "_view_count": null,
            "_view_module": "@jupyter-widgets/base",
            "_view_module_version": "1.2.0",
            "_view_name": "StyleView",
            "bar_color": null,
            "description_width": ""
          }
        },
        "74cd39f2c9e0444d9d6735a27ddbd97b": {
          "model_module": "@jupyter-widgets/base",
          "model_name": "LayoutModel",
          "model_module_version": "1.2.0",
          "state": {
            "_model_module": "@jupyter-widgets/base",
            "_model_module_version": "1.2.0",
            "_model_name": "LayoutModel",
            "_view_count": null,
            "_view_module": "@jupyter-widgets/base",
            "_view_module_version": "1.2.0",
            "_view_name": "LayoutView",
            "align_content": null,
            "align_items": null,
            "align_self": null,
            "border": null,
            "bottom": null,
            "display": null,
            "flex": null,
            "flex_flow": null,
            "grid_area": null,
            "grid_auto_columns": null,
            "grid_auto_flow": null,
            "grid_auto_rows": null,
            "grid_column": null,
            "grid_gap": null,
            "grid_row": null,
            "grid_template_areas": null,
            "grid_template_columns": null,
            "grid_template_rows": null,
            "height": null,
            "justify_content": null,
            "justify_items": null,
            "left": null,
            "margin": null,
            "max_height": null,
            "max_width": null,
            "min_height": null,
            "min_width": null,
            "object_fit": null,
            "object_position": null,
            "order": null,
            "overflow": null,
            "overflow_x": null,
            "overflow_y": null,
            "padding": null,
            "right": null,
            "top": null,
            "visibility": null,
            "width": null
          }
        },
        "cbbff2ceb3e14adc92559aa81e3a1bf3": {
          "model_module": "@jupyter-widgets/controls",
          "model_name": "DescriptionStyleModel",
          "model_module_version": "1.5.0",
          "state": {
            "_model_module": "@jupyter-widgets/controls",
            "_model_module_version": "1.5.0",
            "_model_name": "DescriptionStyleModel",
            "_view_count": null,
            "_view_module": "@jupyter-widgets/base",
            "_view_module_version": "1.2.0",
            "_view_name": "StyleView",
            "description_width": ""
          }
        }
      }
    }
  },
  "cells": [
    {
      "cell_type": "markdown",
      "metadata": {
        "id": "view-in-github",
        "colab_type": "text"
      },
      "source": [
        "<a href=\"https://colab.research.google.com/github/lhb00/basic_pytorch_for_deeplearning/blob/main/basic_pytorch_for_deeplearning_theme_4.ipynb\" target=\"_parent\"><img src=\"https://colab.research.google.com/assets/colab-badge.svg\" alt=\"Open In Colab\"/></a>"
      ]
    },
    {
      "cell_type": "code",
      "execution_count": null,
      "metadata": {
        "colab": {
          "base_uri": "https://localhost:8080/"
        },
        "id": "8Chy-AXTMRHC",
        "outputId": "37de7dae-4274-4f31-a690-290f7990e37e"
      },
      "outputs": [
        {
          "output_type": "stream",
          "name": "stdout",
          "text": [
            "tensor([[ 4.1583e-35,  0.0000e+00, -7.2138e-03, -2.3489e+36],\n",
            "        [ 0.0000e+00,  0.0000e+00, -3.6540e+14,  4.5757e-41],\n",
            "        [ 7.5686e-09, -3.5027e+36, -3.4898e+14,  4.5757e-41],\n",
            "        [ 0.0000e+00,  0.0000e+00, -2.1573e+08, -2.4410e+26],\n",
            "        [-3.6511e+14,  4.5757e-41, -3.6511e+14,  4.5757e-41]])\n"
          ]
        }
      ],
      "source": [
        "import torch\n",
        "import numpy as np\n",
        "\n",
        "x=torch.empty(5,4)\n",
        "print(x)"
      ]
    },
    {
      "cell_type": "code",
      "source": [
        "torch.ones(3,3) #1로만 구성된 3X3 행렬"
      ],
      "metadata": {
        "colab": {
          "base_uri": "https://localhost:8080/"
        },
        "id": "4JmuW1wRMg9c",
        "outputId": "007b8c5e-1dc6-405d-9053-be0b6395788f"
      },
      "execution_count": null,
      "outputs": [
        {
          "output_type": "execute_result",
          "data": {
            "text/plain": [
              "tensor([[1., 1., 1.],\n",
              "        [1., 1., 1.],\n",
              "        [1., 1., 1.]])"
            ]
          },
          "metadata": {},
          "execution_count": 2
        }
      ]
    },
    {
      "cell_type": "code",
      "source": [
        "torch.zeros(2) #2행 0 벡터"
      ],
      "metadata": {
        "colab": {
          "base_uri": "https://localhost:8080/"
        },
        "id": "n0RYLOTkMkKu",
        "outputId": "fb34f199-d892-4ab3-aae8-3e1630bb1101"
      },
      "execution_count": null,
      "outputs": [
        {
          "output_type": "execute_result",
          "data": {
            "text/plain": [
              "tensor([0., 0.])"
            ]
          },
          "metadata": {},
          "execution_count": 3
        }
      ]
    },
    {
      "cell_type": "code",
      "source": [
        "torch.rand(5,6)#랜덤한 숫자로 구성된 5X6 행렬"
      ],
      "metadata": {
        "colab": {
          "base_uri": "https://localhost:8080/"
        },
        "id": "dmoYyel1Mp5M",
        "outputId": "f09ae3d9-7174-4306-aed6-4704a64ac91e"
      },
      "execution_count": null,
      "outputs": [
        {
          "output_type": "execute_result",
          "data": {
            "text/plain": [
              "tensor([[0.9517, 0.6817, 0.5679, 0.3508, 0.8478, 0.8834],\n",
              "        [0.1508, 0.3375, 0.6905, 0.7544, 0.7229, 0.9877],\n",
              "        [0.2891, 0.0094, 0.6496, 0.3954, 0.7154, 0.1068],\n",
              "        [0.5227, 0.9803, 0.0709, 0.1880, 0.8404, 0.7658],\n",
              "        [0.2718, 0.3599, 0.9740, 0.7177, 0.0875, 0.2145]])"
            ]
          },
          "metadata": {},
          "execution_count": 4
        }
      ]
    },
    {
      "cell_type": "code",
      "source": [
        "l = [13,4]\n",
        "r = np.array([4,56,7])\n",
        "torch.tensor(l) #텐서로 변환\n",
        "torch.tensor(r)"
      ],
      "metadata": {
        "colab": {
          "base_uri": "https://localhost:8080/"
        },
        "id": "miYmg6-rMwtM",
        "outputId": "edbedcf6-5d37-417f-89c0-3b276853a313"
      },
      "execution_count": null,
      "outputs": [
        {
          "output_type": "execute_result",
          "data": {
            "text/plain": [
              "tensor([ 4, 56,  7])"
            ]
          },
          "metadata": {},
          "execution_count": 6
        }
      ]
    },
    {
      "cell_type": "code",
      "source": [
        "x.size()[1] #x.size는 5X4 크기의 텐서임."
      ],
      "metadata": {
        "colab": {
          "base_uri": "https://localhost:8080/"
        },
        "id": "AIXJ0aPZNm3w",
        "outputId": "3b632d68-4c5a-4f67-ea60-a4c7bed9c22e"
      },
      "execution_count": null,
      "outputs": [
        {
          "output_type": "execute_result",
          "data": {
            "text/plain": [
              "4"
            ]
          },
          "metadata": {},
          "execution_count": 8
        }
      ]
    },
    {
      "cell_type": "code",
      "source": [
        "type(x)"
      ],
      "metadata": {
        "colab": {
          "base_uri": "https://localhost:8080/"
        },
        "id": "N265NmQINyFi",
        "outputId": "ab13a12b-29ad-411b-8f52-414a33cd6800"
      },
      "execution_count": null,
      "outputs": [
        {
          "output_type": "execute_result",
          "data": {
            "text/plain": [
              "torch.Tensor"
            ]
          },
          "metadata": {},
          "execution_count": 9
        }
      ]
    },
    {
      "cell_type": "code",
      "source": [
        "x = torch.rand(2,2)\n",
        "y = torch.rand(2,2)\n",
        "x+y"
      ],
      "metadata": {
        "colab": {
          "base_uri": "https://localhost:8080/"
        },
        "id": "wI_aNhyONztr",
        "outputId": "463f72a5-59c5-4f57-ee99-77f64f8e60a2"
      },
      "execution_count": null,
      "outputs": [
        {
          "output_type": "execute_result",
          "data": {
            "text/plain": [
              "tensor([[1.1516, 0.1880],\n",
              "        [1.7004, 1.0525]])"
            ]
          },
          "metadata": {},
          "execution_count": 10
        }
      ]
    },
    {
      "cell_type": "code",
      "source": [
        "torch.add(x,y) #x+y와 동일"
      ],
      "metadata": {
        "colab": {
          "base_uri": "https://localhost:8080/"
        },
        "id": "vYi0YAztN5ZO",
        "outputId": "8c11125f-42dc-49b9-abf5-844774fa3286"
      },
      "execution_count": null,
      "outputs": [
        {
          "output_type": "execute_result",
          "data": {
            "text/plain": [
              "tensor([[1.1516, 0.1880],\n",
              "        [1.7004, 1.0525]])"
            ]
          },
          "metadata": {},
          "execution_count": 12
        }
      ]
    },
    {
      "cell_type": "code",
      "source": [
        "y.add(x) #y에 x를 더한다. 어차피 교환법칙 때문에 똑같."
      ],
      "metadata": {
        "colab": {
          "base_uri": "https://localhost:8080/"
        },
        "id": "4oBXo5IvOBIn",
        "outputId": "1674876a-f50e-4c8e-c036-acb9d595deb7"
      },
      "execution_count": null,
      "outputs": [
        {
          "output_type": "execute_result",
          "data": {
            "text/plain": [
              "tensor([[1.1516, 0.1880],\n",
              "        [1.7004, 1.0525]])"
            ]
          },
          "metadata": {},
          "execution_count": 13
        }
      ]
    },
    {
      "cell_type": "code",
      "source": [
        "x = torch.rand(8,8)\n",
        "print(x.size())"
      ],
      "metadata": {
        "colab": {
          "base_uri": "https://localhost:8080/"
        },
        "id": "aaAf891tOH2D",
        "outputId": "62776719-f76b-4722-e232-3b971361e1aa"
      },
      "execution_count": null,
      "outputs": [
        {
          "output_type": "stream",
          "name": "stdout",
          "text": [
            "torch.Size([8, 8])\n"
          ]
        }
      ]
    },
    {
      "cell_type": "code",
      "source": [
        "a = x.view(64) #8X8에서 64로\n",
        "print(a.size())"
      ],
      "metadata": {
        "colab": {
          "base_uri": "https://localhost:8080/"
        },
        "id": "r-oLZRvvOaVL",
        "outputId": "dbe76a75-2ac6-4392-b4f1-b79a1b161fbe"
      },
      "execution_count": null,
      "outputs": [
        {
          "output_type": "stream",
          "name": "stdout",
          "text": [
            "torch.Size([64])\n"
          ]
        }
      ]
    },
    {
      "cell_type": "code",
      "source": [
        "b = x.view(-1,4,4) #-1을 사용하면 원래 크기가 되게 할 수 있다.\n",
        "print(b.size())"
      ],
      "metadata": {
        "colab": {
          "base_uri": "https://localhost:8080/"
        },
        "id": "wP7wHHK-OiOA",
        "outputId": "d9856b3c-ac15-496c-828d-c8e1fe55f230"
      },
      "execution_count": null,
      "outputs": [
        {
          "output_type": "stream",
          "name": "stdout",
          "text": [
            "torch.Size([4, 4, 4])\n"
          ]
        }
      ]
    },
    {
      "cell_type": "code",
      "source": [
        "x = torch.rand(8,8)\n",
        "y = x.numpy() #반대로 토치에서 넘파이로\n",
        "type(y)"
      ],
      "metadata": {
        "colab": {
          "base_uri": "https://localhost:8080/"
        },
        "id": "1JpGHwAcPQvD",
        "outputId": "60a11a64-3a20-4078-a669-fa57ebebfc2d"
      },
      "execution_count": null,
      "outputs": [
        {
          "output_type": "execute_result",
          "data": {
            "text/plain": [
              "numpy.ndarray"
            ]
          },
          "metadata": {},
          "execution_count": 17
        }
      ]
    },
    {
      "cell_type": "code",
      "source": [
        "x = torch.ones(1)\n",
        "print(x.item())"
      ],
      "metadata": {
        "colab": {
          "base_uri": "https://localhost:8080/"
        },
        "id": "ZIDdJZtbPZ1C",
        "outputId": "477bcd59-ce03-44cb-9572-6271061a2000"
      },
      "execution_count": null,
      "outputs": [
        {
          "output_type": "stream",
          "name": "stdout",
          "text": [
            "1.0\n"
          ]
        }
      ]
    },
    {
      "cell_type": "code",
      "source": [
        "#역전파\n",
        "#(1)gradient tensor\n",
        "#미분과 연쇄 법칙을 통해 원하는 변수에 대한 미분값 계산가능\n",
        "import torch\n",
        "x = torch.ones(2,2,requires_grad=True) #requires_grad=True는 gradient를 계산가능하게 해줌.\n",
        "y = x+1\n",
        "z = 2*y**2\n",
        "r = z.mean()\n",
        "print(\"Result:\",r)"
      ],
      "metadata": {
        "colab": {
          "base_uri": "https://localhost:8080/"
        },
        "id": "FaTiTolTPlD1",
        "outputId": "b8abe3fe-82c9-4eb8-ba82-38bf16f60ef8"
      },
      "execution_count": null,
      "outputs": [
        {
          "output_type": "stream",
          "name": "stdout",
          "text": [
            "Result: tensor(8., grad_fn=<MeanBackward0>)\n"
          ]
        }
      ]
    },
    {
      "cell_type": "code",
      "source": [
        "r.backward()\n",
        "print(x.grad)"
      ],
      "metadata": {
        "colab": {
          "base_uri": "https://localhost:8080/"
        },
        "id": "ecokc9KLQ_fJ",
        "outputId": "3809260e-9fb2-42b1-f186-ac806ce126c1"
      },
      "execution_count": null,
      "outputs": [
        {
          "output_type": "stream",
          "name": "stdout",
          "text": [
            "tensor([[2., 2.],\n",
            "        [2., 2.]])\n"
          ]
        }
      ]
    },
    {
      "cell_type": "code",
      "source": [
        "#autograd\n",
        "#자동미분\n",
        "import torch\n",
        "from matplotlib import pyplot as plt\n",
        "x = torch.FloatTensor(range(5)).unsqueeze(1) #range(5) 까지만 봤을 때는 크기가 5인 1차원 배열, unsqueeze(1)을 이용하여 1차원 확장하여 2차원 배열로 만듦, unsqueeze(0)이면 (1,5) 배열\n",
        "y = 2*x + torch.rand(5,1)\n",
        "num_features = x.shape[1]\n",
        "w = torch.randn(num_features,1,requires_grad=True)\n",
        "b = torch.randn(1, requires_grad=True)\n",
        "#데이터는 불변해야하지만, w, b는 역전파를 통해 최적값을 찾는 것이므로 requires_grad=True 옵션 추가해주어야함."
      ],
      "metadata": {
        "id": "AaUZoYotRQ8l"
      },
      "execution_count": null,
      "outputs": []
    },
    {
      "cell_type": "code",
      "source": [
        "#경사하강법\n",
        "#가중치를 업데이트하는 최적화 방법 중 가장 널리 쓰이는 방법\n",
        "learning_rate = 1e-3\n",
        "optimizer = torch.optim.SGD([w,b], lr=learning_rate) #w,b를 리스트로 묶어 넣어주고 적절한 학습률을 정하여 가중치/편향 업데이트\n",
        "loss_stack=[] #에포크 각각의 손실 값 저장을 위해 empty list 생성\n",
        "for epoch in range(1001): #학습은 1000회 반복\n",
        "\n",
        "  optimizer.zero_grad() # 누적 값을 optimizer.zero_grad()로 초기화\n",
        "  y_hat=torch.matmul(x,w) + b # 회귀식 모델을 이용한 예측값 산출\n",
        "  loss = torch.mean((y_hat-y)**2) # 예측값, 실제값으로 MSE(mean square error) 계산\n",
        "  loss.backward() # 역전파의 기준을 손실 함수로 정하기\n",
        "  optimizer.step() # optimizer로 최적화 실행\n",
        "  loss_stack.append(loss.item()) # 손실 함수 값만 loss_stack에 하나씩 넣기. 손실 함수를 그리기 위함이므로 꼭 손실 함수 값만 넣기. item()을 사용하지 않으면 텐서 전체가 저장됨. \n",
        "\n",
        "  if epoch % 100 == 0:\n",
        "    print(f'Epoch {epoch}:{loss.item()}') # 에포크가 100의 배수 일 때마다 손실 함수 값 출력"
      ],
      "metadata": {
        "colab": {
          "base_uri": "https://localhost:8080/"
        },
        "id": "5l6xG6IpSyRh",
        "outputId": "ab7447ee-814a-4450-a23a-847a55f95e8e"
      },
      "execution_count": null,
      "outputs": [
        {
          "output_type": "stream",
          "name": "stdout",
          "text": [
            "Epoch 0:7.573495388031006\n",
            "Epoch 100:0.9421240091323853\n",
            "Epoch 200:0.44948697090148926\n",
            "Epoch 300:0.3751448094844818\n",
            "Epoch 400:0.3335861265659332\n",
            "Epoch 500:0.29834818840026855\n",
            "Epoch 600:0.2671864330768585\n",
            "Epoch 700:0.23954005539417267\n",
            "Epoch 800:0.21500590443611145\n",
            "Epoch 900:0.19323314726352692\n",
            "Epoch 1000:0.1739112138748169\n"
          ]
        }
      ]
    },
    {
      "cell_type": "code",
      "source": [
        "with torch.no_grad():\n",
        "  y_hat = torch.matmul(x,w) + b #최종 학습된 w, b로 예측값 산출, 최적화 사용은 없으므로 requires_grad는 사용하지 않음. with torch.no_grad()로 requires_grad가 작동하지 않게 할 수 있음."
      ],
      "metadata": {
        "id": "AI9AIzTEYwod"
      },
      "execution_count": null,
      "outputs": []
    },
    {
      "cell_type": "code",
      "source": [
        "plt.figure(figsize=(10,5))\n",
        "plt.subplot(121)\n",
        "plt.plot(loss_stack)\n",
        "plt.title(\"Loss\")\n",
        "plt.subplot(122)\n",
        "plt.plot(x,y,'.b')\n",
        "plt.plot(x,y_hat,'r-')\n",
        "plt.legend(['ground truth','prediction'])\n",
        "plt.title(\"Prediction\")\n",
        "plt.show()"
      ],
      "metadata": {
        "colab": {
          "base_uri": "https://localhost:8080/",
          "height": 336
        },
        "id": "H95pxg4WZHDC",
        "outputId": "5994be4d-a354-45ef-f8be-ee6114714948"
      },
      "execution_count": null,
      "outputs": [
        {
          "output_type": "display_data",
          "data": {
            "text/plain": [
              "<Figure size 720x360 with 2 Axes>"
            ],
            "image/png": "[encoded data removed]"
          },
          "metadata": {
            "needs_background": "light"
          }
        }
      ]
    },
    {
      "cell_type": "code",
      "source": [
        "#데이터 불러오기\n",
        "#(1) 파이토치 제공 데이터 사용하기\n",
        "import torch\n",
        "import torchvision #이미지 관련 파이토치 라이브러리\n",
        "import torchvision.transforms as tr #이미지 전처리 관련 라이브러리\n",
        "from torch.utils.data import DataLoader,Dataset #데이터를 모델에 사용할 수 있도록 정리해주는 라이브러리\n",
        "import numpy as np\n",
        "import matplotlib.pyplot as plt"
      ],
      "metadata": {
        "id": "R-f7s3wuU0IP"
      },
      "execution_count": 3,
      "outputs": []
    },
    {
      "cell_type": "code",
      "source": [
        "transf = tr.Compose([tr.Resize(16),tr.ToTensor()]) #16X16 사이즈로 이미지 크기 설정 후 텐서로 변환\n",
        "trainset = torchvision.datasets.CIFAR10(root='./data', train=True, download=True, transform=transf) # 클래스가 10개인 CIFAR10 데이터 셋을 불러온다. train=True면 학습 데이터, 미리 선언한 전처리를 사용하기 위해 transform=transf 입력.\n",
        "testset = torchvision.datasets.CIFAR10(root='./data', train=False, download=True, transform=transf)"
      ],
      "metadata": {
        "colab": {
          "base_uri": "https://localhost:8080/",
          "height": 103,
          "referenced_widgets": [
            "92915f112c9b41ab9f3213f981c55887",
            "977c35e677a44b69a3310666096e0724",
            "9da1c1a01def4f2589a55e7db41d3bc2",
            "f94d1fbd5aa44f9ebdd091064a51c8de",
            "89ddac04a8c344c4b9008f9cd780ac4d",
            "262456175da54c998b85451c13f54327",
            "c3b1177a2a1e42aba468df6f66e80c64",
            "0763732be4e04a768a8f29e7917037a4",
            "fbf01e36cb81443589936525060d8cfc",
            "74cd39f2c9e0444d9d6735a27ddbd97b",
            "cbbff2ceb3e14adc92559aa81e3a1bf3"
          ]
        },
        "id": "ZxPlJBN3VWX7",
        "outputId": "a8787f0d-c6a6-4ec5-81a4-3f0c70ff40e2"
      },
      "execution_count": 4,
      "outputs": [
        {
          "output_type": "stream",
          "name": "stdout",
          "text": [
            "Downloading https://www.cs.toronto.edu/~kriz/cifar-10-python.tar.gz to ./data/cifar-10-python.tar.gz\n"
          ]
        },
        {
          "output_type": "display_data",
          "data": {
            "text/plain": [
              "  0%|          | 0/170498071 [00:00<?, ?it/s]"
            ],
            "application/vnd.jupyter.widget-view+json": {
              "version_major": 2,
              "version_minor": 0,
              "model_id": "92915f112c9b41ab9f3213f981c55887"
            }
          },
          "metadata": {}
        },
        {
          "output_type": "stream",
          "name": "stdout",
          "text": [
            "Extracting ./data/cifar-10-python.tar.gz to ./data\n",
            "Files already downloaded and verified\n"
          ]
        }
      ]
    },
    {
      "cell_type": "code",
      "source": [
        "print(trainset[0][0].size()) #trainset[0]는 이미지 하나와 라벨 하나가 저장 되어있음, trainset[0][0]은 이미지, trainset[0][1]은 라벨. 3, 16, 16에서 3은 채널 수, 16X16은 이미지 크기.\n",
        "#일반적으로는 (너비)X(높이)X(채널 수)로 이미지를 표시하지만, pytorch에서는 (채널 수)X(너비)X(높이)로 이미지를 표시하니 주의!"
      ],
      "metadata": {
        "colab": {
          "base_uri": "https://localhost:8080/"
        },
        "id": "adca4wHwVznx",
        "outputId": "ac524201-7a77-4c54-f681-d341625eef13"
      },
      "execution_count": 5,
      "outputs": [
        {
          "output_type": "stream",
          "name": "stdout",
          "text": [
            "torch.Size([3, 16, 16])\n"
          ]
        }
      ]
    },
    {
      "cell_type": "code",
      "source": [
        "trainloader = DataLoader(trainset, batch_size=50,shuffle=True) #DataLoader는 데이터를 미니 배치 형태로 만들어줌 => 이 함수는 무작위로 데이터를 섞어 한번에 50개의 이미지를 묶은 배치로 제공하겠다는 뜻.\n",
        "testloader = DataLoader(testset, batch_size=50, shuffle=False)"
      ],
      "metadata": {
        "id": "2V8K8p8FWXiB"
      },
      "execution_count": 6,
      "outputs": []
    },
    {
      "cell_type": "code",
      "source": [
        "len(trainloader) #CIFAR10의 학습 이미지가 50000장, 배치 사이즈가 50장이므로 1000이라는 결과값이 나옴."
      ],
      "metadata": {
        "colab": {
          "base_uri": "https://localhost:8080/"
        },
        "id": "eu_zPKqRYAmc",
        "outputId": "08e3f24c-4769-4807-ebf3-537ba1bc5e33"
      },
      "execution_count": 7,
      "outputs": [
        {
          "output_type": "execute_result",
          "data": {
            "text/plain": [
              "1000"
            ]
          },
          "metadata": {},
          "execution_count": 7
        }
      ]
    },
    {
      "cell_type": "code",
      "source": [
        "images, labels = iter(trainloader).next() # iter, next 함수 => 배치 이미지를 간단히 확인하기 위해 사용.=>trainloader의 첫번째 배치 불러올 수 있음.\n",
        "print(images.size()) # 배치 사이즈 = (배치 크기)X(채널 수)X(너비)X(높이), batch_size=50 옵션이 잘 적용된 것을 확인할 수 있음."
      ],
      "metadata": {
        "colab": {
          "base_uri": "https://localhost:8080/"
        },
        "id": "rsyXaeLhZKTy",
        "outputId": "3c5e5fc6-57b7-4ee7-b14b-cadb892afddc"
      },
      "execution_count": 8,
      "outputs": [
        {
          "output_type": "stream",
          "name": "stdout",
          "text": [
            "torch.Size([50, 3, 16, 16])\n"
          ]
        }
      ]
    },
    {
      "cell_type": "code",
      "source": [
        "oneshot = images[1].permute(1,2,0).numpy() #image[1]의 크기는 (3,16,16)임. => 위에서 언급했듯이, 일반적인 그림은 (너비)X(높이)X(채널 수)로 표시되므로 채널 수가 가장 뒤로 가야한다. permute 함수는 그래서 이용한 것. \n",
        "plt.figure(figsize=(2,2))\n",
        "plt.imshow(oneshot)\n",
        "plt.axis(\"off\")\n",
        "plt.show()"
      ],
      "metadata": {
        "colab": {
          "base_uri": "https://localhost:8080/",
          "height": 140
        },
        "id": "Q7XZmZAta3QZ",
        "outputId": "057a0d85-1615-44e9-9158-92cefaf5e189"
      },
      "execution_count": 9,
      "outputs": [
        {
          "output_type": "display_data",
          "data": {
            "text/plain": [
              "<Figure size 144x144 with 1 Axes>"
            ],
            "image/png": "[encoded data removed]"
          },
          "metadata": {
            "needs_background": "light"
          }
        }
      ]
    },
    {
      "cell_type": "code",
      "source": [
        "# 같은 클래스 별로 폴더를 정리한 경우\n",
        "transf = tr.Compose([tr.Resize(128),tr.ToTensor()])\n",
        "trainset = torchvision.datasets.ImageFolder(root = './class', transform=transf) #데이터가 같은 클래스 별로 미리 폴더를 정리한 경우 별도의 라벨링 필요 X => 폴더 별로 자동으로 라벨링함.\n",
        "trainloader = DataLoader(trainset, batch_size=1, shuffle=False)"
      ],
      "metadata": {
        "id": "CkmZeuctdVmW"
      },
      "execution_count": null,
      "outputs": []
    },
    {
      "cell_type": "code",
      "source": [
        "from torch.utils.data import Dataset\n",
        "\n",
        "# class 클래스명(Dataset): # Dataset을 상속 => DataLoader에서 배치 단위로 불러올 수 있게 해줌.\n",
        "\n",
        "      #def __init__(self): # 데이터 세팅에 필요한 것들을 미리 정의함.\n",
        "      #def __getitem__(self,index): # DataLoader을 통해 샘플이 요청됨 => __getitem__(self,index)은 인덱스에 해당하는 샘플 찾아서 줌.\n",
        "      #def __len__(self): # 크기 반환"
      ],
      "metadata": {
        "id": "g5SR9Pm9VRqC"
      },
      "execution_count": 11,
      "outputs": []
    },
    {
      "cell_type": "code",
      "source": [
        "# 크기가 32X32인 RGB 컬러 이미지 100장이 라벨 되어 있고, 넘파이 배열로도 정리가 되어 있다고 가정\n",
        "train_images = np.random.randint(256, size=(100,32,32,3))/255\n",
        "train_labels = np.random.randint(2,size=(100,1))\n",
        "\n",
        "class TensorData(Dataset):\n",
        "\n",
        "  def __init__(self, x_data, y_data): # __init__에서 데이터를 받아 self.x,y_data를 tensor로 변환\n",
        "    self.x_data = torch.FloatTensor(x_data)\n",
        "    self.x_data = self.x_data.permute(0,3,1,2) #permute 함수로 (이미지 수)X(너비)X(높이)X(채널 수)=>(배치 크기)X(채널 수)X(너비)X(높이)\n",
        "    self.y_data = torch.LongTensor(y_data)\n",
        "    self.len = self.y_data.shape[0] #입력 데이터의 개수에 대한 변수 self.len 생성\n",
        "\n",
        "  def __getitem__(self,index): #__getitem__에는 뽑아낼 데이터에 대해 인덱스 처리하여 적어줌.\n",
        "    return self.x_data[index], self.y_data[index]\n",
        "\n",
        "  def __len__(self): #__len__에는 미리 선언한 self.len을 반환할 수 있도록 넣어줌.\n",
        "    return self.len"
      ],
      "metadata": {
        "id": "RaqGwMHCeS7-"
      },
      "execution_count": 12,
      "outputs": []
    },
    {
      "cell_type": "code",
      "source": [
        "train_data = TensorData(train_images, train_labels)\n",
        "train_loader = DataLoader(train_data, batch_size=10, shuffle=True) #TensorData 클래스 train_data로 정의하여 DataLoader에 넣어주면 배치 데이터의 형태로 사용 가능"
      ],
      "metadata": {
        "id": "3tGip0_sjcED"
      },
      "execution_count": 13,
      "outputs": []
    },
    {
      "cell_type": "code",
      "source": [
        "# 커스텀 데이터와 커스텀 전처리 사용\n",
        "# pytorch는 전처리 함수들을 제공하여 매우 편리하게 사용 가능, but 이미지는 Image, Tensor 타입일 때만 사용 가능, 제공하지 않는 기능은 직접 구현해야함.\n",
        "class ToTensor:#입력 데이터를 tensor 데이터로 변환, 학습에 맞는 크기로 변환\n",
        "  def __call__(self,sample): # MyDataset 클래스의 sample을 불러와 작업하므로 __call__함수 사용.\n",
        "    inputs, labels = sample\n",
        "    inputs = torch.FloatTensor(inputs)\n",
        "    inputs = inputs.permute(2,0,1) #입력 값을 하나씩 불러옴(batch size는 영향이 없음) => permute(0,3,1,2)(X) permute(2,0,1)(O)\n",
        "    return inputs, torch.LongTensor(labels)"
      ],
      "metadata": {
        "id": "RuTfvR9ajske"
      },
      "execution_count": 14,
      "outputs": []
    },
    {
      "cell_type": "code",
      "source": [
        "class CutOut:\n",
        "\n",
        "  def __init__(self, ratio=.5): # ToTensor와 다른 점 : 외부에서 CutOut 발생 비율을 받기 위해 __init__을 이용하여 ration를 받음. .5이므로 50%확률로 CutOut 발현.\n",
        "    self.ratio = int(1/ratio)\n",
        "  \n",
        "  def __call__(self,sample):\n",
        "    inputs, labels = sample #샘플을 받음.\n",
        "    active = int(np.random.randint(0, self.ratio, 1)) # 정수를 뽑음. 50%일 경우 0 or 1, 0이면 CutOut 발현, 1이면 원본 그대로\n",
        "\n",
        "    if active == 0:\n",
        "      _, w, h = inputs.size() # 이미지의 너비와 높이를 받음\n",
        "      min_len = min(w,h) # 최솟값을 구한다. inputs의 크기 = (채널 수, 너비, 높이) => 변수 3개 선언해야함. But, 채널 수는 상관 없기에 _로 값 저장 X\n",
        "      box_size = int(min_len//4) # CutOut의 크기를 길이의 최솟값의 25%로 설정\n",
        "      idx = int(np.random.randint(0, min_len-box_size, 1)) # idx를 통하여 CutOut 박스의 좌측 상단 꼭지점 위치를 정해줌.\n",
        "      inputs[:,idx:idx+box_size,idx:idx+box_size] = 0 # 정사각형 영역의 값을 0으로 대체(코드 변형을 통하여 다른 모양 가능)\n",
        "\n",
        "    return inputs, labels"
      ],
      "metadata": {
        "id": "lMMLJCeEk0sv"
      },
      "execution_count": 15,
      "outputs": []
    },
    {
      "cell_type": "code",
      "source": [
        "# MyDataset에 전처리 추가\n",
        "class MyDataset(Dataset):\n",
        "\n",
        "  def __init__(self, x_data, y_data, transform=None): # transform=None 추가 : 아무것도 적지 않으면 전처리 사용 안함\n",
        "    self.x_data = x_data\n",
        "    self.y_data = y_data\n",
        "    self.transform = transform\n",
        "    self.len = len(y_data)\n",
        "    self.tensor = ToTensor()\n",
        "\n",
        "  def __getitem__(self, index):\n",
        "    sample = self.x_data[index], self.y_data[index]\n",
        "\n",
        "    if self.transform: # transform!=None이라면 __getitem__에서 sample을 반환하기 전에 전처리를 할 수 있는 if문 작성\n",
        "      sample = self.transform(sample)\n",
        "    else: #tranform==None이어도 기본적인 텐서 변환은 하도록 작성\n",
        "      sample = self.tensor(sample)\n",
        "    return sample\n",
        "\n",
        "  def __len__(self):\n",
        "    return self.len"
      ],
      "metadata": {
        "id": "tZO9KMQamh4U"
      },
      "execution_count": 16,
      "outputs": []
    },
    {
      "cell_type": "code",
      "source": [
        "trans = tr.Compose([ToTensor(),CutOut()]) #pytorch 기본 변환 tr.ToTensor() 대신 직접 만든 ToTensor() 사용\n",
        "dataset1 = MyDataset(train_images, train_labels, transform=trans) # 정의된 전처리 입력한 데이터 셋 생성 & DataLoader 사용\n",
        "train_loader1 = DataLoader(dataset1, batch_size=10, shuffle=True)"
      ],
      "metadata": {
        "id": "NyvaHlstnqw9"
      },
      "execution_count": 18,
      "outputs": []
    },
    {
      "cell_type": "code",
      "source": [
        "import torchvision # 그리드 생성해주는 torchvision.utils.make_grid 사용을 위하여 torchvision 불러옴\n",
        "images1, labels1 = iter(train_loader1).next() #iter, next로 첫 번째 배치 불러와 결과 확인\n",
        "\n",
        "def imshow(img): # r그림을 그리기 위하여 (채널 수 , 너비, 높이)인 이미지 크기를  permute(1,2,0)으로 (너비, 높이, 채널 수)로 변경 & numpy()를 이용하여 넘파이 배열로 변환(그림 그려야되니깐.)\n",
        "  plt.figure(figsize=(10,100))\n",
        "  plt.imshow(img.permute(1,2,0).numpy())\n",
        "  plt.show()\n",
        "\n",
        "imshow(torchvision.utils.make_grid(images1,nrow=10))"
      ],
      "metadata": {
        "colab": {
          "base_uri": "https://localhost:8080/",
          "height": 110
        },
        "id": "Ali85Z_aoWYt",
        "outputId": "0024fd2e-67ca-4fb8-fde6-611a682dbb9d"
      },
      "execution_count": 19,
      "outputs": [
        {
          "output_type": "display_data",
          "data": {
            "text/plain": [
              "<Figure size 720x7200 with 1 Axes>"
            ],
            "image/png": "[encoded data removed]"
          },
          "metadata": {
            "needs_background": "light"
          }
        }
      ]
    },
    {
      "cell_type": "code",
      "source": [
        "class MyTransform: # 전처리 클래스 MyTransform을 정의 => 원하는 전처리 모두 작성\n",
        "\n",
        "  def __call__(self, sample):\n",
        "    inputs, labels = sample\n",
        "    inputs = torch.FloatTensor(inputs)\n",
        "    inputs = inputs.permute(2,0,1)\n",
        "    labels = torch.FloatTensor(labels)\n",
        "\n",
        "    transf = tr.Compose([tr.ToPILImage(), tr.Resize(128), tr.ToTensor()]) # tr.Compose는 차례대로 전처리 작업 => 가장 첫번째에 tr.TOPILImage()를 넣어 이미지 타입 변경 가능.\n",
        "    final_output = transf(inputs) # 다음 불러온 샘플을 전처리 작업에 넣어줌.\n",
        "\n",
        "    return final_output, labels"
      ],
      "metadata": {
        "id": "zu-WGpeapKJE"
      },
      "execution_count": 20,
      "outputs": []
    },
    {
      "cell_type": "code",
      "source": [
        "dataset2 = MyDataset(train_images, train_labels, transform = MyTransform()) #MyDataset은 이전과 동일하게 사용하되, 전처리에 MyTransform을 넣어준다.\n",
        "train_loader2 = DataLoader(dataset2, batch_size=10, shuffle=True)"
      ],
      "metadata": {
        "id": "cjWyHHCPqBkM"
      },
      "execution_count": 21,
      "outputs": []
    },
    {
      "cell_type": "code",
      "source": [
        "# 커스텀 전처리&pytorch에서 제공하는 전처리 함께 사용\n",
        "# 이 CutOut은 위의 CutOut과 달리 라벨은 안받고 이미지만 받아 처리하도록 함.\n",
        "# Why? Compose 내부에 있는 제공된 전처리는 이미지만 받아서 처리하기에, 그 양식을 맞춰 주어야 함.\n",
        "# 우리가 만든 CutOut은 tensor, numpy array type 모두 작동 가능하지만, PILImage 타입에서는 타입 오류가 남.\n",
        "# 따라서 tr.ToTensor() 뒤에 CutOut을 배치\n",
        "class CutOut:\n",
        "\n",
        "  def __init__(self,ratio=.5):\n",
        "    self.ratio = int(1/ratio)\n",
        "\n",
        "  def __call__(self,inputs):\n",
        "    active=int(np.random.randint(0,self.ratio,1))\n",
        "\n",
        "    if active==0:\n",
        "      _,w,h = inputs.size()\n",
        "      min_len = min(w,h)\n",
        "      box_size = int(min_len//4)\n",
        "      idx = int(np.random.randint(0, min_len-box_size, 1))\n",
        "      inputs[:,idx:idx+box_size,idx+box_size] = 0\n",
        "\n",
        "      return inputs\n",
        "\n",
        "transf = tr.Compose([tr.Resize(128), tr.ToTensor(), CutOut()])\n",
        "trainset = torchvision.datasets.CIFAR10(root='./data', train=True, download=True, transform=transf)"
      ],
      "metadata": {
        "colab": {
          "base_uri": "https://localhost:8080/"
        },
        "id": "qNqrNDiqqY6f",
        "outputId": "85018417-e59c-4c9d-cda0-df6b7d157531"
      },
      "execution_count": 26,
      "outputs": [
        {
          "output_type": "stream",
          "name": "stdout",
          "text": [
            "Files already downloaded and verified\n"
          ]
        }
      ]
    },
    {
      "cell_type": "code",
      "source": [
        "# 이 결과를 통해 CIFAR10 데이터가 배치 10개씩 나눠지고 이미지 사이즈를 128로 늘린 뒤 tensor로 변환되고 50% 확률로 무작위 선택하여 CutOut 적용한 것을 알 수 있음!\n",
        "trainloader = DataLoader(trainset, batch_size=10, shuffle=True)\n",
        "images, labels = iter(trainloader).next()\n",
        "imshow(torchvision.utils.make_grid(images,nrow=10))\n",
        "print(images.size()) #배치 및 이미지 크기 확인"
      ],
      "metadata": {
        "colab": {
          "base_uri": "https://localhost:8080/",
          "height": 396
        },
        "id": "kFPW6-SYrUHZ",
        "outputId": "19b021d0-c4b3-496d-f487-f55dfd60a71c"
      },
      "execution_count": 34,
      "outputs": [
        {
          "output_type": "error",
          "ename": "TypeError",
          "evalue": "ignored",
          "traceback": [
            "\u001b[0;31m---------------------------------------------------------------------------\u001b[0m",
            "\u001b[0;31mTypeError\u001b[0m                                 Traceback (most recent call last)",
            "\u001b[0;32m<ipython-input-34-ea7abef5efc6>\u001b[0m in \u001b[0;36m<module>\u001b[0;34m()\u001b[0m\n\u001b[1;32m      1\u001b[0m \u001b[0;31m# 이 결과를 통해 CIFAR10 데이터가 배치 10개씩 나눠지고 이미지 사이즈를 128로 늘린 뒤 tensor로 변환되고 50% 확률로 무작위 선택하여 CutOut 적용한 것을 알 수 있음!\u001b[0m\u001b[0;34m\u001b[0m\u001b[0;34m\u001b[0m\u001b[0;34m\u001b[0m\u001b[0m\n\u001b[1;32m      2\u001b[0m \u001b[0mtrainloader\u001b[0m \u001b[0;34m=\u001b[0m \u001b[0mDataLoader\u001b[0m\u001b[0;34m(\u001b[0m\u001b[0mtrainset\u001b[0m\u001b[0;34m,\u001b[0m \u001b[0mbatch_size\u001b[0m\u001b[0;34m=\u001b[0m\u001b[0;36m10\u001b[0m\u001b[0;34m,\u001b[0m \u001b[0mshuffle\u001b[0m\u001b[0;34m=\u001b[0m\u001b[0;32mTrue\u001b[0m\u001b[0;34m)\u001b[0m\u001b[0;34m\u001b[0m\u001b[0;34m\u001b[0m\u001b[0m\n\u001b[0;32m----> 3\u001b[0;31m \u001b[0mimages\u001b[0m\u001b[0;34m,\u001b[0m \u001b[0mlabels\u001b[0m \u001b[0;34m=\u001b[0m \u001b[0miter\u001b[0m\u001b[0;34m(\u001b[0m\u001b[0mtrainloader\u001b[0m\u001b[0;34m)\u001b[0m\u001b[0;34m.\u001b[0m\u001b[0mnext\u001b[0m\u001b[0;34m(\u001b[0m\u001b[0;34m)\u001b[0m\u001b[0;34m\u001b[0m\u001b[0;34m\u001b[0m\u001b[0m\n\u001b[0m\u001b[1;32m      4\u001b[0m \u001b[0mimshow\u001b[0m\u001b[0;34m(\u001b[0m\u001b[0mtorchvision\u001b[0m\u001b[0;34m.\u001b[0m\u001b[0mutils\u001b[0m\u001b[0;34m.\u001b[0m\u001b[0mmake_grid\u001b[0m\u001b[0;34m(\u001b[0m\u001b[0mimages\u001b[0m\u001b[0;34m,\u001b[0m\u001b[0mnrow\u001b[0m\u001b[0;34m=\u001b[0m\u001b[0;36m10\u001b[0m\u001b[0;34m)\u001b[0m\u001b[0;34m)\u001b[0m\u001b[0;34m\u001b[0m\u001b[0;34m\u001b[0m\u001b[0m\n\u001b[1;32m      5\u001b[0m \u001b[0mprint\u001b[0m\u001b[0;34m(\u001b[0m\u001b[0mimages\u001b[0m\u001b[0;34m.\u001b[0m\u001b[0msize\u001b[0m\u001b[0;34m(\u001b[0m\u001b[0;34m)\u001b[0m\u001b[0;34m)\u001b[0m \u001b[0;31m#배치 및 이미지 크기 확인\u001b[0m\u001b[0;34m\u001b[0m\u001b[0;34m\u001b[0m\u001b[0m\n",
            "\u001b[0;32m/usr/local/lib/python3.7/dist-packages/torch/utils/data/dataloader.py\u001b[0m in \u001b[0;36m__next__\u001b[0;34m(self)\u001b[0m\n\u001b[1;32m    650\u001b[0m                 \u001b[0;31m# TODO(https://github.com/pytorch/pytorch/issues/76750)\u001b[0m\u001b[0;34m\u001b[0m\u001b[0;34m\u001b[0m\u001b[0;34m\u001b[0m\u001b[0m\n\u001b[1;32m    651\u001b[0m                 \u001b[0mself\u001b[0m\u001b[0;34m.\u001b[0m\u001b[0m_reset\u001b[0m\u001b[0;34m(\u001b[0m\u001b[0;34m)\u001b[0m  \u001b[0;31m# type: ignore[call-arg]\u001b[0m\u001b[0;34m\u001b[0m\u001b[0;34m\u001b[0m\u001b[0m\n\u001b[0;32m--> 652\u001b[0;31m             \u001b[0mdata\u001b[0m \u001b[0;34m=\u001b[0m \u001b[0mself\u001b[0m\u001b[0;34m.\u001b[0m\u001b[0m_next_data\u001b[0m\u001b[0;34m(\u001b[0m\u001b[0;34m)\u001b[0m\u001b[0;34m\u001b[0m\u001b[0;34m\u001b[0m\u001b[0m\n\u001b[0m\u001b[1;32m    653\u001b[0m             \u001b[0mself\u001b[0m\u001b[0;34m.\u001b[0m\u001b[0m_num_yielded\u001b[0m \u001b[0;34m+=\u001b[0m \u001b[0;36m1\u001b[0m\u001b[0;34m\u001b[0m\u001b[0;34m\u001b[0m\u001b[0m\n\u001b[1;32m    654\u001b[0m             \u001b[0;32mif\u001b[0m \u001b[0mself\u001b[0m\u001b[0;34m.\u001b[0m\u001b[0m_dataset_kind\u001b[0m \u001b[0;34m==\u001b[0m \u001b[0m_DatasetKind\u001b[0m\u001b[0;34m.\u001b[0m\u001b[0mIterable\u001b[0m \u001b[0;32mand\u001b[0m\u001b[0;31m \u001b[0m\u001b[0;31m\\\u001b[0m\u001b[0;34m\u001b[0m\u001b[0;34m\u001b[0m\u001b[0m\n",
            "\u001b[0;32m/usr/local/lib/python3.7/dist-packages/torch/utils/data/dataloader.py\u001b[0m in \u001b[0;36m_next_data\u001b[0;34m(self)\u001b[0m\n\u001b[1;32m    690\u001b[0m     \u001b[0;32mdef\u001b[0m \u001b[0m_next_data\u001b[0m\u001b[0;34m(\u001b[0m\u001b[0mself\u001b[0m\u001b[0;34m)\u001b[0m\u001b[0;34m:\u001b[0m\u001b[0;34m\u001b[0m\u001b[0;34m\u001b[0m\u001b[0m\n\u001b[1;32m    691\u001b[0m         \u001b[0mindex\u001b[0m \u001b[0;34m=\u001b[0m \u001b[0mself\u001b[0m\u001b[0;34m.\u001b[0m\u001b[0m_next_index\u001b[0m\u001b[0;34m(\u001b[0m\u001b[0;34m)\u001b[0m  \u001b[0;31m# may raise StopIteration\u001b[0m\u001b[0;34m\u001b[0m\u001b[0;34m\u001b[0m\u001b[0m\n\u001b[0;32m--> 692\u001b[0;31m         \u001b[0mdata\u001b[0m \u001b[0;34m=\u001b[0m \u001b[0mself\u001b[0m\u001b[0;34m.\u001b[0m\u001b[0m_dataset_fetcher\u001b[0m\u001b[0;34m.\u001b[0m\u001b[0mfetch\u001b[0m\u001b[0;34m(\u001b[0m\u001b[0mindex\u001b[0m\u001b[0;34m)\u001b[0m  \u001b[0;31m# may raise StopIteration\u001b[0m\u001b[0;34m\u001b[0m\u001b[0;34m\u001b[0m\u001b[0m\n\u001b[0m\u001b[1;32m    693\u001b[0m         \u001b[0;32mif\u001b[0m \u001b[0mself\u001b[0m\u001b[0;34m.\u001b[0m\u001b[0m_pin_memory\u001b[0m\u001b[0;34m:\u001b[0m\u001b[0;34m\u001b[0m\u001b[0;34m\u001b[0m\u001b[0m\n\u001b[1;32m    694\u001b[0m             \u001b[0mdata\u001b[0m \u001b[0;34m=\u001b[0m \u001b[0m_utils\u001b[0m\u001b[0;34m.\u001b[0m\u001b[0mpin_memory\u001b[0m\u001b[0;34m.\u001b[0m\u001b[0mpin_memory\u001b[0m\u001b[0;34m(\u001b[0m\u001b[0mdata\u001b[0m\u001b[0;34m,\u001b[0m \u001b[0mself\u001b[0m\u001b[0;34m.\u001b[0m\u001b[0m_pin_memory_device\u001b[0m\u001b[0;34m)\u001b[0m\u001b[0;34m\u001b[0m\u001b[0;34m\u001b[0m\u001b[0m\n",
            "\u001b[0;32m/usr/local/lib/python3.7/dist-packages/torch/utils/data/_utils/fetch.py\u001b[0m in \u001b[0;36mfetch\u001b[0;34m(self, possibly_batched_index)\u001b[0m\n\u001b[1;32m     50\u001b[0m         \u001b[0;32melse\u001b[0m\u001b[0;34m:\u001b[0m\u001b[0;34m\u001b[0m\u001b[0;34m\u001b[0m\u001b[0m\n\u001b[1;32m     51\u001b[0m             \u001b[0mdata\u001b[0m \u001b[0;34m=\u001b[0m \u001b[0mself\u001b[0m\u001b[0;34m.\u001b[0m\u001b[0mdataset\u001b[0m\u001b[0;34m[\u001b[0m\u001b[0mpossibly_batched_index\u001b[0m\u001b[0;34m]\u001b[0m\u001b[0;34m\u001b[0m\u001b[0;34m\u001b[0m\u001b[0m\n\u001b[0;32m---> 52\u001b[0;31m         \u001b[0;32mreturn\u001b[0m \u001b[0mself\u001b[0m\u001b[0;34m.\u001b[0m\u001b[0mcollate_fn\u001b[0m\u001b[0;34m(\u001b[0m\u001b[0mdata\u001b[0m\u001b[0;34m)\u001b[0m\u001b[0;34m\u001b[0m\u001b[0;34m\u001b[0m\u001b[0m\n\u001b[0m",
            "\u001b[0;32m/usr/local/lib/python3.7/dist-packages/torch/utils/data/_utils/collate.py\u001b[0m in \u001b[0;36mdefault_collate\u001b[0;34m(batch)\u001b[0m\n\u001b[1;32m    173\u001b[0m \u001b[0;34m\u001b[0m\u001b[0m\n\u001b[1;32m    174\u001b[0m         \u001b[0;32mif\u001b[0m \u001b[0misinstance\u001b[0m\u001b[0;34m(\u001b[0m\u001b[0melem\u001b[0m\u001b[0;34m,\u001b[0m \u001b[0mtuple\u001b[0m\u001b[0;34m)\u001b[0m\u001b[0;34m:\u001b[0m\u001b[0;34m\u001b[0m\u001b[0;34m\u001b[0m\u001b[0m\n\u001b[0;32m--> 175\u001b[0;31m             \u001b[0;32mreturn\u001b[0m \u001b[0;34m[\u001b[0m\u001b[0mdefault_collate\u001b[0m\u001b[0;34m(\u001b[0m\u001b[0msamples\u001b[0m\u001b[0;34m)\u001b[0m \u001b[0;32mfor\u001b[0m \u001b[0msamples\u001b[0m \u001b[0;32min\u001b[0m \u001b[0mtransposed\u001b[0m\u001b[0;34m]\u001b[0m  \u001b[0;31m# Backwards compatibility.\u001b[0m\u001b[0;34m\u001b[0m\u001b[0;34m\u001b[0m\u001b[0m\n\u001b[0m\u001b[1;32m    176\u001b[0m         \u001b[0;32melse\u001b[0m\u001b[0;34m:\u001b[0m\u001b[0;34m\u001b[0m\u001b[0;34m\u001b[0m\u001b[0m\n\u001b[1;32m    177\u001b[0m             \u001b[0;32mtry\u001b[0m\u001b[0;34m:\u001b[0m\u001b[0;34m\u001b[0m\u001b[0;34m\u001b[0m\u001b[0m\n",
            "\u001b[0;32m/usr/local/lib/python3.7/dist-packages/torch/utils/data/_utils/collate.py\u001b[0m in \u001b[0;36m<listcomp>\u001b[0;34m(.0)\u001b[0m\n\u001b[1;32m    173\u001b[0m \u001b[0;34m\u001b[0m\u001b[0m\n\u001b[1;32m    174\u001b[0m         \u001b[0;32mif\u001b[0m \u001b[0misinstance\u001b[0m\u001b[0;34m(\u001b[0m\u001b[0melem\u001b[0m\u001b[0;34m,\u001b[0m \u001b[0mtuple\u001b[0m\u001b[0;34m)\u001b[0m\u001b[0;34m:\u001b[0m\u001b[0;34m\u001b[0m\u001b[0;34m\u001b[0m\u001b[0m\n\u001b[0;32m--> 175\u001b[0;31m             \u001b[0;32mreturn\u001b[0m \u001b[0;34m[\u001b[0m\u001b[0mdefault_collate\u001b[0m\u001b[0;34m(\u001b[0m\u001b[0msamples\u001b[0m\u001b[0;34m)\u001b[0m \u001b[0;32mfor\u001b[0m \u001b[0msamples\u001b[0m \u001b[0;32min\u001b[0m \u001b[0mtransposed\u001b[0m\u001b[0;34m]\u001b[0m  \u001b[0;31m# Backwards compatibility.\u001b[0m\u001b[0;34m\u001b[0m\u001b[0;34m\u001b[0m\u001b[0m\n\u001b[0m\u001b[1;32m    176\u001b[0m         \u001b[0;32melse\u001b[0m\u001b[0;34m:\u001b[0m\u001b[0;34m\u001b[0m\u001b[0;34m\u001b[0m\u001b[0m\n\u001b[1;32m    177\u001b[0m             \u001b[0;32mtry\u001b[0m\u001b[0;34m:\u001b[0m\u001b[0;34m\u001b[0m\u001b[0;34m\u001b[0m\u001b[0m\n",
            "\u001b[0;32m/usr/local/lib/python3.7/dist-packages/torch/utils/data/_utils/collate.py\u001b[0m in \u001b[0;36mdefault_collate\u001b[0;34m(batch)\u001b[0m\n\u001b[1;32m    139\u001b[0m             \u001b[0mstorage\u001b[0m \u001b[0;34m=\u001b[0m \u001b[0melem\u001b[0m\u001b[0;34m.\u001b[0m\u001b[0mstorage\u001b[0m\u001b[0;34m(\u001b[0m\u001b[0;34m)\u001b[0m\u001b[0;34m.\u001b[0m\u001b[0m_new_shared\u001b[0m\u001b[0;34m(\u001b[0m\u001b[0mnumel\u001b[0m\u001b[0;34m,\u001b[0m \u001b[0mdevice\u001b[0m\u001b[0;34m=\u001b[0m\u001b[0melem\u001b[0m\u001b[0;34m.\u001b[0m\u001b[0mdevice\u001b[0m\u001b[0;34m)\u001b[0m\u001b[0;34m\u001b[0m\u001b[0;34m\u001b[0m\u001b[0m\n\u001b[1;32m    140\u001b[0m             \u001b[0mout\u001b[0m \u001b[0;34m=\u001b[0m \u001b[0melem\u001b[0m\u001b[0;34m.\u001b[0m\u001b[0mnew\u001b[0m\u001b[0;34m(\u001b[0m\u001b[0mstorage\u001b[0m\u001b[0;34m)\u001b[0m\u001b[0;34m.\u001b[0m\u001b[0mresize_\u001b[0m\u001b[0;34m(\u001b[0m\u001b[0mlen\u001b[0m\u001b[0;34m(\u001b[0m\u001b[0mbatch\u001b[0m\u001b[0;34m)\u001b[0m\u001b[0;34m,\u001b[0m \u001b[0;34m*\u001b[0m\u001b[0mlist\u001b[0m\u001b[0;34m(\u001b[0m\u001b[0melem\u001b[0m\u001b[0;34m.\u001b[0m\u001b[0msize\u001b[0m\u001b[0;34m(\u001b[0m\u001b[0;34m)\u001b[0m\u001b[0;34m)\u001b[0m\u001b[0;34m)\u001b[0m\u001b[0;34m\u001b[0m\u001b[0;34m\u001b[0m\u001b[0m\n\u001b[0;32m--> 141\u001b[0;31m         \u001b[0;32mreturn\u001b[0m \u001b[0mtorch\u001b[0m\u001b[0;34m.\u001b[0m\u001b[0mstack\u001b[0m\u001b[0;34m(\u001b[0m\u001b[0mbatch\u001b[0m\u001b[0;34m,\u001b[0m \u001b[0;36m0\u001b[0m\u001b[0;34m,\u001b[0m \u001b[0mout\u001b[0m\u001b[0;34m=\u001b[0m\u001b[0mout\u001b[0m\u001b[0;34m)\u001b[0m\u001b[0;34m\u001b[0m\u001b[0;34m\u001b[0m\u001b[0m\n\u001b[0m\u001b[1;32m    142\u001b[0m     \u001b[0;32melif\u001b[0m \u001b[0melem_type\u001b[0m\u001b[0;34m.\u001b[0m\u001b[0m__module__\u001b[0m \u001b[0;34m==\u001b[0m \u001b[0;34m'numpy'\u001b[0m \u001b[0;32mand\u001b[0m \u001b[0melem_type\u001b[0m\u001b[0;34m.\u001b[0m\u001b[0m__name__\u001b[0m \u001b[0;34m!=\u001b[0m \u001b[0;34m'str_'\u001b[0m\u001b[0;31m \u001b[0m\u001b[0;31m\\\u001b[0m\u001b[0;34m\u001b[0m\u001b[0;34m\u001b[0m\u001b[0m\n\u001b[1;32m    143\u001b[0m             \u001b[0;32mand\u001b[0m \u001b[0melem_type\u001b[0m\u001b[0;34m.\u001b[0m\u001b[0m__name__\u001b[0m \u001b[0;34m!=\u001b[0m \u001b[0;34m'string_'\u001b[0m\u001b[0;34m:\u001b[0m\u001b[0;34m\u001b[0m\u001b[0;34m\u001b[0m\u001b[0m\n",
            "\u001b[0;31mTypeError\u001b[0m: expected Tensor as element 1 in argument 0, but got NoneType"
          ]
        }
      ]
    }
  ]
}