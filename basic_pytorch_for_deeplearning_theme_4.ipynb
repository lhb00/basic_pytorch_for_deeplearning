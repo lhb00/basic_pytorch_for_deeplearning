{
  "nbformat": 4,
  "nbformat_minor": 0,
  "metadata": {
    "colab": {
      "name": "basic_pytorch_for_deeplearning_theme 4",
      "provenance": [],
      "collapsed_sections": [],
      "authorship_tag": "ABX9TyPUEfEDTThe00eSXZPo8T0r",
      "include_colab_link": true
    },
    "kernelspec": {
      "name": "python3",
      "display_name": "Python 3"
    },
    "language_info": {
      "name": "python"
    }
  },
  "cells": [
    {
      "cell_type": "markdown",
      "metadata": {
        "id": "view-in-github",
        "colab_type": "text"
      },
      "source": [
        "<a href=\"https://colab.research.google.com/github/lhb00/basic_pytorch_for_deeplearning/blob/main/basic_pytorch_for_deeplearning_theme_4.ipynb\" target=\"_parent\"><img src=\"https://colab.research.google.com/assets/colab-badge.svg\" alt=\"Open In Colab\"/></a>"
      ]
    },
    {
      "cell_type": "code",
      "execution_count": 1,
      "metadata": {
        "colab": {
          "base_uri": "https://localhost:8080/"
        },
        "id": "8Chy-AXTMRHC",
        "outputId": "37de7dae-4274-4f31-a690-290f7990e37e"
      },
      "outputs": [
        {
          "output_type": "stream",
          "name": "stdout",
          "text": [
            "tensor([[ 4.1583e-35,  0.0000e+00, -7.2138e-03, -2.3489e+36],\n",
            "        [ 0.0000e+00,  0.0000e+00, -3.6540e+14,  4.5757e-41],\n",
            "        [ 7.5686e-09, -3.5027e+36, -3.4898e+14,  4.5757e-41],\n",
            "        [ 0.0000e+00,  0.0000e+00, -2.1573e+08, -2.4410e+26],\n",
            "        [-3.6511e+14,  4.5757e-41, -3.6511e+14,  4.5757e-41]])\n"
          ]
        }
      ],
      "source": [
        "import torch\n",
        "import numpy as np\n",
        "\n",
        "x=torch.empty(5,4)\n",
        "print(x)"
      ]
    },
    {
      "cell_type": "code",
      "source": [
        "torch.ones(3,3) #1로만 구성된 3X3 행렬"
      ],
      "metadata": {
        "colab": {
          "base_uri": "https://localhost:8080/"
        },
        "id": "4JmuW1wRMg9c",
        "outputId": "007b8c5e-1dc6-405d-9053-be0b6395788f"
      },
      "execution_count": 2,
      "outputs": [
        {
          "output_type": "execute_result",
          "data": {
            "text/plain": [
              "tensor([[1., 1., 1.],\n",
              "        [1., 1., 1.],\n",
              "        [1., 1., 1.]])"
            ]
          },
          "metadata": {},
          "execution_count": 2
        }
      ]
    },
    {
      "cell_type": "code",
      "source": [
        "torch.zeros(2) #2행 0 벡터"
      ],
      "metadata": {
        "colab": {
          "base_uri": "https://localhost:8080/"
        },
        "id": "n0RYLOTkMkKu",
        "outputId": "fb34f199-d892-4ab3-aae8-3e1630bb1101"
      },
      "execution_count": 3,
      "outputs": [
        {
          "output_type": "execute_result",
          "data": {
            "text/plain": [
              "tensor([0., 0.])"
            ]
          },
          "metadata": {},
          "execution_count": 3
        }
      ]
    },
    {
      "cell_type": "code",
      "source": [
        "torch.rand(5,6)#랜덤한 숫자로 구성된 5X6 행렬"
      ],
      "metadata": {
        "colab": {
          "base_uri": "https://localhost:8080/"
        },
        "id": "dmoYyel1Mp5M",
        "outputId": "f09ae3d9-7174-4306-aed6-4704a64ac91e"
      },
      "execution_count": 4,
      "outputs": [
        {
          "output_type": "execute_result",
          "data": {
            "text/plain": [
              "tensor([[0.9517, 0.6817, 0.5679, 0.3508, 0.8478, 0.8834],\n",
              "        [0.1508, 0.3375, 0.6905, 0.7544, 0.7229, 0.9877],\n",
              "        [0.2891, 0.0094, 0.6496, 0.3954, 0.7154, 0.1068],\n",
              "        [0.5227, 0.9803, 0.0709, 0.1880, 0.8404, 0.7658],\n",
              "        [0.2718, 0.3599, 0.9740, 0.7177, 0.0875, 0.2145]])"
            ]
          },
          "metadata": {},
          "execution_count": 4
        }
      ]
    },
    {
      "cell_type": "code",
      "source": [
        "l = [13,4]\n",
        "r = np.array([4,56,7])\n",
        "torch.tensor(l) #텐서로 변환\n",
        "torch.tensor(r)"
      ],
      "metadata": {
        "colab": {
          "base_uri": "https://localhost:8080/"
        },
        "id": "miYmg6-rMwtM",
        "outputId": "edbedcf6-5d37-417f-89c0-3b276853a313"
      },
      "execution_count": 6,
      "outputs": [
        {
          "output_type": "execute_result",
          "data": {
            "text/plain": [
              "tensor([ 4, 56,  7])"
            ]
          },
          "metadata": {},
          "execution_count": 6
        }
      ]
    },
    {
      "cell_type": "code",
      "source": [
        "x.size()[1] #x.size는 5X4 크기의 텐서임."
      ],
      "metadata": {
        "colab": {
          "base_uri": "https://localhost:8080/"
        },
        "id": "AIXJ0aPZNm3w",
        "outputId": "3b632d68-4c5a-4f67-ea60-a4c7bed9c22e"
      },
      "execution_count": 8,
      "outputs": [
        {
          "output_type": "execute_result",
          "data": {
            "text/plain": [
              "4"
            ]
          },
          "metadata": {},
          "execution_count": 8
        }
      ]
    },
    {
      "cell_type": "code",
      "source": [
        "type(x)"
      ],
      "metadata": {
        "colab": {
          "base_uri": "https://localhost:8080/"
        },
        "id": "N265NmQINyFi",
        "outputId": "ab13a12b-29ad-411b-8f52-414a33cd6800"
      },
      "execution_count": 9,
      "outputs": [
        {
          "output_type": "execute_result",
          "data": {
            "text/plain": [
              "torch.Tensor"
            ]
          },
          "metadata": {},
          "execution_count": 9
        }
      ]
    },
    {
      "cell_type": "code",
      "source": [
        "x = torch.rand(2,2)\n",
        "y = torch.rand(2,2)\n",
        "x+y"
      ],
      "metadata": {
        "colab": {
          "base_uri": "https://localhost:8080/"
        },
        "id": "wI_aNhyONztr",
        "outputId": "463f72a5-59c5-4f57-ee99-77f64f8e60a2"
      },
      "execution_count": 10,
      "outputs": [
        {
          "output_type": "execute_result",
          "data": {
            "text/plain": [
              "tensor([[1.1516, 0.1880],\n",
              "        [1.7004, 1.0525]])"
            ]
          },
          "metadata": {},
          "execution_count": 10
        }
      ]
    },
    {
      "cell_type": "code",
      "source": [
        "torch.add(x,y) #x+y와 동일"
      ],
      "metadata": {
        "colab": {
          "base_uri": "https://localhost:8080/"
        },
        "id": "vYi0YAztN5ZO",
        "outputId": "8c11125f-42dc-49b9-abf5-844774fa3286"
      },
      "execution_count": 12,
      "outputs": [
        {
          "output_type": "execute_result",
          "data": {
            "text/plain": [
              "tensor([[1.1516, 0.1880],\n",
              "        [1.7004, 1.0525]])"
            ]
          },
          "metadata": {},
          "execution_count": 12
        }
      ]
    },
    {
      "cell_type": "code",
      "source": [
        "y.add(x) #y에 x를 더한다. 어차피 교환법칙 때문에 똑같."
      ],
      "metadata": {
        "colab": {
          "base_uri": "https://localhost:8080/"
        },
        "id": "4oBXo5IvOBIn",
        "outputId": "1674876a-f50e-4c8e-c036-acb9d595deb7"
      },
      "execution_count": 13,
      "outputs": [
        {
          "output_type": "execute_result",
          "data": {
            "text/plain": [
              "tensor([[1.1516, 0.1880],\n",
              "        [1.7004, 1.0525]])"
            ]
          },
          "metadata": {},
          "execution_count": 13
        }
      ]
    },
    {
      "cell_type": "code",
      "source": [
        "x = torch.rand(8,8)\n",
        "print(x.size())"
      ],
      "metadata": {
        "colab": {
          "base_uri": "https://localhost:8080/"
        },
        "id": "aaAf891tOH2D",
        "outputId": "62776719-f76b-4722-e232-3b971361e1aa"
      },
      "execution_count": 14,
      "outputs": [
        {
          "output_type": "stream",
          "name": "stdout",
          "text": [
            "torch.Size([8, 8])\n"
          ]
        }
      ]
    },
    {
      "cell_type": "code",
      "source": [
        "a = x.view(64) #8X8에서 64로\n",
        "print(a.size())"
      ],
      "metadata": {
        "colab": {
          "base_uri": "https://localhost:8080/"
        },
        "id": "r-oLZRvvOaVL",
        "outputId": "dbe76a75-2ac6-4392-b4f1-b79a1b161fbe"
      },
      "execution_count": 15,
      "outputs": [
        {
          "output_type": "stream",
          "name": "stdout",
          "text": [
            "torch.Size([64])\n"
          ]
        }
      ]
    },
    {
      "cell_type": "code",
      "source": [
        "b = x.view(-1,4,4) #-1을 사용하면 원래 크기가 되게 할 수 있다.\n",
        "print(b.size())"
      ],
      "metadata": {
        "colab": {
          "base_uri": "https://localhost:8080/"
        },
        "id": "wP7wHHK-OiOA",
        "outputId": "d9856b3c-ac15-496c-828d-c8e1fe55f230"
      },
      "execution_count": 16,
      "outputs": [
        {
          "output_type": "stream",
          "name": "stdout",
          "text": [
            "torch.Size([4, 4, 4])\n"
          ]
        }
      ]
    },
    {
      "cell_type": "code",
      "source": [
        "x = torch.rand(8,8)\n",
        "y = x.numpy() #반대로 토치에서 넘파이로\n",
        "type(y)"
      ],
      "metadata": {
        "colab": {
          "base_uri": "https://localhost:8080/"
        },
        "id": "1JpGHwAcPQvD",
        "outputId": "60a11a64-3a20-4078-a669-fa57ebebfc2d"
      },
      "execution_count": 17,
      "outputs": [
        {
          "output_type": "execute_result",
          "data": {
            "text/plain": [
              "numpy.ndarray"
            ]
          },
          "metadata": {},
          "execution_count": 17
        }
      ]
    },
    {
      "cell_type": "code",
      "source": [
        "x = torch.ones(1)\n",
        "print(x.item())"
      ],
      "metadata": {
        "colab": {
          "base_uri": "https://localhost:8080/"
        },
        "id": "ZIDdJZtbPZ1C",
        "outputId": "477bcd59-ce03-44cb-9572-6271061a2000"
      },
      "execution_count": 19,
      "outputs": [
        {
          "output_type": "stream",
          "name": "stdout",
          "text": [
            "1.0\n"
          ]
        }
      ]
    },
    {
      "cell_type": "code",
      "source": [
        "#역전파\n",
        "#(1)gradient tensor\n",
        "#미분과 연쇄 법칙을 통해 원하는 변수에 대한 미분값 계산가능\n",
        "import torch\n",
        "x = torch.ones(2,2,requires_grad=True) #requires_grad=True는 gradient를 계산가능하게 해줌.\n",
        "y = x+1\n",
        "z = 2*y**2\n",
        "r = z.mean()\n",
        "print(\"Result:\",r)"
      ],
      "metadata": {
        "colab": {
          "base_uri": "https://localhost:8080/"
        },
        "id": "FaTiTolTPlD1",
        "outputId": "b8abe3fe-82c9-4eb8-ba82-38bf16f60ef8"
      },
      "execution_count": 20,
      "outputs": [
        {
          "output_type": "stream",
          "name": "stdout",
          "text": [
            "Result: tensor(8., grad_fn=<MeanBackward0>)\n"
          ]
        }
      ]
    },
    {
      "cell_type": "code",
      "source": [
        "r.backward()\n",
        "print(x.grad)"
      ],
      "metadata": {
        "colab": {
          "base_uri": "https://localhost:8080/"
        },
        "id": "ecokc9KLQ_fJ",
        "outputId": "3809260e-9fb2-42b1-f186-ac806ce126c1"
      },
      "execution_count": 21,
      "outputs": [
        {
          "output_type": "stream",
          "name": "stdout",
          "text": [
            "tensor([[2., 2.],\n",
            "        [2., 2.]])\n"
          ]
        }
      ]
    },
    {
      "cell_type": "code",
      "source": [
        "#autograd\n",
        "#자동미분\n",
        "import torch\n",
        "from matplotlib import pyplot as plt\n",
        "x = torch.FloatTensor(range(5)).unsqueeze(1) #range(5) 까지만 봤을 때는 크기가 5인 1차원 배열, unsqueeze(1)을 이용하여 1차원 확장하여 2차원 배열로 만듦, unsqueeze(0)이면 (1,5) 배열\n",
        "y = 2*x + torch.rand(5,1)\n",
        "num_features = x.shape[1]\n",
        "w = torch.randn(num_features,1,requires_grad=True)\n",
        "b = torch.randn(1, requires_grad=True)\n",
        "#데이터는 불변해야하지만, w, b는 역전파를 통해 최적값을 찾는 것이므로 requires_grad=True 옵션 추가해주어야함."
      ],
      "metadata": {
        "id": "AaUZoYotRQ8l"
      },
      "execution_count": 31,
      "outputs": []
    },
    {
      "cell_type": "code",
      "source": [
        "#경사하강법\n",
        "#가중치를 업데이트하는 최적화 방법 중 가장 널리 쓰이는 방법\n",
        "learning_rate = 1e-3\n",
        "optimizer = torch.optim.SGD([w,b], lr=learning_rate) #w,b를 리스트로 묶어 넣어주고 적절한 학습률을 정하여 가중치/편향 업데이트\n",
        "loss_stack=[] #에포크 각각의 손실 값 저장을 위해 empty list 생성\n",
        "for epoch in range(1001): #학습은 1000회 반복\n",
        "\n",
        "  optimizer.zero_grad() # 누적 값을 optimizer.zero_grad()로 초기화\n",
        "  y_hat=torch.matmul(x,w) + b # 회귀식 모델을 이용한 예측값 산출\n",
        "  loss = torch.mean((y_hat-y)**2) # 예측값, 실제값으로 MSE(mean square error) 계산\n",
        "  loss.backward() # 역전파의 기준을 손실 함수로 정하기\n",
        "  optimizer.step() # optimizer로 최적화 실행\n",
        "  loss_stack.append(loss.item()) # 손실 함수 값만 loss_stack에 하나씩 넣기. 손실 함수를 그리기 위함이므로 꼭 손실 함수 값만 넣기. item()을 사용하지 않으면 텐서 전체가 저장됨. \n",
        "\n",
        "  if epoch % 100 == 0:\n",
        "    print(f'Epoch {epoch}:{loss.item()}') # 에포크가 100의 배수 일 때마다 손실 함수 값 출력"
      ],
      "metadata": {
        "colab": {
          "base_uri": "https://localhost:8080/"
        },
        "id": "5l6xG6IpSyRh",
        "outputId": "ab7447ee-814a-4450-a23a-847a55f95e8e"
      },
      "execution_count": 32,
      "outputs": [
        {
          "output_type": "stream",
          "name": "stdout",
          "text": [
            "Epoch 0:7.573495388031006\n",
            "Epoch 100:0.9421240091323853\n",
            "Epoch 200:0.44948697090148926\n",
            "Epoch 300:0.3751448094844818\n",
            "Epoch 400:0.3335861265659332\n",
            "Epoch 500:0.29834818840026855\n",
            "Epoch 600:0.2671864330768585\n",
            "Epoch 700:0.23954005539417267\n",
            "Epoch 800:0.21500590443611145\n",
            "Epoch 900:0.19323314726352692\n",
            "Epoch 1000:0.1739112138748169\n"
          ]
        }
      ]
    },
    {
      "cell_type": "code",
      "source": [
        "with torch.no_grad():\n",
        "  y_hat = torch.matmul(x,w) + b #최종 학습된 w, b로 예측값 산출, 최적화 사용은 없으므로 requires_grad는 사용하지 않음. with torch.no_grad()로 requires_grad가 작동하지 않게 할 수 있음."
      ],
      "metadata": {
        "id": "AI9AIzTEYwod"
      },
      "execution_count": 33,
      "outputs": []
    },
    {
      "cell_type": "code",
      "source": [
        "plt.figure(figsize=(10,5))\n",
        "plt.subplot(121)\n",
        "plt.plot(loss_stack)\n",
        "plt.title(\"Loss\")\n",
        "plt.subplot(122)\n",
        "plt.plot(x,y,'.b')\n",
        "plt.plot(x,y_hat,'r-')\n",
        "plt.legend(['ground truth','prediction'])\n",
        "plt.title(\"Prediction\")\n",
        "plt.show()"
      ],
      "metadata": {
        "colab": {
          "base_uri": "https://localhost:8080/",
          "height": 336
        },
        "id": "H95pxg4WZHDC",
        "outputId": "5994be4d-a354-45ef-f8be-ee6114714948"
      },
      "execution_count": 34,
      "outputs": [
        {
          "output_type": "display_data",
          "data": {
            "text/plain": [
              "<Figure size 720x360 with 2 Axes>"
            ],
            "image/png": "[encoded data removed]"
          },
          "metadata": {
            "needs_background": "light"
          }
        }
      ]
    }
  ]
}